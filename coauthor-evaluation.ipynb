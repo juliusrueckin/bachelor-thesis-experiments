{
 "cells": [
  {
   "cell_type": "code",
   "execution_count": 1,
   "metadata": {
    "collapsed": true
   },
   "outputs": [],
   "source": [
    "# import necessary packages\n",
    "import numpy as np\n",
    "import pandas as pd\n",
    "import json\n",
    "import pprint\n",
    "import matplotlib.pyplot as plt"
   ]
  },
  {
   "cell_type": "code",
   "execution_count": 2,
   "metadata": {
    "collapsed": true
   },
   "outputs": [],
   "source": [
    "# initialize pretty printer\n",
    "pp = pprint.PrettyPrinter(indent=4, depth=8)"
   ]
  },
  {
   "cell_type": "code",
   "execution_count": 3,
   "metadata": {
    "collapsed": true
   },
   "outputs": [],
   "source": [
    "# read verse, node2vec and deepwalk results from json-file\n",
    "results_folder = 'results/coauthor/'\n",
    "verse_results_path = results_folder + 'coauthor_verse_ppr_conference_classification.json'\n",
    "node2vec_results_path = results_folder + 'coauthor_node2vec_conference_classification.json'\n",
    "deepwalk_results_path = results_folder + 'coauthor_deepwalk_conference_classification.json'\n",
    "hete_verse_results_path = results_folder + 'coauthor_hete_verse_conference_classification.json'\n",
    "\n",
    "with open(verse_results_path, 'r') as results_file:\n",
    "    verse_results = json.load(results_file)\n",
    "\n",
    "with open(node2vec_results_path, 'r') as results_file:\n",
    "    node2vec_results = json.load(results_file)\n",
    "\n",
    "with open(deepwalk_results_path, 'r') as results_file:\n",
    "    deepwalk_results = json.load(results_file)\n",
    "\n",
    "with open(hete_verse_results_path, 'r') as results_file:\n",
    "    hete_verse_results = json.load(results_file)"
   ]
  },
  {
   "cell_type": "code",
   "execution_count": 4,
   "metadata": {
    "collapsed": true
   },
   "outputs": [],
   "source": [
    "# define used evaluation metrics\n",
    "evaluation_metrics = list(verse_results['parameterizations'][0]['runs'][0]['evaluation'].keys())"
   ]
  },
  {
   "cell_type": "code",
   "execution_count": 5,
   "metadata": {
    "collapsed": true
   },
   "outputs": [],
   "source": [
    "# dict of evaluation metrics with all performances scores over all runs for each hyper-parameter setting\n",
    "total_eval_results = []\n",
    "num_hyper_param_settings = len(verse_results['parameterizations'])\n",
    "for i in range(num_hyper_param_settings):\n",
    "    total_eval_results.append({})\n",
    "    total_eval_results[i]['params'] = verse_results['parameterizations'][i]['params']\n",
    "    total_eval_results[i]['eval'] = {}\n",
    "    for metric in evaluation_metrics:\n",
    "        total_eval_results[i]['eval'][metric] = []\n",
    "    for run in verse_results['parameterizations'][i]['runs']:\n",
    "        for metric in evaluation_metrics:\n",
    "            total_eval_results[i]['eval'][metric].append(run['evaluation'][metric])"
   ]
  },
  {
   "cell_type": "code",
   "execution_count": 6,
   "metadata": {
    "collapsed": true
   },
   "outputs": [],
   "source": [
    "# compute average performance per evaluation metric over all runs for each hyper-parameter setting\n",
    "for i in range(len(total_eval_results)):\n",
    "    for metric in evaluation_metrics:\n",
    "        total_eval_results[i]['eval'][metric + '_avg'] = np.mean(total_eval_results[i]['eval'][metric])"
   ]
  },
  {
   "cell_type": "code",
   "execution_count": 7,
   "metadata": {},
   "outputs": [
    {
     "name": "stdout",
     "output_type": "stream",
     "text": [
      "Embedding-Method: Verse-PPR\n",
      "Dataset: co-author\n",
      "Used embedding: \n",
      "Number of different hyper_parameter settings: 10\n"
     ]
    }
   ],
   "source": [
    "# print general information\n",
    "print('Embedding-Method: {}'.format(verse_results['method']))\n",
    "print('Dataset: {}'.format(verse_results['dataset']))\n",
    "print('Used embedding: {}'.format(verse_results['embedding_file']))\n",
    "print('Number of different hyper_parameter settings: {}'.format(len(verse_results['parameterizations'])))"
   ]
  },
  {
   "cell_type": "code",
   "execution_count": 8,
   "metadata": {},
   "outputs": [
    {
     "name": "stdout",
     "output_type": "stream",
     "text": [
      "Train size: 5.0%, Macro: 0.6761, Micro: 0.6766\n",
      "\n",
      "Train size: 10.0%, Macro: 0.6974, Micro: 0.6981\n",
      "\n",
      "Train size: 15.0%, Macro: 0.7182, Micro: 0.7189\n",
      "\n",
      "Train size: 20.0%, Macro: 0.7326, Micro: 0.7331\n",
      "\n",
      "Train size: 25.0%, Macro: 0.7407, Micro: 0.7411\n",
      "\n",
      "Train size: 30.0%, Macro: 0.7468, Micro: 0.747\n",
      "\n",
      "Train size: 35.0%, Macro: 0.7507, Micro: 0.7508\n",
      "\n",
      "Train size: 40.0%, Macro: 0.7526, Micro: 0.7527\n",
      "\n",
      "Train size: 45.0%, Macro: 0.7547, Micro: 0.7548\n",
      "\n",
      "Train size: 50.0%, Macro: 0.7575, Micro: 0.7576\n",
      "\n"
     ]
    }
   ],
   "source": [
    "# print average results per train size for verse embeddings on coauthor classification of conference per paper\n",
    "for i in range(len(total_eval_results)):\n",
    "    print(\"Train size: {}%, Macro: {}, Micro: {}\\n\".format(total_eval_results[i]['params']['train_size']*100,\n",
    "                                                          round(total_eval_results[i]['eval']['macro_avg'],4),\n",
    "                                                          round(total_eval_results[i]['eval']['micro_avg'],4)))"
   ]
  },
  {
   "cell_type": "code",
   "execution_count": 9,
   "metadata": {
    "collapsed": true
   },
   "outputs": [],
   "source": [
    "# dict of evaluation metrics with all performances scores over all runs for each hyper-parameter setting\n",
    "total_eval_results = []\n",
    "num_hyper_param_settings = len(node2vec_results['parameterizations'])\n",
    "for i in range(num_hyper_param_settings):\n",
    "    total_eval_results.append({})\n",
    "    total_eval_results[i]['params'] = node2vec_results['parameterizations'][i]['params']\n",
    "    total_eval_results[i]['eval'] = {}\n",
    "    for metric in evaluation_metrics:\n",
    "        total_eval_results[i]['eval'][metric] = []\n",
    "    for run in node2vec_results['parameterizations'][i]['runs']:\n",
    "        for metric in evaluation_metrics:\n",
    "            total_eval_results[i]['eval'][metric].append(run['evaluation'][metric])"
   ]
  },
  {
   "cell_type": "code",
   "execution_count": 10,
   "metadata": {
    "collapsed": true
   },
   "outputs": [],
   "source": [
    "# compute average performance per evaluation metric over all runs for each hyper-parameter setting\n",
    "for i in range(len(total_eval_results)):\n",
    "    for metric in evaluation_metrics:\n",
    "        total_eval_results[i]['eval'][metric + '_avg'] = np.mean(total_eval_results[i]['eval'][metric])"
   ]
  },
  {
   "cell_type": "code",
   "execution_count": 11,
   "metadata": {},
   "outputs": [
    {
     "name": "stdout",
     "output_type": "stream",
     "text": [
      "Embedding-Method: node2vec\n",
      "Dataset: co-author\n",
      "Used embedding: \n",
      "Number of different hyper_parameter settings: 10\n"
     ]
    }
   ],
   "source": [
    "# print general information\n",
    "print('Embedding-Method: {}'.format(node2vec_results['method']))\n",
    "print('Dataset: {}'.format(node2vec_results['dataset']))\n",
    "print('Used embedding: {}'.format(node2vec_results['embedding_file']))\n",
    "print('Number of different hyper_parameter settings: {}'.format(len(node2vec_results['parameterizations'])))"
   ]
  },
  {
   "cell_type": "code",
   "execution_count": 12,
   "metadata": {},
   "outputs": [
    {
     "name": "stdout",
     "output_type": "stream",
     "text": [
      "Train size: 5.0%, Macro: 0.6723, Micro: 0.6726\n",
      "\n",
      "Train size: 10.0%, Macro: 0.6978, Micro: 0.6984\n",
      "\n",
      "Train size: 15.0%, Macro: 0.7159, Micro: 0.7162\n",
      "\n",
      "Train size: 20.0%, Macro: 0.7285, Micro: 0.7287\n",
      "\n",
      "Train size: 25.0%, Macro: 0.7346, Micro: 0.7347\n",
      "\n",
      "Train size: 30.0%, Macro: 0.7403, Micro: 0.7403\n",
      "\n",
      "Train size: 35.0%, Macro: 0.7446, Micro: 0.7446\n",
      "\n",
      "Train size: 40.0%, Macro: 0.748, Micro: 0.7479\n",
      "\n",
      "Train size: 45.0%, Macro: 0.7502, Micro: 0.7501\n",
      "\n",
      "Train size: 50.0%, Macro: 0.7521, Micro: 0.7521\n",
      "\n"
     ]
    }
   ],
   "source": [
    "# print average results per train size for node2vec embeddings on coauthor classification of conference per paper\n",
    "for i in range(len(total_eval_results)):\n",
    "    print(\"Train size: {}%, Macro: {}, Micro: {}\\n\".format(total_eval_results[i]['params']['train_size']*100,\n",
    "                                                          round(total_eval_results[i]['eval']['macro_avg'],4),\n",
    "                                                          round(total_eval_results[i]['eval']['micro_avg'],4)))"
   ]
  },
  {
   "cell_type": "code",
   "execution_count": 13,
   "metadata": {
    "collapsed": true
   },
   "outputs": [],
   "source": [
    "# dict of evaluation metrics with all performances scores over all runs for each hyper-parameter setting\n",
    "total_eval_results = []\n",
    "num_hyper_param_settings = len(deepwalk_results['parameterizations'])\n",
    "for i in range(num_hyper_param_settings):\n",
    "    total_eval_results.append({})\n",
    "    total_eval_results[i]['params'] = deepwalk_results['parameterizations'][i]['params']\n",
    "    total_eval_results[i]['eval'] = {}\n",
    "    for metric in evaluation_metrics:\n",
    "        total_eval_results[i]['eval'][metric] = []\n",
    "    for run in deepwalk_results['parameterizations'][i]['runs']:\n",
    "        for metric in evaluation_metrics:\n",
    "            total_eval_results[i]['eval'][metric].append(run['evaluation'][metric])"
   ]
  },
  {
   "cell_type": "code",
   "execution_count": 14,
   "metadata": {
    "collapsed": true
   },
   "outputs": [],
   "source": [
    "# compute average performance per evaluation metric over all runs for each hyper-parameter setting\n",
    "for i in range(len(total_eval_results)):\n",
    "    for metric in evaluation_metrics:\n",
    "        total_eval_results[i]['eval'][metric + '_avg'] = np.mean(total_eval_results[i]['eval'][metric])"
   ]
  },
  {
   "cell_type": "code",
   "execution_count": 15,
   "metadata": {},
   "outputs": [
    {
     "name": "stdout",
     "output_type": "stream",
     "text": [
      "Embedding-Method: deepwalk\n",
      "Dataset: co-author\n",
      "Used embedding: \n",
      "Number of different hyper_parameter settings: 10\n"
     ]
    }
   ],
   "source": [
    "# print general information\n",
    "print('Embedding-Method: {}'.format(deepwalk_results['method']))\n",
    "print('Dataset: {}'.format(deepwalk_results['dataset']))\n",
    "print('Used embedding: {}'.format(deepwalk_results['embedding_file']))\n",
    "print('Number of different hyper_parameter settings: {}'.format(len(deepwalk_results['parameterizations'])))"
   ]
  },
  {
   "cell_type": "code",
   "execution_count": 16,
   "metadata": {},
   "outputs": [
    {
     "name": "stdout",
     "output_type": "stream",
     "text": [
      "Train size: 5.0%, Macro: 0.658, Micro: 0.6619\n",
      "\n",
      "Train size: 10.0%, Macro: 0.688, Micro: 0.6908\n",
      "\n",
      "Train size: 15.0%, Macro: 0.7063, Micro: 0.7089\n",
      "\n",
      "Train size: 20.0%, Macro: 0.7199, Micro: 0.722\n",
      "\n",
      "Train size: 25.0%, Macro: 0.7263, Micro: 0.7283\n",
      "\n",
      "Train size: 30.0%, Macro: 0.7325, Micro: 0.7342\n",
      "\n",
      "Train size: 35.0%, Macro: 0.7351, Micro: 0.7368\n",
      "\n",
      "Train size: 40.0%, Macro: 0.7378, Micro: 0.7395\n",
      "\n",
      "Train size: 45.0%, Macro: 0.7406, Micro: 0.7424\n",
      "\n",
      "Train size: 50.0%, Macro: 0.7431, Micro: 0.7447\n",
      "\n"
     ]
    }
   ],
   "source": [
    "# print average results per train size for node2vec embeddings on coauthor classification of conference per paper\n",
    "for i in range(len(total_eval_results)):\n",
    "    print(\"Train size: {}%, Macro: {}, Micro: {}\\n\".format(total_eval_results[i]['params']['train_size']*100,\n",
    "                                                          round(total_eval_results[i]['eval']['macro_avg'],4),\n",
    "                                                          round(total_eval_results[i]['eval']['micro_avg'],4)))"
   ]
  },
  {
   "cell_type": "code",
   "execution_count": 17,
   "metadata": {
    "collapsed": true
   },
   "outputs": [],
   "source": [
    "# dict of evaluation metrics with all performances scores over all runs for each hyper-parameter setting\n",
    "total_eval_results = []\n",
    "num_hyper_param_settings = len(hete_verse_results['parameterizations'])\n",
    "for i in range(num_hyper_param_settings):\n",
    "    total_eval_results.append({})\n",
    "    total_eval_results[i]['params'] = hete_verse_results['parameterizations'][i]['params']\n",
    "    total_eval_results[i]['eval'] = {}\n",
    "    for metric in evaluation_metrics:\n",
    "        total_eval_results[i]['eval'][metric] = []\n",
    "    for run in hete_verse_results['parameterizations'][i]['runs']:\n",
    "        for metric in evaluation_metrics:\n",
    "            total_eval_results[i]['eval'][metric].append(run['evaluation'][metric])"
   ]
  },
  {
   "cell_type": "code",
   "execution_count": 18,
   "metadata": {
    "collapsed": true
   },
   "outputs": [],
   "source": [
    "# compute average performance per evaluation metric over all runs for each hyper-parameter setting\n",
    "for i in range(len(total_eval_results)):\n",
    "    for metric in evaluation_metrics:\n",
    "        total_eval_results[i]['eval'][metric + '_avg'] = np.mean(total_eval_results[i]['eval'][metric])"
   ]
  },
  {
   "cell_type": "code",
   "execution_count": 19,
   "metadata": {},
   "outputs": [
    {
     "name": "stdout",
     "output_type": "stream",
     "text": [
      "Embedding-Method: hete-VERSE\n",
      "Dataset: co-author\n",
      "Used embedding: \n",
      "Number of different hyper_parameter settings: 10\n"
     ]
    }
   ],
   "source": [
    "# print general information\n",
    "print('Embedding-Method: {}'.format(hete_verse_results['method']))\n",
    "print('Dataset: {}'.format(hete_verse_results['dataset']))\n",
    "print('Used embedding: {}'.format(hete_verse_results['embedding_file']))\n",
    "print('Number of different hyper_parameter settings: {}'.format(len(hete_verse_results['parameterizations'])))"
   ]
  },
  {
   "cell_type": "code",
   "execution_count": 20,
   "metadata": {},
   "outputs": [
    {
     "name": "stdout",
     "output_type": "stream",
     "text": [
      "Train size: 5.0%, Macro: 0.5128, Micro: 0.5127\n",
      "\n",
      "Train size: 10.0%, Macro: 0.5558, Micro: 0.5556\n",
      "\n",
      "Train size: 15.0%, Macro: 0.5868, Micro: 0.5864\n",
      "\n",
      "Train size: 20.0%, Macro: 0.6017, Micro: 0.6011\n",
      "\n",
      "Train size: 25.0%, Macro: 0.6114, Micro: 0.6108\n",
      "\n",
      "Train size: 30.0%, Macro: 0.6186, Micro: 0.6178\n",
      "\n",
      "Train size: 35.0%, Macro: 0.622, Micro: 0.6212\n",
      "\n",
      "Train size: 40.0%, Macro: 0.6264, Micro: 0.6256\n",
      "\n",
      "Train size: 45.0%, Macro: 0.6292, Micro: 0.6286\n",
      "\n",
      "Train size: 50.0%, Macro: 0.6296, Micro: 0.6291\n",
      "\n"
     ]
    }
   ],
   "source": [
    "# print average results per train size for hete-verse embeddings on coauthor classification of conference per paper\n",
    "for i in range(len(total_eval_results)):\n",
    "    print(\"Train size: {}%, Macro: {}, Micro: {}\\n\".format(total_eval_results[i]['params']['train_size']*100,\n",
    "                                                          round(total_eval_results[i]['eval']['macro_avg'],4),\n",
    "                                                          round(total_eval_results[i]['eval']['micro_avg'],4)))"
   ]
  }
 ],
 "metadata": {
  "kernelspec": {
   "display_name": "Python 3",
   "language": "python",
   "name": "python3"
  },
  "language_info": {
   "codemirror_mode": {
    "name": "ipython",
    "version": 3
   },
   "file_extension": ".py",
   "mimetype": "text/x-python",
   "name": "python",
   "nbconvert_exporter": "python",
   "pygments_lexer": "ipython3",
   "version": "3.6.3"
  }
 },
 "nbformat": 4,
 "nbformat_minor": 2
}
