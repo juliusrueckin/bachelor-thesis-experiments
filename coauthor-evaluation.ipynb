{
 "cells": [
  {
   "cell_type": "code",
   "execution_count": 2,
   "metadata": {
    "collapsed": true
   },
   "outputs": [],
   "source": [
    "# import necessary packages\n",
    "import numpy as np\n",
    "import pandas as pd\n",
    "import json\n",
    "import pprint\n",
    "import matplotlib.pyplot as plt"
   ]
  },
  {
   "cell_type": "code",
   "execution_count": 3,
   "metadata": {
    "collapsed": true
   },
   "outputs": [],
   "source": [
    "# initialize pretty printer\n",
    "pp = pprint.PrettyPrinter(indent=4, depth=8)"
   ]
  },
  {
   "cell_type": "code",
   "execution_count": 4,
   "metadata": {},
   "outputs": [],
   "source": [
    "# read verse, node2vec and deepwalk results from json-file\n",
    "results_folder = 'results/coauthor/'\n",
    "verse_results_path = results_folder + 'coauthor2_verse_ppr_conference_classification.json'\n",
    "node2vec_results_path = results_folder + 'coauthor2_node2vec_conference_classification.json'\n",
    "deepwalk_results_path = results_folder + 'coauthor2_deepwalk_conference_classification.json'\n",
    "hete_verse_results_path = results_folder + 'coauthor2_hete_verse_conference_classification_v2.json'\n",
    "\n",
    "with open(verse_results_path, 'r') as results_file:\n",
    "    verse_results = json.load(results_file)\n",
    "\n",
    "with open(node2vec_results_path, 'r') as results_file:\n",
    "    node2vec_results = json.load(results_file)\n",
    "\n",
    "with open(deepwalk_results_path, 'r') as results_file:\n",
    "    deepwalk_results = json.load(results_file)\n",
    "\n",
    "with open(hete_verse_results_path, 'r') as results_file:\n",
    "    hete_verse_results = json.load(results_file)"
   ]
  },
  {
   "cell_type": "code",
   "execution_count": 5,
   "metadata": {
    "collapsed": true
   },
   "outputs": [],
   "source": [
    "# define used evaluation metrics\n",
    "evaluation_metrics = list(verse_results['parameterizations'][0]['runs'][0]['evaluation'].keys())"
   ]
  },
  {
   "cell_type": "code",
   "execution_count": 6,
   "metadata": {
    "collapsed": true
   },
   "outputs": [],
   "source": [
    "# dict of evaluation metrics with all performances scores over all runs for each hyper-parameter setting\n",
    "total_eval_results = []\n",
    "num_hyper_param_settings = len(verse_results['parameterizations'])\n",
    "for i in range(num_hyper_param_settings):\n",
    "    total_eval_results.append({})\n",
    "    total_eval_results[i]['params'] = verse_results['parameterizations'][i]['params']\n",
    "    total_eval_results[i]['eval'] = {}\n",
    "    for metric in evaluation_metrics:\n",
    "        total_eval_results[i]['eval'][metric] = []\n",
    "    for run in verse_results['parameterizations'][i]['runs']:\n",
    "        for metric in evaluation_metrics:\n",
    "            total_eval_results[i]['eval'][metric].append(run['evaluation'][metric])"
   ]
  },
  {
   "cell_type": "code",
   "execution_count": 7,
   "metadata": {
    "collapsed": true
   },
   "outputs": [],
   "source": [
    "# compute average performance per evaluation metric over all runs for each hyper-parameter setting\n",
    "for i in range(len(total_eval_results)):\n",
    "    for metric in evaluation_metrics:\n",
    "        total_eval_results[i]['eval'][metric + '_avg'] = np.mean(total_eval_results[i]['eval'][metric])"
   ]
  },
  {
   "cell_type": "code",
   "execution_count": 8,
   "metadata": {},
   "outputs": [
    {
     "name": "stdout",
     "output_type": "stream",
     "text": [
      "Embedding-Method: Verse-PPR\n",
      "Dataset: co-author\n",
      "Used embedding: \n",
      "Number of different hyper_parameter settings: 10\n"
     ]
    }
   ],
   "source": [
    "# print general information\n",
    "print('Embedding-Method: {}'.format(verse_results['method']))\n",
    "print('Dataset: {}'.format(verse_results['dataset']))\n",
    "print('Used embedding: {}'.format(verse_results['embedding_file']))\n",
    "print('Number of different hyper_parameter settings: {}'.format(len(verse_results['parameterizations'])))"
   ]
  },
  {
   "cell_type": "code",
   "execution_count": 9,
   "metadata": {},
   "outputs": [
    {
     "name": "stdout",
     "output_type": "stream",
     "text": [
      "Train size: 5.0%, Macro: 0.6805, Micro: 0.6808\n",
      "\n",
      "Train size: 10.0%, Macro: 0.6951, Micro: 0.6956\n",
      "\n",
      "Train size: 15.0%, Macro: 0.7178, Micro: 0.7182\n",
      "\n",
      "Train size: 20.0%, Macro: 0.7317, Micro: 0.732\n",
      "\n",
      "Train size: 25.0%, Macro: 0.7384, Micro: 0.7385\n",
      "\n",
      "Train size: 30.0%, Macro: 0.7451, Micro: 0.7451\n",
      "\n",
      "Train size: 35.0%, Macro: 0.7481, Micro: 0.7481\n",
      "\n",
      "Train size: 40.0%, Macro: 0.7516, Micro: 0.7516\n",
      "\n",
      "Train size: 45.0%, Macro: 0.7543, Micro: 0.7542\n",
      "\n",
      "Train size: 50.0%, Macro: 0.7556, Micro: 0.7556\n",
      "\n"
     ]
    }
   ],
   "source": [
    "# print average results per train size for verse embeddings on coauthor classification of conference per paper\n",
    "for i in range(len(total_eval_results)):\n",
    "    print(\"Train size: {}%, Macro: {}, Micro: {}\\n\".format(total_eval_results[i]['params']['train_size']*100,\n",
    "                                                          round(total_eval_results[i]['eval']['macro_avg'],4),\n",
    "                                                          round(total_eval_results[i]['eval']['micro_avg'],4)))"
   ]
  },
  {
   "cell_type": "code",
   "execution_count": 10,
   "metadata": {
    "collapsed": true
   },
   "outputs": [],
   "source": [
    "# dict of evaluation metrics with all performances scores over all runs for each hyper-parameter setting\n",
    "total_eval_results = []\n",
    "num_hyper_param_settings = len(node2vec_results['parameterizations'])\n",
    "for i in range(num_hyper_param_settings):\n",
    "    total_eval_results.append({})\n",
    "    total_eval_results[i]['params'] = node2vec_results['parameterizations'][i]['params']\n",
    "    total_eval_results[i]['eval'] = {}\n",
    "    for metric in evaluation_metrics:\n",
    "        total_eval_results[i]['eval'][metric] = []\n",
    "    for run in node2vec_results['parameterizations'][i]['runs']:\n",
    "        for metric in evaluation_metrics:\n",
    "            total_eval_results[i]['eval'][metric].append(run['evaluation'][metric])"
   ]
  },
  {
   "cell_type": "code",
   "execution_count": 11,
   "metadata": {
    "collapsed": true
   },
   "outputs": [],
   "source": [
    "# compute average performance per evaluation metric over all runs for each hyper-parameter setting\n",
    "for i in range(len(total_eval_results)):\n",
    "    for metric in evaluation_metrics:\n",
    "        total_eval_results[i]['eval'][metric + '_avg'] = np.mean(total_eval_results[i]['eval'][metric])"
   ]
  },
  {
   "cell_type": "code",
   "execution_count": 12,
   "metadata": {},
   "outputs": [
    {
     "name": "stdout",
     "output_type": "stream",
     "text": [
      "Embedding-Method: node2vec\n",
      "Dataset: co-author\n",
      "Used embedding: \n",
      "Number of different hyper_parameter settings: 10\n"
     ]
    }
   ],
   "source": [
    "# print general information\n",
    "print('Embedding-Method: {}'.format(node2vec_results['method']))\n",
    "print('Dataset: {}'.format(node2vec_results['dataset']))\n",
    "print('Used embedding: {}'.format(node2vec_results['embedding_file']))\n",
    "print('Number of different hyper_parameter settings: {}'.format(len(node2vec_results['parameterizations'])))"
   ]
  },
  {
   "cell_type": "code",
   "execution_count": 13,
   "metadata": {},
   "outputs": [
    {
     "name": "stdout",
     "output_type": "stream",
     "text": [
      "Train size: 5.0%, Macro: 0.6681, Micro: 0.6683\n",
      "\n",
      "Train size: 10.0%, Macro: 0.6917, Micro: 0.6917\n",
      "\n",
      "Train size: 15.0%, Macro: 0.709, Micro: 0.709\n",
      "\n",
      "Train size: 20.0%, Macro: 0.7197, Micro: 0.7198\n",
      "\n",
      "Train size: 25.0%, Macro: 0.7277, Micro: 0.7275\n",
      "\n",
      "Train size: 30.0%, Macro: 0.7332, Micro: 0.7331\n",
      "\n",
      "Train size: 35.0%, Macro: 0.7382, Micro: 0.7381\n",
      "\n",
      "Train size: 40.0%, Macro: 0.7416, Micro: 0.7415\n",
      "\n",
      "Train size: 45.0%, Macro: 0.7423, Micro: 0.7422\n",
      "\n",
      "Train size: 50.0%, Macro: 0.7435, Micro: 0.7434\n",
      "\n"
     ]
    }
   ],
   "source": [
    "# print average results per train size for node2vec embeddings on coauthor classification of conference per paper\n",
    "for i in range(len(total_eval_results)):\n",
    "    print(\"Train size: {}%, Macro: {}, Micro: {}\\n\".format(total_eval_results[i]['params']['train_size']*100,\n",
    "                                                          round(total_eval_results[i]['eval']['macro_avg'],4),\n",
    "                                                          round(total_eval_results[i]['eval']['micro_avg'],4)))"
   ]
  },
  {
   "cell_type": "code",
   "execution_count": 14,
   "metadata": {
    "collapsed": true
   },
   "outputs": [],
   "source": [
    "# dict of evaluation metrics with all performances scores over all runs for each hyper-parameter setting\n",
    "total_eval_results = []\n",
    "num_hyper_param_settings = len(deepwalk_results['parameterizations'])\n",
    "for i in range(num_hyper_param_settings):\n",
    "    total_eval_results.append({})\n",
    "    total_eval_results[i]['params'] = deepwalk_results['parameterizations'][i]['params']\n",
    "    total_eval_results[i]['eval'] = {}\n",
    "    for metric in evaluation_metrics:\n",
    "        total_eval_results[i]['eval'][metric] = []\n",
    "    for run in deepwalk_results['parameterizations'][i]['runs']:\n",
    "        for metric in evaluation_metrics:\n",
    "            total_eval_results[i]['eval'][metric].append(run['evaluation'][metric])"
   ]
  },
  {
   "cell_type": "code",
   "execution_count": 15,
   "metadata": {
    "collapsed": true
   },
   "outputs": [],
   "source": [
    "# compute average performance per evaluation metric over all runs for each hyper-parameter setting\n",
    "for i in range(len(total_eval_results)):\n",
    "    for metric in evaluation_metrics:\n",
    "        total_eval_results[i]['eval'][metric + '_avg'] = np.mean(total_eval_results[i]['eval'][metric])"
   ]
  },
  {
   "cell_type": "code",
   "execution_count": 16,
   "metadata": {},
   "outputs": [
    {
     "name": "stdout",
     "output_type": "stream",
     "text": [
      "Embedding-Method: deepwalk\n",
      "Dataset: co-author\n",
      "Used embedding: \n",
      "Number of different hyper_parameter settings: 10\n"
     ]
    }
   ],
   "source": [
    "# print general information\n",
    "print('Embedding-Method: {}'.format(deepwalk_results['method']))\n",
    "print('Dataset: {}'.format(deepwalk_results['dataset']))\n",
    "print('Used embedding: {}'.format(deepwalk_results['embedding_file']))\n",
    "print('Number of different hyper_parameter settings: {}'.format(len(deepwalk_results['parameterizations'])))"
   ]
  },
  {
   "cell_type": "code",
   "execution_count": 17,
   "metadata": {},
   "outputs": [
    {
     "name": "stdout",
     "output_type": "stream",
     "text": [
      "Train size: 5.0%, Macro: 0.659, Micro: 0.6628\n",
      "\n",
      "Train size: 10.0%, Macro: 0.6845, Micro: 0.6871\n",
      "\n",
      "Train size: 15.0%, Macro: 0.7044, Micro: 0.7069\n",
      "\n",
      "Train size: 20.0%, Macro: 0.717, Micro: 0.7193\n",
      "\n",
      "Train size: 25.0%, Macro: 0.725, Micro: 0.7269\n",
      "\n",
      "Train size: 30.0%, Macro: 0.7312, Micro: 0.7329\n",
      "\n",
      "Train size: 35.0%, Macro: 0.7331, Micro: 0.7348\n",
      "\n",
      "Train size: 40.0%, Macro: 0.7355, Micro: 0.7372\n",
      "\n",
      "Train size: 45.0%, Macro: 0.7369, Micro: 0.7385\n",
      "\n",
      "Train size: 50.0%, Macro: 0.737, Micro: 0.7387\n",
      "\n"
     ]
    }
   ],
   "source": [
    "# print average results per train size for node2vec embeddings on coauthor classification of conference per paper\n",
    "for i in range(len(total_eval_results)):\n",
    "    print(\"Train size: {}%, Macro: {}, Micro: {}\\n\".format(total_eval_results[i]['params']['train_size']*100,\n",
    "                                                          round(total_eval_results[i]['eval']['macro_avg'],4),\n",
    "                                                          round(total_eval_results[i]['eval']['micro_avg'],4)))"
   ]
  },
  {
   "cell_type": "code",
   "execution_count": 18,
   "metadata": {
    "collapsed": true
   },
   "outputs": [],
   "source": [
    "# dict of evaluation metrics with all performances scores over all runs for each hyper-parameter setting\n",
    "total_eval_results = []\n",
    "num_hyper_param_settings = len(hete_verse_results['parameterizations'])\n",
    "for i in range(num_hyper_param_settings):\n",
    "    total_eval_results.append({})\n",
    "    total_eval_results[i]['params'] = hete_verse_results['parameterizations'][i]['params']\n",
    "    total_eval_results[i]['eval'] = {}\n",
    "    for metric in evaluation_metrics:\n",
    "        total_eval_results[i]['eval'][metric] = []\n",
    "    for run in hete_verse_results['parameterizations'][i]['runs']:\n",
    "        for metric in evaluation_metrics:\n",
    "            total_eval_results[i]['eval'][metric].append(run['evaluation'][metric])"
   ]
  },
  {
   "cell_type": "code",
   "execution_count": 19,
   "metadata": {
    "collapsed": true
   },
   "outputs": [],
   "source": [
    "# compute average performance per evaluation metric over all runs for each hyper-parameter setting\n",
    "for i in range(len(total_eval_results)):\n",
    "    for metric in evaluation_metrics:\n",
    "        total_eval_results[i]['eval'][metric + '_avg'] = np.mean(total_eval_results[i]['eval'][metric])"
   ]
  },
  {
   "cell_type": "code",
   "execution_count": 20,
   "metadata": {},
   "outputs": [
    {
     "name": "stdout",
     "output_type": "stream",
     "text": [
      "Embedding-Method: hete-VERSE\n",
      "Dataset: co-author\n",
      "Used embedding: \n",
      "Number of different hyper_parameter settings: 10\n"
     ]
    }
   ],
   "source": [
    "# print general information\n",
    "print('Embedding-Method: {}'.format(hete_verse_results['method']))\n",
    "print('Dataset: {}'.format(hete_verse_results['dataset']))\n",
    "print('Used embedding: {}'.format(hete_verse_results['embedding_file']))\n",
    "print('Number of different hyper_parameter settings: {}'.format(len(hete_verse_results['parameterizations'])))"
   ]
  },
  {
   "cell_type": "code",
   "execution_count": 21,
   "metadata": {},
   "outputs": [
    {
     "name": "stdout",
     "output_type": "stream",
     "text": [
      "Train size: 5.0%, Macro: 0.4484, Micro: 0.4486\n",
      "\n",
      "Train size: 10.0%, Macro: 0.496, Micro: 0.4958\n",
      "\n",
      "Train size: 15.0%, Macro: 0.5251, Micro: 0.5245\n",
      "\n",
      "Train size: 20.0%, Macro: 0.5425, Micro: 0.542\n",
      "\n",
      "Train size: 25.0%, Macro: 0.5543, Micro: 0.5536\n",
      "\n",
      "Train size: 30.0%, Macro: 0.5587, Micro: 0.558\n",
      "\n",
      "Train size: 35.0%, Macro: 0.5641, Micro: 0.5635\n",
      "\n",
      "Train size: 40.0%, Macro: 0.568, Micro: 0.5674\n",
      "\n",
      "Train size: 45.0%, Macro: 0.5711, Micro: 0.5702\n",
      "\n",
      "Train size: 50.0%, Macro: 0.5743, Micro: 0.5736\n",
      "\n"
     ]
    }
   ],
   "source": [
    "# print average results per train size for hete-verse embeddings on coauthor classification of conference per paper\n",
    "for i in range(len(total_eval_results)):\n",
    "    print(\"Train size: {}%, Macro: {}, Micro: {}\\n\".format(total_eval_results[i]['params']['train_size']*100,\n",
    "                                                          round(total_eval_results[i]['eval']['macro_avg'],4),\n",
    "                                                          round(total_eval_results[i]['eval']['micro_avg'],4)))"
   ]
  }
 ],
 "metadata": {
  "kernelspec": {
   "display_name": "Python 3",
   "language": "python",
   "name": "python3"
  },
  "language_info": {
   "codemirror_mode": {
    "name": "ipython",
    "version": 3
   },
   "file_extension": ".py",
   "mimetype": "text/x-python",
   "name": "python",
   "nbconvert_exporter": "python",
   "pygments_lexer": "ipython3",
   "version": "3.6.3"
  }
 },
 "nbformat": 4,
 "nbformat_minor": 2
}
