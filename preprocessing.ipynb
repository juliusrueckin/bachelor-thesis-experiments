{
 "cells": [
  {
   "cell_type": "code",
   "execution_count": 1,
   "metadata": {
    "collapsed": true
   },
   "outputs": [],
   "source": [
    "# import necessary stuff\n",
    "import numpy as np\n",
    "import pandas as pd\n",
    "import matplotlib.pyplot as plt\n",
    "import networkx as nx"
   ]
  },
  {
   "cell_type": "code",
   "execution_count": 2,
   "metadata": {
    "collapsed": true
   },
   "outputs": [],
   "source": [
    "# define dataset file paths\n",
    "dataset_path = 'data/BlogCatalog-dataset/data/'\n",
    "friend_edges_csv_path = dataset_path + 'edges.csv'\n",
    "group_edges_csv_path = dataset_path + 'group-edges.csv'\n",
    "groups_csv_path = dataset_path + 'groups.csv'\n",
    "bloggers_csv_path = dataset_path + 'nodes.csv'"
   ]
  },
  {
   "cell_type": "code",
   "execution_count": 3,
   "metadata": {
    "collapsed": true
   },
   "outputs": [],
   "source": [
    "# store cvs contents in dataframe\n",
    "friend_edges_df = pd.read_csv(friend_edges_csv_path, sep=',', header=None, dtype={0: str, 1:str})\n",
    "group_edges_df = pd.read_csv(group_edges_csv_path, sep=',', header=None, dtype={0: str, 1:str})\n",
    "groups_df = pd.read_csv(groups_csv_path, sep=',', header=None, dtype={0: str})\n",
    "bloggers_df = pd.read_csv(bloggers_csv_path, sep=',', header=None, dtype={0: str})"
   ]
  },
  {
   "cell_type": "code",
   "execution_count": 4,
   "metadata": {
    "collapsed": true
   },
   "outputs": [],
   "source": [
    "# give bloggers and groups unique node-ids\n",
    "bloggers_df[0] = 'b' + bloggers_df[0]\n",
    "friend_edges_df = 'b' + friend_edges_df\n",
    "groups_df[0] = 'g' + groups_df[0]\n",
    "group_edges_df[0] = 'b' + group_edges_df[0]\n",
    "group_edges_df[1] = 'g' + group_edges_df[1]"
   ]
  },
  {
   "cell_type": "code",
   "execution_count": 5,
   "metadata": {
    "collapsed": true
   },
   "outputs": [],
   "source": [
    "# define networkx graph\n",
    "blog_catalog_graph = nx.Graph()"
   ]
  },
  {
   "cell_type": "code",
   "execution_count": 6,
   "metadata": {
    "collapsed": true
   },
   "outputs": [],
   "source": [
    "# define node and edge label constants\n",
    "IS_MEMBER_OF = 'is_member_of'\n",
    "IS_FRIEND_WITH = 'is_friend_with'\n",
    "BLOGGER = 'blogger'\n",
    "GROUP = 'group'"
   ]
  },
  {
   "cell_type": "code",
   "execution_count": 7,
   "metadata": {},
   "outputs": [
    {
     "name": "stdout",
     "output_type": "stream",
     "text": [
      "10312 nodes in graph\n",
      "10351 nodes in graph\n"
     ]
    }
   ],
   "source": [
    "# add blogger nodes to graph\n",
    "blog_catalog_graph.add_nodes_from(bloggers_df[0].tolist())\n",
    "print(\"{} nodes in graph\".format(blog_catalog_graph.number_of_nodes()))\n",
    "blog_catalog_graph.add_nodes_from(groups_df[0].tolist())\n",
    "print(\"{} nodes in graph\".format(blog_catalog_graph.number_of_nodes()))"
   ]
  },
  {
   "cell_type": "code",
   "execution_count": 8,
   "metadata": {},
   "outputs": [],
   "source": [
    "# create edge tuples from dataframe\n",
    "group_edges = list(zip(group_edges_df[0].tolist(), group_edges_df[1].tolist()))\n",
    "friend_edges = list(zip(friend_edges_df[0].tolist(), friend_edges_df[1].tolist()))"
   ]
  },
  {
   "cell_type": "code",
   "execution_count": 9,
   "metadata": {},
   "outputs": [
    {
     "name": "stdout",
     "output_type": "stream",
     "text": [
      "14476 edges in graph\n",
      "10351 nodes in graph\n"
     ]
    }
   ],
   "source": [
    "# add (blogger)-[is_member_of]-(group) edges to graph\n",
    "blog_catalog_graph.add_edges_from(group_edges, label=IS_MEMBER_OF)\n",
    "print(\"{} edges in graph\".format(blog_catalog_graph.number_of_edges()))\n",
    "print(\"{} nodes in graph\".format(blog_catalog_graph.number_of_nodes()))"
   ]
  },
  {
   "cell_type": "code",
   "execution_count": 10,
   "metadata": {},
   "outputs": [
    {
     "name": "stdout",
     "output_type": "stream",
     "text": [
      "348459 edges in graph\n",
      "10351 nodes in graph\n"
     ]
    }
   ],
   "source": [
    "# add (blogger)-[is_friend_with]-(blogger) edges to graph\n",
    "blog_catalog_graph.add_edges_from(friend_edges, label=IS_FRIEND_WITH)\n",
    "print(\"{} edges in graph\".format(blog_catalog_graph.number_of_edges()))\n",
    "print(\"{} nodes in graph\".format(blog_catalog_graph.number_of_nodes()))"
   ]
  },
  {
   "cell_type": "code",
   "execution_count": 11,
   "metadata": {
    "collapsed": true
   },
   "outputs": [],
   "source": [
    "# export graph as edge list to given path\n",
    "edge_list_export_path = dataset_path + 'blogcatalog_edgelist.csv'\n",
    "nx.write_edgelist(blog_catalog_graph, edge_list_export_path, data=False)"
   ]
  }
 ],
 "metadata": {
  "kernelspec": {
   "display_name": "Python 3",
   "language": "python",
   "name": "python3"
  },
  "language_info": {
   "codemirror_mode": {
    "name": "ipython",
    "version": 3
   },
   "file_extension": ".py",
   "mimetype": "text/x-python",
   "name": "python",
   "nbconvert_exporter": "python",
   "pygments_lexer": "ipython3",
   "version": "3.6.3"
  }
 },
 "nbformat": 4,
 "nbformat_minor": 2
}
