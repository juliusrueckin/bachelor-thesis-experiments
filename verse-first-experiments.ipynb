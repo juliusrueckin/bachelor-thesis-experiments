{
 "cells": [
  {
   "cell_type": "code",
   "execution_count": 1,
   "metadata": {
    "collapsed": true
   },
   "outputs": [],
   "source": [
    "# import necessary stuff and python-wrapper of verse\n",
    "import os\n",
    "import numpy as np\n",
    "from scipy.sparse import csr_matrix\n",
    "\n",
    "from verse.python.wrapper import VERSE"
   ]
  },
  {
   "cell_type": "code",
   "execution_count": 2,
   "metadata": {
    "collapsed": true
   },
   "outputs": [],
   "source": [
    "# define path to c++ inplementation of verse and its *.so compiled files\n",
    "# instantiate verse algorithm object\n",
    "cpath = os.path.dirname(os.path.realpath('verse/src/verse.cpp'))\n",
    "verse = VERSE(cpath=cpath)"
   ]
  },
  {
   "cell_type": "code",
   "execution_count": 3,
   "metadata": {
    "collapsed": true
   },
   "outputs": [],
   "source": [
    "# construct example adjacency matrix in csr format\n",
    "row = np.array([0, 0, 1, 2, 2, 2])\n",
    "col = np.array([0, 2, 2, 0, 1, 2])\n",
    "data = np.array([1, 2, 3, 4, 5, 6])\n",
    "\n",
    "csr_adjacency_matrix = csr_matrix((data, (row, col)), shape=(6, 6))"
   ]
  },
  {
   "cell_type": "code",
   "execution_count": 4,
   "metadata": {
    "collapsed": true
   },
   "outputs": [],
   "source": [
    "# define hyper-parameters for verse with personalized page rank as sim_G function\n",
    "w=None\n",
    "n_hidden=128\n",
    "steps=100000\n",
    "n_neg_samples=3\n",
    "lr=0.0025\n",
    "rng_seed=0\n",
    "n_threads=-1\n",
    "graph = csr_adjacency_matrix"
   ]
  },
  {
   "cell_type": "code",
   "execution_count": 5,
   "metadata": {},
   "outputs": [],
   "source": [
    "# compute node embeddings\n",
    "# ATTENTION: takes a while until termination and cannot be terminated through restarting kernel\n",
    "# Need to kill terminal, where jupyter notebook is started in in order to kill c++-process\n",
    "verse_ppr_embeddings = verse.verse_ppr(graph)"
   ]
  },
  {
   "cell_type": "code",
   "execution_count": 6,
   "metadata": {},
   "outputs": [
    {
     "name": "stdout",
     "output_type": "stream",
     "text": [
      "Initialize multi-class classification experiment with Verse-PPR on Test-Data evaluated through both on 50.0% train data!\n"
     ]
    }
   ],
   "source": [
    "from benchmarks import MultiClassClassification\n",
    "\n",
    "verse_ppr_experiment = MultiClassClassification(method_name='Verse-PPR', dataset_name='Test-Data', \n",
    "                                                performance_function='both', train_size=0.5,\n",
    "                                               embeddings=verse_ppr_embeddings, node_labels=[0,1,1,0,0,1])"
   ]
  },
  {
   "cell_type": "code",
   "execution_count": 7,
   "metadata": {},
   "outputs": [
    {
     "name": "stdout",
     "output_type": "stream",
     "text": [
      "Train multi-class classification experiment with Verse-PPR on Test-Data evaluated through both on 50.0% train data!\n",
      "convergence after 42 epochs took 0 seconds\n",
      "Trained multi-class classification experiment in 0.0 sec.!\n"
     ]
    },
    {
     "name": "stderr",
     "output_type": "stream",
     "text": [
      "[Parallel(n_jobs=1)]: Done   1 out of   1 | elapsed:    0.0s finished\n"
     ]
    }
   ],
   "source": [
    "logistic_regression_model = verse_ppr_experiment.train()"
   ]
  },
  {
   "cell_type": "code",
   "execution_count": 8,
   "metadata": {},
   "outputs": [
    {
     "name": "stdout",
     "output_type": "stream",
     "text": [
      "Predict multi-class classification experiment with Verse-PPR on Test-Data evaluated through both on 50.0% train data!\n",
      "Predicted multi-class classification experiment in 0.0 sec.!\n"
     ]
    },
    {
     "data": {
      "text/plain": [
       "array([0, 0, 0])"
      ]
     },
     "execution_count": 8,
     "metadata": {},
     "output_type": "execute_result"
    }
   ],
   "source": [
    "verse_ppr_experiment.predict()"
   ]
  },
  {
   "cell_type": "code",
   "execution_count": 9,
   "metadata": {},
   "outputs": [
    {
     "name": "stdout",
     "output_type": "stream",
     "text": [
      "Evaluate multi-class classification experiment with Verse-PPR on Test-Data evaluated through both on 50.0% train data!\n"
     ]
    },
    {
     "name": "stderr",
     "output_type": "stream",
     "text": [
      "/home/julius/anaconda3/lib/python3.6/site-packages/sklearn/metrics/classification.py:1135: UndefinedMetricWarning: F-score is ill-defined and being set to 0.0 in labels with no predicted samples.\n",
      "  'precision', 'predicted', average, warn_for)\n"
     ]
    },
    {
     "data": {
      "text/plain": [
       "{'macro': 0.25, 'micro': 0.33333333333333331}"
      ]
     },
     "execution_count": 9,
     "metadata": {},
     "output_type": "execute_result"
    }
   ],
   "source": [
    "verse_ppr_experiment.evaluate()"
   ]
  },
  {
   "cell_type": "code",
   "execution_count": null,
   "metadata": {
    "collapsed": true
   },
   "outputs": [],
   "source": []
  },
  {
   "cell_type": "code",
   "execution_count": null,
   "metadata": {
    "collapsed": true
   },
   "outputs": [],
   "source": []
  }
 ],
 "metadata": {
  "kernelspec": {
   "display_name": "Python 3",
   "language": "python",
   "name": "python3"
  },
  "language_info": {
   "codemirror_mode": {
    "name": "ipython",
    "version": 3
   },
   "file_extension": ".py",
   "mimetype": "text/x-python",
   "name": "python",
   "nbconvert_exporter": "python",
   "pygments_lexer": "ipython3",
   "version": "3.6.3"
  }
 },
 "nbformat": 4,
 "nbformat_minor": 2
}
