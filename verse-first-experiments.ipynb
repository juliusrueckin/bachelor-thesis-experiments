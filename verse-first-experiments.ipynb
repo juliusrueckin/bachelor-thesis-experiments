{
 "cells": [
  {
   "cell_type": "code",
   "execution_count": 1,
   "metadata": {},
   "outputs": [],
   "source": [
    "# import necessary stuff and python-wrapper of verse\n",
    "import os\n",
    "import pprint\n",
    "import numpy as np\n",
    "import json\n",
    "import sys\n",
    "import codecs\n",
    "from scipy.sparse import csr_matrix\n",
    "\n",
    "from verse.python.wrapper import VERSE\n",
    "from multi_class_classification import MultiClassClassification\n",
    "from multi_label_classification import MultiLabelClassification\n",
    "from clustering import Clustering\n",
    "from link_prediction import LinkPrediction\n",
    "from experiment import Experiment"
   ]
  },
  {
   "cell_type": "code",
   "execution_count": 2,
   "metadata": {
    "collapsed": true
   },
   "outputs": [],
   "source": [
    "# initialize pretty printer\n",
    "pp = pprint.PrettyPrinter(indent=4, depth=8)"
   ]
  },
  {
   "cell_type": "code",
   "execution_count": 3,
   "metadata": {
    "collapsed": true
   },
   "outputs": [],
   "source": [
    "# define path to c++ inplementation of verse and its *.so compiled files\n",
    "# instantiate verse algorithm object\n",
    "cpath = os.path.dirname(os.path.realpath('verse/src/verse.cpp'))\n",
    "verse = VERSE(cpath=cpath)"
   ]
  },
  {
   "cell_type": "code",
   "execution_count": 4,
   "metadata": {
    "collapsed": true
   },
   "outputs": [],
   "source": [
    "# construct example adjacency matrix in csr format\n",
    "row = np.array([0, 0, 1, 2, 2, 2])\n",
    "col = np.array([0, 2, 2, 0, 1, 2])\n",
    "data = np.array([1, 2, 3, 4, 5, 6])\n",
    "\n",
    "csr_adjacency_matrix = csr_matrix((data, (row, col)), shape=(10, 10))"
   ]
  },
  {
   "cell_type": "code",
   "execution_count": 5,
   "metadata": {
    "collapsed": true
   },
   "outputs": [],
   "source": [
    "# define hyper-parameters for verse with personalized page rank as sim_G function\n",
    "graph = csr_adjacency_matrix\n",
    "w = None\n",
    "n_hidden = 128\n",
    "alpha = 0.85\n",
    "steps = 100000\n",
    "n_neg_samples = 3\n",
    "lr = 0.0025\n",
    "rng_seed = 0\n",
    "n_threads = -1\n",
    "num_of_reps = 10\n",
    "random_seed = 42\n",
    "random_seeds = list(range(42,42+num_of_reps))"
   ]
  },
  {
   "cell_type": "code",
   "execution_count": 6,
   "metadata": {
    "collapsed": true
   },
   "outputs": [],
   "source": [
    "# compute node embeddings\n",
    "# ATTENTION: takes a while until termination and cannot be terminated through restarting kernel\n",
    "# Need to kill terminal, where jupyter notebook is started in in order to kill c++-process\n",
    "verse_ppr_embeddings = verse.verse_ppr(graph, w, n_hidden, alpha, steps, n_neg_samples, lr, rng_seed, n_threads)"
   ]
  },
  {
   "cell_type": "code",
   "execution_count": 7,
   "metadata": {
    "collapsed": true
   },
   "outputs": [],
   "source": [
    "# or read *.bin file with precomputed embeddings\n",
    "embeddings_file_path = 'data/test_converter_verse_embeddings.bin'\n",
    "embeddings_file = open(embeddings_file_path, \"r\")\n",
    "embeddings_file_content = np.fromfile(embeddings_file, dtype=np.float32)\n",
    "num_of_nodes = int(np.shape(embeddings_file_content)[0] / n_hidden)\n",
    "verse_ppr_embeddings = embeddings_file_content.reshape((num_of_nodes, n_hidden))"
   ]
  },
  {
   "cell_type": "code",
   "execution_count": 8,
   "metadata": {},
   "outputs": [
    {
     "data": {
      "text/plain": [
       "(10, 128)"
      ]
     },
     "execution_count": 8,
     "metadata": {},
     "output_type": "execute_result"
    }
   ],
   "source": [
    "np.shape(verse_ppr_embeddings)"
   ]
  },
  {
   "cell_type": "code",
   "execution_count": 9,
   "metadata": {},
   "outputs": [
    {
     "name": "stdout",
     "output_type": "stream",
     "text": [
      "Initialize multi-class classification experiment with Verse-PPR on Test-Data evaluated through both on 50.0% train data!\n"
     ]
    }
   ],
   "source": [
    "# instantiate multi-class classification expirement\n",
    "verse_ppr_classification_experiment = MultiClassClassification(method_name='Verse-PPR', dataset_name='Test-Data',\n",
    "                                                               performance_function='both', train_size=0.5,\n",
    "                                                               embeddings=verse_ppr_embeddings,\n",
    "                                                               node_labels=[0,1,1,0,0,1,1,0,0,1],\n",
    "                                                               random_seed=random_seed)"
   ]
  },
  {
   "cell_type": "code",
   "execution_count": 10,
   "metadata": {},
   "outputs": [
    {
     "name": "stdout",
     "output_type": "stream",
     "text": [
      "Train multi-class classification experiment with Verse-PPR on Test-Data evaluated through both on 50.0% train data!\n",
      "convergence after 27 epochs took 0 seconds\n",
      "Trained multi-class classification experiment in 0.12 sec.!\n",
      "Predict multi-class classification experiment with Verse-PPR on Test-Data evaluated through both on 50.0% train data!\n",
      "Predicted multi-class classification experiment in 0.0 sec.!\n",
      "Evaluate multi-class classification experiment with Verse-PPR on Test-Data evaluated through both on 50.0% train data!\n"
     ]
    },
    {
     "name": "stderr",
     "output_type": "stream",
     "text": [
      "[Parallel(n_jobs=-1)]: Done   1 out of   1 | elapsed:    0.0s finished\n"
     ]
    }
   ],
   "source": [
    "# train, predict and evaluate multi-class classification experiment\n",
    "logistic_regression_model = verse_ppr_classification_experiment.train()\n",
    "node_label_predictions = verse_ppr_classification_experiment.predict()\n",
    "verse_ppr_classification_experiment_results = verse_ppr_classification_experiment.evaluate()"
   ]
  },
  {
   "cell_type": "code",
   "execution_count": 11,
   "metadata": {},
   "outputs": [
    {
     "data": {
      "text/plain": [
       "{'macro': 0.7619047619047619, 'micro': 0.8000000000000002}"
      ]
     },
     "execution_count": 11,
     "metadata": {},
     "output_type": "execute_result"
    }
   ],
   "source": [
    "# print results of multi-class classification experiment\n",
    "verse_ppr_classification_experiment_results"
   ]
  },
  {
   "cell_type": "code",
   "execution_count": 12,
   "metadata": {},
   "outputs": [
    {
     "name": "stdout",
     "output_type": "stream",
     "text": [
      "Initialize clustering experiment with Verse-PPR on Test-Data evaluated through both!\n"
     ]
    }
   ],
   "source": [
    "# instantiate clustering expirement\n",
    "verse_ppr_clustering_experiment = Clustering(method_name='Verse-PPR', dataset_name='Test-Data', \n",
    "                                             performance_function='both', embeddings=verse_ppr_embeddings,\n",
    "                                             node_labels=[0,0,1,1,2,2,1,0,0,2], n_clusters=3,\n",
    "                                             random_seed=random_seed)"
   ]
  },
  {
   "cell_type": "code",
   "execution_count": 13,
   "metadata": {},
   "outputs": [
    {
     "name": "stdout",
     "output_type": "stream",
     "text": [
      "Train clustering experiment with Verse-PPR on Test-Data evaluated through both!\n",
      "Trained clustering experiment in 0.2 sec.!\n",
      "Predict clustering experiment with Verse-PPR on Test-Data evaluated through both!\n",
      "Predicted clustering experiment in 0.0 sec.!\n",
      "Evaluate clustering experiment with Verse-PPR on Test-Data evaluated through both!\n"
     ]
    }
   ],
   "source": [
    "# train, predict and evaluate clustering experiment\n",
    "k_means = verse_ppr_clustering_experiment.train()\n",
    "node_label_predictions = verse_ppr_clustering_experiment.predict()\n",
    "verse_ppr_clustering_experiment_results = verse_ppr_clustering_experiment.evaluate()"
   ]
  },
  {
   "cell_type": "code",
   "execution_count": 14,
   "metadata": {},
   "outputs": [
    {
     "data": {
      "text/plain": [
       "{'nmi': 0.14361072753945925, 'silhouette': 0.21395441889762878}"
      ]
     },
     "execution_count": 14,
     "metadata": {},
     "output_type": "execute_result"
    }
   ],
   "source": [
    "# print results of clustering experiment\n",
    "verse_ppr_clustering_experiment_results"
   ]
  },
  {
   "cell_type": "code",
   "execution_count": 15,
   "metadata": {},
   "outputs": [
    {
     "name": "stdout",
     "output_type": "stream",
     "text": [
      "Initialize multi-label classification experiment with Verse-PPR on Test-Data evaluated through both on 30.0% train data!\n"
     ]
    }
   ],
   "source": [
    "# instantiate multi-label classification expirement\n",
    "verse_ppr_multi_label_classification_experiment = \\\n",
    "    MultiLabelClassification(method_name='Verse-PPR', dataset_name='Test-Data', performance_function='both',\n",
    "                             embeddings=verse_ppr_embeddings, n_neighbors=3, classifier='logistic_regression',\n",
    "                             node_labels=[[0],[1,2],[0,2],[0,1],[2],[1],[0,1],[1],[2],[1,0]],\n",
    "                             random_seed=random_seed)"
   ]
  },
  {
   "cell_type": "code",
   "execution_count": 16,
   "metadata": {},
   "outputs": [
    {
     "name": "stdout",
     "output_type": "stream",
     "text": [
      "Train multi-label classification experiment with Verse-PPR on Test-Data evaluated through both on 30.0% train data!\n",
      "convergence after 48 epochs took 0 seconds\n",
      "convergence after 48 epochs took 0 seconds\n",
      "convergence after 48 epochs took 0 seconds\n"
     ]
    },
    {
     "name": "stderr",
     "output_type": "stream",
     "text": [
      "[Parallel(n_jobs=-1)]: Done   1 out of   1 | elapsed:    0.0s finished\n",
      "[Parallel(n_jobs=-1)]: Done   1 out of   1 | elapsed:    0.0s finished\n",
      "[Parallel(n_jobs=-1)]: Done   1 out of   1 | elapsed:    0.0s finished\n"
     ]
    },
    {
     "name": "stdout",
     "output_type": "stream",
     "text": [
      "Trained multi-label classification experiment in 0.32 sec.!\n",
      "Predict multi-label classification experiment with Verse-PPR on Test-Data evaluated through both on 30.0% train data!\n",
      "Predicted multi-label classification experiment in 0.0 sec.!\n",
      "Evaluate multi-label classification experiment with Verse-PPR on Test-Data evaluated through both on 30.0% train data!\n"
     ]
    }
   ],
   "source": [
    "# train, predict and evaluate multi-label classification experiment\n",
    "multi_label_model = verse_ppr_multi_label_classification_experiment.train()\n",
    "node_label_predictions = verse_ppr_multi_label_classification_experiment.predict()\n",
    "verse_ppr_multi_label_classification_experiment_results = verse_ppr_multi_label_classification_experiment.evaluate()"
   ]
  },
  {
   "cell_type": "code",
   "execution_count": 17,
   "metadata": {},
   "outputs": [
    {
     "data": {
      "text/plain": [
       "{'macro': 0.4920634920634921, 'micro': 0.5}"
      ]
     },
     "execution_count": 17,
     "metadata": {},
     "output_type": "execute_result"
    }
   ],
   "source": [
    "# print results of multi-label classification experiment\n",
    "verse_ppr_multi_label_classification_experiment_results"
   ]
  },
  {
   "cell_type": "code",
   "execution_count": 18,
   "metadata": {},
   "outputs": [
    {
     "name": "stderr",
     "output_type": "stream",
     "text": [
      "100%|██████████| 7/7 [00:00<00:00, 15387.91it/s]\n",
      "100%|██████████| 7/7 [00:00<00:00, 16017.53it/s]"
     ]
    },
    {
     "name": "stdout",
     "output_type": "stream",
     "text": [
      "Initialize link prediction experiment with Verse-PPR on Test-Data evaluated through both on 50.0% train data!\n",
      "Compute edgewise features based on hadamard operator!\n"
     ]
    },
    {
     "name": "stderr",
     "output_type": "stream",
     "text": [
      "\n",
      "/home/julius/anaconda3/lib/python3.6/site-packages/sklearn/model_selection/_split.py:2026: FutureWarning: From version 0.21, test_size will always complement train_size unless both are specified.\n",
      "  FutureWarning)\n"
     ]
    }
   ],
   "source": [
    "# instantiate link prediction expirement\n",
    "verse_ppr_link_prediction_experiment = \\\n",
    "    LinkPrediction(method_name='Verse-PPR', dataset_name='Test-Data', performance_function='both', \n",
    "                   node_embeddings=verse_ppr_embeddings, new_edges=[[1,3],[5,6],[3,6],[1,5],[8,7],[9,4],[7,2]],\n",
    "                   vector_operator='hadamard', neg_edges=[[2,3],[7,6],[1,6],[2,5],[8,9],[9,3],[7,5]],\n",
    "                   random_seed=random_seed)"
   ]
  },
  {
   "cell_type": "code",
   "execution_count": 19,
   "metadata": {},
   "outputs": [
    {
     "name": "stdout",
     "output_type": "stream",
     "text": [
      "Train link prediction experiment with Verse-PPR on Test-Data evaluated through both on 50.0% train data!\n",
      "convergence after 18 epochs took 0 seconds\n",
      "Trained link prediction experiment in 0.12 sec.!\n",
      "Predict link prediction experiment with Verse-PPR on Test-Data evaluated through both on 50.0% train data!\n",
      "Predicted link prediction experiment in 0.0 sec.!\n",
      "Evaluate link prediction experiment with Verse-PPR on Test-Data evaluated through both on 50.0% train data!\n"
     ]
    },
    {
     "name": "stderr",
     "output_type": "stream",
     "text": [
      "[Parallel(n_jobs=-1)]: Done   1 out of   1 | elapsed:    0.0s finished\n"
     ]
    }
   ],
   "source": [
    "# train, predict and evaluate link prediction experiment\n",
    "link_prediction_model = verse_ppr_link_prediction_experiment.train()\n",
    "edge_label_predictions = verse_ppr_link_prediction_experiment.predict()\n",
    "verse_ppr_link_prediction_experiment_results = verse_ppr_link_prediction_experiment.evaluate()"
   ]
  },
  {
   "cell_type": "code",
   "execution_count": 20,
   "metadata": {},
   "outputs": [
    {
     "data": {
      "text/plain": [
       "{'macro': 0.41666666666666663, 'micro': 0.42857142857142855}"
      ]
     },
     "execution_count": 20,
     "metadata": {},
     "output_type": "execute_result"
    }
   ],
   "source": [
    "# print results of link prediction experiment\n",
    "verse_ppr_link_prediction_experiment_results"
   ]
  },
  {
   "cell_type": "code",
   "execution_count": 21,
   "metadata": {},
   "outputs": [],
   "source": [
    "# init clustering experiment on verse-ppr embeddings with cross-product of experiment_params, each 10x repeated \n",
    "verse_ppr_experiment = Experiment(method_name='Verse-PPR', dataset_name='Test-Data', performance_function='both',\n",
    "                                  node_labels=[0,0,1,1,2,2,1,0,0,2],embeddings_file_path=embeddings_file_path,\n",
    "                                  node_embedings=None, embedding_dimensionality=128, repetitions=num_of_reps,\n",
    "                                  experiment_params={'n_clusters': [2,3]},\n",
    "                                  results_file_path='results/test_verse_ppr_experiment_results.json',\n",
    "                                  random_seeds=random_seeds, experiment_type='clustering')"
   ]
  },
  {
   "cell_type": "code",
   "execution_count": 22,
   "metadata": {},
   "outputs": [
    {
     "name": "stdout",
     "output_type": "stream",
     "text": [
      "Start clustering experiment on Test-Data data set with Verse-PPR embeddings\n",
      "Repeated 10 times and evaluated through bothperformance function(s)\n",
      "Initialize clustering experiment with Verse-PPR on Test-Data evaluated through both!\n",
      "Initialize clustering experiment with Verse-PPR on Test-Data evaluated through both!\n",
      "Initialize clustering experiment with Verse-PPR on Test-Data evaluated through both!\n",
      "Train clustering experiment with Verse-PPR on Test-Data evaluated through both!\n",
      "Initialize clustering experiment with Verse-PPR on Test-Data evaluated through both!\n",
      "Initialize clustering experiment with Verse-PPR on Test-Data evaluated through both!\n"
     ]
    },
    {
     "name": "stderr",
     "output_type": "stream",
     "text": [
      "/home/julius/anaconda3/lib/python3.6/site-packages/sklearn/externals/joblib/parallel.py:547: UserWarning: Multiprocessing-backed parallel loops cannot be nested, setting n_jobs=1\n",
      "  **self._backend_args)\n"
     ]
    },
    {
     "name": "stdout",
     "output_type": "stream",
     "text": [
      "Train clustering experiment with Verse-PPR on Test-Data evaluated through both!\n",
      "Train clustering experiment with Verse-PPR on Test-Data evaluated through both!\n",
      "Trained clustering experiment in 0.02 sec.!\n",
      "Train clustering experiment with Verse-PPR on Test-Data evaluated through both!\n",
      "Initialize clustering experiment with Verse-PPR on Test-Data evaluated through both!\n"
     ]
    },
    {
     "name": "stderr",
     "output_type": "stream",
     "text": [
      "/home/julius/anaconda3/lib/python3.6/site-packages/sklearn/externals/joblib/parallel.py:547: UserWarning: Multiprocessing-backed parallel loops cannot be nested, setting n_jobs=1\n",
      "  **self._backend_args)\n"
     ]
    },
    {
     "name": "stdout",
     "output_type": "stream",
     "text": [
      "Predict clustering experiment with Verse-PPR on Test-Data evaluated through both!\n"
     ]
    },
    {
     "name": "stderr",
     "output_type": "stream",
     "text": [
      "/home/julius/anaconda3/lib/python3.6/site-packages/sklearn/externals/joblib/parallel.py:547: UserWarning: Multiprocessing-backed parallel loops cannot be nested, setting n_jobs=1\n",
      "  **self._backend_args)\n"
     ]
    },
    {
     "name": "stdout",
     "output_type": "stream",
     "text": [
      "Initialize clustering experiment with Verse-PPR on Test-Data evaluated through both!\n",
      "Train clustering experiment with Verse-PPR on Test-Data evaluated through both!\n",
      "Predicted clustering experiment in 0.0 sec.!\n",
      "Train clustering experiment with Verse-PPR on Test-Data evaluated through both!\n",
      "Initialize clustering experiment with Verse-PPR on Test-Data evaluated through both!\n",
      "Initialize clustering experiment with Verse-PPR on Test-Data evaluated through both!\n",
      "Initialize clustering experiment with Verse-PPR on Test-Data evaluated through both!\n",
      "Trained clustering experiment in 0.03 sec.!\n"
     ]
    },
    {
     "name": "stderr",
     "output_type": "stream",
     "text": [
      "/home/julius/anaconda3/lib/python3.6/site-packages/sklearn/externals/joblib/parallel.py:547: UserWarning: Multiprocessing-backed parallel loops cannot be nested, setting n_jobs=1\n",
      "  **self._backend_args)\n",
      "/home/julius/anaconda3/lib/python3.6/site-packages/sklearn/externals/joblib/parallel.py:547: UserWarning: Multiprocessing-backed parallel loops cannot be nested, setting n_jobs=1\n",
      "  **self._backend_args)\n"
     ]
    },
    {
     "name": "stdout",
     "output_type": "stream",
     "text": [
      "Trained clustering experiment in 0.03 sec.!\n",
      "Train clustering experiment with Verse-PPR on Test-Data evaluated through both!\n"
     ]
    },
    {
     "name": "stderr",
     "output_type": "stream",
     "text": [
      "/home/julius/anaconda3/lib/python3.6/site-packages/sklearn/externals/joblib/parallel.py:547: UserWarning: Multiprocessing-backed parallel loops cannot be nested, setting n_jobs=1\n",
      "  **self._backend_args)\n"
     ]
    },
    {
     "name": "stdout",
     "output_type": "stream",
     "text": [
      "Predict clustering experiment with Verse-PPR on Test-Data evaluated through both!\n",
      "Predict clustering experiment with Verse-PPR on Test-Data evaluated through both!\n",
      "Train clustering experiment with Verse-PPR on Test-Data evaluated through both!\n"
     ]
    },
    {
     "name": "stderr",
     "output_type": "stream",
     "text": [
      "/home/julius/anaconda3/lib/python3.6/site-packages/sklearn/externals/joblib/parallel.py:547: UserWarning: Multiprocessing-backed parallel loops cannot be nested, setting n_jobs=1\n",
      "  **self._backend_args)\n"
     ]
    },
    {
     "name": "stdout",
     "output_type": "stream",
     "text": [
      "Trained clustering experiment in 0.05 sec.!\n",
      "Predicted clustering experiment in 0.0 sec.!\n",
      "Evaluate clustering experiment with Verse-PPR on Test-Data evaluated through both!\n"
     ]
    },
    {
     "name": "stderr",
     "output_type": "stream",
     "text": [
      "/home/julius/anaconda3/lib/python3.6/site-packages/sklearn/externals/joblib/parallel.py:547: UserWarning: Multiprocessing-backed parallel loops cannot be nested, setting n_jobs=1\n",
      "  **self._backend_args)\n"
     ]
    },
    {
     "name": "stdout",
     "output_type": "stream",
     "text": [
      "Train clustering experiment with Verse-PPR on Test-Data evaluated through both!\n",
      "Predict clustering experiment with Verse-PPR on Test-Data evaluated through both!\n",
      "Trained clustering experiment in 0.02 sec.!\n",
      "Predicted clustering experiment in 0.0 sec.!\n",
      "Trained clustering experiment in 0.03 sec.!\n",
      "Predicted clustering experiment in 0.0 sec.!\n",
      "Predict clustering experiment with Verse-PPR on Test-Data evaluated through both!\n",
      "Trained clustering experiment in 0.02 sec.!\n",
      "Train clustering experiment with Verse-PPR on Test-Data evaluated through both!\n",
      "Predict clustering experiment with Verse-PPR on Test-Data evaluated through both!\n",
      "Predict clustering experiment with Verse-PPR on Test-Data evaluated through both!\n",
      "Evaluate clustering experiment with Verse-PPR on Test-Data evaluated through both!\n"
     ]
    },
    {
     "name": "stderr",
     "output_type": "stream",
     "text": [
      "/home/julius/anaconda3/lib/python3.6/site-packages/sklearn/externals/joblib/parallel.py:547: UserWarning: Multiprocessing-backed parallel loops cannot be nested, setting n_jobs=1\n",
      "  **self._backend_args)\n"
     ]
    },
    {
     "name": "stdout",
     "output_type": "stream",
     "text": [
      "Evaluate clustering experiment with Verse-PPR on Test-Data evaluated through both!\n",
      "Trained clustering experiment in 0.03 sec.!\n",
      "Evaluate clustering experiment with Verse-PPR on Test-Data evaluated through both!\n"
     ]
    },
    {
     "name": "stderr",
     "output_type": "stream",
     "text": [
      "/home/julius/anaconda3/lib/python3.6/site-packages/sklearn/externals/joblib/parallel.py:547: UserWarning: Multiprocessing-backed parallel loops cannot be nested, setting n_jobs=1\n",
      "  **self._backend_args)\n"
     ]
    },
    {
     "name": "stdout",
     "output_type": "stream",
     "text": [
      "Predicted clustering experiment in 0.0 sec.!\n",
      "Predicted clustering experiment in 0.0 sec.!\n",
      "Predict clustering experiment with Verse-PPR on Test-Data evaluated through both!\n",
      "Predicted clustering experiment in 0.0 sec.!\n",
      "Evaluate clustering experiment with Verse-PPR on Test-Data evaluated through both!\n",
      "Trained clustering experiment in 0.02 sec.!\n",
      "Evaluate clustering experiment with Verse-PPR on Test-Data evaluated through both!\n",
      "Evaluate clustering experiment with Verse-PPR on Test-Data evaluated through both!\n",
      "Predict clustering experiment with Verse-PPR on Test-Data evaluated through both!\n",
      "Predicted clustering experiment in 0.0 sec.!\n",
      "Evaluate clustering experiment with Verse-PPR on Test-Data evaluated through both!\n",
      "Trained clustering experiment in 0.02 sec.!\n",
      "Predicted clustering experiment in 0.0 sec.!\n",
      "Evaluate clustering experiment with Verse-PPR on Test-Data evaluated through both!\n",
      "Predict clustering experiment with Verse-PPR on Test-Data evaluated through both!\n",
      "Predicted clustering experiment in 0.0 sec.!\n",
      "Evaluate clustering experiment with Verse-PPR on Test-Data evaluated through both!\n",
      "Initialize clustering experiment with Verse-PPR on Test-Data evaluated through both!\n",
      "Initialize clustering experiment with Verse-PPR on Test-Data evaluated through both!\n",
      "Initialize clustering experiment with Verse-PPR on Test-Data evaluated through both!\n",
      "Train clustering experiment with Verse-PPR on Test-Data evaluated through both!\n",
      "Initialize clustering experiment with Verse-PPR on Test-Data evaluated through both!\n",
      "Initialize clustering experiment with Verse-PPR on Test-Data evaluated through both!\n",
      "Initialize clustering experiment with Verse-PPR on Test-Data evaluated through both!\n",
      "Initialize clustering experiment with Verse-PPR on Test-Data evaluated through both!\n",
      "Train clustering experiment with Verse-PPR on Test-Data evaluated through both!\n",
      "Train clustering experiment with Verse-PPR on Test-Data evaluated through both!\n",
      "Initialize clustering experiment with Verse-PPR on Test-Data evaluated through both!\n",
      "Train clustering experiment with Verse-PPR on Test-Data evaluated through both!\n",
      "Train clustering experiment with Verse-PPR on Test-Data evaluated through both!\n",
      "Train clustering experiment with Verse-PPR on Test-Data evaluated through both!\n"
     ]
    },
    {
     "name": "stderr",
     "output_type": "stream",
     "text": [
      "/home/julius/anaconda3/lib/python3.6/site-packages/sklearn/externals/joblib/parallel.py:547: UserWarning: Multiprocessing-backed parallel loops cannot be nested, setting n_jobs=1\n",
      "  **self._backend_args)\n",
      "/home/julius/anaconda3/lib/python3.6/site-packages/sklearn/externals/joblib/parallel.py:547: UserWarning: Multiprocessing-backed parallel loops cannot be nested, setting n_jobs=1\n",
      "  **self._backend_args)\n",
      "/home/julius/anaconda3/lib/python3.6/site-packages/sklearn/externals/joblib/parallel.py:547: UserWarning: Multiprocessing-backed parallel loops cannot be nested, setting n_jobs=1\n",
      "  **self._backend_args)\n"
     ]
    },
    {
     "name": "stdout",
     "output_type": "stream",
     "text": [
      "Train clustering experiment with Verse-PPR on Test-Data evaluated through both!\n",
      "Trained clustering experiment in 0.01 sec.!\n"
     ]
    },
    {
     "name": "stderr",
     "output_type": "stream",
     "text": [
      "/home/julius/anaconda3/lib/python3.6/site-packages/sklearn/externals/joblib/parallel.py:547: UserWarning: Multiprocessing-backed parallel loops cannot be nested, setting n_jobs=1\n",
      "  **self._backend_args)\n"
     ]
    },
    {
     "name": "stdout",
     "output_type": "stream",
     "text": [
      "Predict clustering experiment with Verse-PPR on Test-Data evaluated through both!\n",
      "Predicted clustering experiment in 0.0 sec.!\n",
      "Trained clustering experiment in 0.01 sec.!\n",
      "Trained clustering experiment in 0.01 sec.!\n",
      "Trained clustering experiment in 0.01 sec.!\n"
     ]
    },
    {
     "name": "stderr",
     "output_type": "stream",
     "text": [
      "/home/julius/anaconda3/lib/python3.6/site-packages/sklearn/externals/joblib/parallel.py:547: UserWarning: Multiprocessing-backed parallel loops cannot be nested, setting n_jobs=1\n",
      "  **self._backend_args)\n"
     ]
    },
    {
     "name": "stdout",
     "output_type": "stream",
     "text": [
      "Evaluate clustering experiment with Verse-PPR on Test-Data evaluated through both!\n",
      "Initialize clustering experiment with Verse-PPR on Test-Data evaluated through both!\n",
      "Initialize clustering experiment with Verse-PPR on Test-Data evaluated through both!\n",
      "Predict clustering experiment with Verse-PPR on Test-Data evaluated through both!\n",
      "Predict clustering experiment with Verse-PPR on Test-Data evaluated through both!\n",
      "Train clustering experiment with Verse-PPR on Test-Data evaluated through both!\n"
     ]
    },
    {
     "name": "stderr",
     "output_type": "stream",
     "text": [
      "/home/julius/anaconda3/lib/python3.6/site-packages/sklearn/externals/joblib/parallel.py:547: UserWarning: Multiprocessing-backed parallel loops cannot be nested, setting n_jobs=1\n",
      "  **self._backend_args)\n"
     ]
    },
    {
     "name": "stdout",
     "output_type": "stream",
     "text": [
      "Trained clustering experiment in 0.03 sec.!\n"
     ]
    },
    {
     "name": "stderr",
     "output_type": "stream",
     "text": [
      "/home/julius/anaconda3/lib/python3.6/site-packages/sklearn/externals/joblib/parallel.py:547: UserWarning: Multiprocessing-backed parallel loops cannot be nested, setting n_jobs=1\n",
      "  **self._backend_args)\n",
      "/home/julius/anaconda3/lib/python3.6/site-packages/sklearn/externals/joblib/parallel.py:547: UserWarning: Multiprocessing-backed parallel loops cannot be nested, setting n_jobs=1\n",
      "  **self._backend_args)\n"
     ]
    },
    {
     "name": "stdout",
     "output_type": "stream",
     "text": [
      "Predict clustering experiment with Verse-PPR on Test-Data evaluated through both!\n",
      "Predicted clustering experiment in 0.0 sec.!\n",
      "Train clustering experiment with Verse-PPR on Test-Data evaluated through both!\n",
      "Predicted clustering experiment in 0.0 sec.!\n",
      "Predicted clustering experiment in 0.0 sec.!\n",
      "Train clustering experiment with Verse-PPR on Test-Data evaluated through both!\n",
      "Trained clustering experiment in 0.04 sec.!\n"
     ]
    },
    {
     "name": "stderr",
     "output_type": "stream",
     "text": [
      "/home/julius/anaconda3/lib/python3.6/site-packages/sklearn/externals/joblib/parallel.py:547: UserWarning: Multiprocessing-backed parallel loops cannot be nested, setting n_jobs=1\n",
      "  **self._backend_args)\n",
      "/home/julius/anaconda3/lib/python3.6/site-packages/sklearn/externals/joblib/parallel.py:547: UserWarning: Multiprocessing-backed parallel loops cannot be nested, setting n_jobs=1\n",
      "  **self._backend_args)\n"
     ]
    },
    {
     "name": "stdout",
     "output_type": "stream",
     "text": [
      "Evaluate clustering experiment with Verse-PPR on Test-Data evaluated through both!\n",
      "Evaluate clustering experiment with Verse-PPR on Test-Data evaluated through both!\n",
      "Predict clustering experiment with Verse-PPR on Test-Data evaluated through both!\n",
      "Trained clustering experiment in 0.01 sec.!\n",
      "Predict clustering experiment with Verse-PPR on Test-Data evaluated through both!\n",
      "Trained clustering experiment in 0.02 sec.!\n",
      "Predicted clustering experiment in 0.0 sec.!\n",
      "Evaluate clustering experiment with Verse-PPR on Test-Data evaluated through both!\n",
      "Trained clustering experiment in 0.01 sec.!\n",
      "Trained clustering experiment in 0.01 sec.!\n",
      "Predicted clustering experiment in 0.0 sec.!\n",
      "Predict clustering experiment with Verse-PPR on Test-Data evaluated through both!\n",
      "Evaluate clustering experiment with Verse-PPR on Test-Data evaluated through both!\n",
      "Predict clustering experiment with Verse-PPR on Test-Data evaluated through both!\n",
      "Evaluate clustering experiment with Verse-PPR on Test-Data evaluated through both!\n",
      "Predict clustering experiment with Verse-PPR on Test-Data evaluated through both!\n",
      "Predicted clustering experiment in 0.0 sec.!\n",
      "Predict clustering experiment with Verse-PPR on Test-Data evaluated through both!\n",
      "Predicted clustering experiment in 0.0 sec.!\n",
      "Predicted clustering experiment in 0.0 sec.!\n",
      "Evaluate clustering experiment with Verse-PPR on Test-Data evaluated through both!\n",
      "Evaluate clustering experiment with Verse-PPR on Test-Data evaluated through both!\n",
      "Evaluate clustering experiment with Verse-PPR on Test-Data evaluated through both!\n",
      "Predicted clustering experiment in 0.0 sec.!\n",
      "Evaluate clustering experiment with Verse-PPR on Test-Data evaluated through both!\n",
      "Finished clustering experiment on Test-Data data set with Verse-PPR embeddings\n",
      "Saved results in file results/test_verse_ppr_experiment_results.json\n"
     ]
    }
   ],
   "source": [
    "# run experiment wrapper: train, predict and evaluate clustering with each param combination 10 times\n",
    "verse_ppr_experiment_results = verse_ppr_experiment.run()"
   ]
  },
  {
   "cell_type": "code",
   "execution_count": 23,
   "metadata": {},
   "outputs": [
    {
     "name": "stdout",
     "output_type": "stream",
     "text": [
      "{   'dataset': 'Test-Data',\n",
      "    'embedding_file': 'data/test_converter_verse_embeddings.bin',\n",
      "    'method': 'Verse-PPR',\n",
      "    'parameterizations': [   {   'params': {'n_clusters': 2},\n",
      "                                 'runs': [   {   'evaluation': {   'nmi': 0.2254398484510957,\n",
      "                                                                   'silhouette': 0.3669380247592926},\n",
      "                                                 'predictions': [   1,\n",
      "                                                                    1,\n",
      "                                                                    1,\n",
      "                                                                    1,\n",
      "                                                                    1,\n",
      "                                                                    1,\n",
      "                                                                    1,\n",
      "                                                                    1,\n",
      "                                                                    1,\n",
      "                                                                    0],\n",
      "                                                 'random_seed': 42,\n",
      "                                                 'run': 1},\n",
      "                                             {   'evaluation': {   'nmi': 0.03911237497378053,\n",
      "                                                                   'silhouette': 0.24863699078559875},\n",
      "                                                 'predictions': [   1,\n",
      "                                                                    1,\n",
      "                                                                    1,\n",
      "                                                                    0,\n",
      "                                                                    1,\n",
      "                                                                    1,\n",
      "                                                                    0,\n",
      "                                                                    0,\n",
      "                                                                    0,\n",
      "                                                                    0],\n",
      "                                                 'random_seed': 43,\n",
      "                                                 'run': 2},\n",
      "                                             {   'evaluation': {   'nmi': 0.09934072584989302,\n",
      "                                                                   'silhouette': 0.12902387976646423},\n",
      "                                                 'predictions': [   0,\n",
      "                                                                    0,\n",
      "                                                                    1,\n",
      "                                                                    1,\n",
      "                                                                    0,\n",
      "                                                                    1,\n",
      "                                                                    0,\n",
      "                                                                    0,\n",
      "                                                                    1,\n",
      "                                                                    1],\n",
      "                                                 'random_seed': 44,\n",
      "                                                 'run': 3},\n",
      "                                             {   'evaluation': {   'nmi': 0.03911237497378053,\n",
      "                                                                   'silhouette': 0.24863699078559875},\n",
      "                                                 'predictions': [   0,\n",
      "                                                                    0,\n",
      "                                                                    0,\n",
      "                                                                    1,\n",
      "                                                                    0,\n",
      "                                                                    0,\n",
      "                                                                    1,\n",
      "                                                                    1,\n",
      "                                                                    1,\n",
      "                                                                    1],\n",
      "                                                 'random_seed': 45,\n",
      "                                                 'run': 4},\n",
      "                                             {   'evaluation': {   'nmi': 0.03911237497378053,\n",
      "                                                                   'silhouette': 0.22661468386650085},\n",
      "                                                 'predictions': [   0,\n",
      "                                                                    1,\n",
      "                                                                    0,\n",
      "                                                                    1,\n",
      "                                                                    0,\n",
      "                                                                    0,\n",
      "                                                                    1,\n",
      "                                                                    1,\n",
      "                                                                    0,\n",
      "                                                                    1],\n",
      "                                                 'random_seed': 46,\n",
      "                                                 'run': 5},\n",
      "                                             {   'evaluation': {   'nmi': 0.2254398484510957,\n",
      "                                                                   'silhouette': 0.3669380247592926},\n",
      "                                                 'predictions': [   0,\n",
      "                                                                    0,\n",
      "                                                                    0,\n",
      "                                                                    0,\n",
      "                                                                    0,\n",
      "                                                                    0,\n",
      "                                                                    0,\n",
      "                                                                    0,\n",
      "                                                                    0,\n",
      "                                                                    1],\n",
      "                                                 'random_seed': 47,\n",
      "                                                 'run': 6},\n",
      "                                             {   'evaluation': {   'nmi': 0.23923326907876977,\n",
      "                                                                   'silhouette': 0.19604405760765076},\n",
      "                                                 'predictions': [   0,\n",
      "                                                                    1,\n",
      "                                                                    0,\n",
      "                                                                    1,\n",
      "                                                                    0,\n",
      "                                                                    0,\n",
      "                                                                    1,\n",
      "                                                                    1,\n",
      "                                                                    0,\n",
      "                                                                    0],\n",
      "                                                 'random_seed': 48,\n",
      "                                                 'run': 7},\n",
      "                                             {   'evaluation': {   'nmi': 0.2254398484510957,\n",
      "                                                                   'silhouette': 0.3669380247592926},\n",
      "                                                 'predictions': [   0,\n",
      "                                                                    0,\n",
      "                                                                    0,\n",
      "                                                                    0,\n",
      "                                                                    0,\n",
      "                                                                    0,\n",
      "                                                                    0,\n",
      "                                                                    0,\n",
      "                                                                    0,\n",
      "                                                                    1],\n",
      "                                                 'random_seed': 49,\n",
      "                                                 'run': 8},\n",
      "                                             {   'evaluation': {   'nmi': 0.03911237497378053,\n",
      "                                                                   'silhouette': 0.22661468386650085},\n",
      "                                                 'predictions': [   1,\n",
      "                                                                    0,\n",
      "                                                                    1,\n",
      "                                                                    0,\n",
      "                                                                    1,\n",
      "                                                                    1,\n",
      "                                                                    0,\n",
      "                                                                    0,\n",
      "                                                                    1,\n",
      "                                                                    0],\n",
      "                                                 'random_seed': 50,\n",
      "                                                 'run': 9},\n",
      "                                             {   'evaluation': {   'nmi': 0.03911237497378053,\n",
      "                                                                   'silhouette': 0.24863699078559875},\n",
      "                                                 'predictions': [   1,\n",
      "                                                                    1,\n",
      "                                                                    1,\n",
      "                                                                    0,\n",
      "                                                                    1,\n",
      "                                                                    1,\n",
      "                                                                    0,\n",
      "                                                                    0,\n",
      "                                                                    0,\n",
      "                                                                    0],\n",
      "                                                 'random_seed': 51,\n",
      "                                                 'run': 10}]},\n",
      "                             {   'params': {'n_clusters': 3},\n",
      "                                 'runs': [   {   'evaluation': {   'nmi': 0.14361072753945925,\n",
      "                                                                   'silhouette': 0.21395441889762878},\n",
      "                                                 'predictions': [   1,\n",
      "                                                                    2,\n",
      "                                                                    1,\n",
      "                                                                    1,\n",
      "                                                                    2,\n",
      "                                                                    1,\n",
      "                                                                    2,\n",
      "                                                                    2,\n",
      "                                                                    1,\n",
      "                                                                    0],\n",
      "                                                 'random_seed': 42,\n",
      "                                                 'run': 1},\n",
      "                                             {   'evaluation': {   'nmi': 0.46879958524197074,\n",
      "                                                                   'silhouette': 0.20946761965751648},\n",
      "                                                 'predictions': [   1,\n",
      "                                                                    1,\n",
      "                                                                    0,\n",
      "                                                                    0,\n",
      "                                                                    1,\n",
      "                                                                    1,\n",
      "                                                                    0,\n",
      "                                                                    0,\n",
      "                                                                    0,\n",
      "                                                                    2],\n",
      "                                                 'random_seed': 43,\n",
      "                                                 'run': 2},\n",
      "                                             {   'evaluation': {   'nmi': 0.44270128334604997,\n",
      "                                                                   'silhouette': 0.2237030565738678},\n",
      "                                                 'predictions': [   2,\n",
      "                                                                    0,\n",
      "                                                                    1,\n",
      "                                                                    1,\n",
      "                                                                    2,\n",
      "                                                                    2,\n",
      "                                                                    0,\n",
      "                                                                    0,\n",
      "                                                                    1,\n",
      "                                                                    2],\n",
      "                                                 'random_seed': 44,\n",
      "                                                 'run': 3},\n",
      "                                             {   'evaluation': {   'nmi': 0.11055853741357116,\n",
      "                                                                   'silhouette': 0.2359815537929535},\n",
      "                                                 'predictions': [   0,\n",
      "                                                                    2,\n",
      "                                                                    0,\n",
      "                                                                    1,\n",
      "                                                                    0,\n",
      "                                                                    0,\n",
      "                                                                    2,\n",
      "                                                                    1,\n",
      "                                                                    1,\n",
      "                                                                    1],\n",
      "                                                 'random_seed': 45,\n",
      "                                                 'run': 4},\n",
      "                                             {   'evaluation': {   'nmi': 0.11055853741357116,\n",
      "                                                                   'silhouette': 0.2359815537929535},\n",
      "                                                 'predictions': [   0,\n",
      "                                                                    1,\n",
      "                                                                    0,\n",
      "                                                                    2,\n",
      "                                                                    0,\n",
      "                                                                    0,\n",
      "                                                                    1,\n",
      "                                                                    2,\n",
      "                                                                    2,\n",
      "                                                                    2],\n",
      "                                                 'random_seed': 46,\n",
      "                                                 'run': 5},\n",
      "                                             {   'evaluation': {   'nmi': 0.46879958524197074,\n",
      "                                                                   'silhouette': 0.20946761965751648},\n",
      "                                                 'predictions': [   0,\n",
      "                                                                    0,\n",
      "                                                                    2,\n",
      "                                                                    2,\n",
      "                                                                    0,\n",
      "                                                                    0,\n",
      "                                                                    2,\n",
      "                                                                    2,\n",
      "                                                                    2,\n",
      "                                                                    1],\n",
      "                                                 'random_seed': 47,\n",
      "                                                 'run': 6},\n",
      "                                             {   'evaluation': {   'nmi': 0.41807042965484714,\n",
      "                                                                   'silhouette': 0.09028761833906174},\n",
      "                                                 'predictions': [   2,\n",
      "                                                                    1,\n",
      "                                                                    2,\n",
      "                                                                    1,\n",
      "                                                                    0,\n",
      "                                                                    0,\n",
      "                                                                    1,\n",
      "                                                                    1,\n",
      "                                                                    0,\n",
      "                                                                    0],\n",
      "                                                 'random_seed': 48,\n",
      "                                                 'run': 7},\n",
      "                                             {   'evaluation': {   'nmi': 0.26733692039994567,\n",
      "                                                                   'silhouette': 0.19917979836463928},\n",
      "                                                 'predictions': [   1,\n",
      "                                                                    1,\n",
      "                                                                    0,\n",
      "                                                                    0,\n",
      "                                                                    1,\n",
      "                                                                    1,\n",
      "                                                                    2,\n",
      "                                                                    2,\n",
      "                                                                    0,\n",
      "                                                                    2],\n",
      "                                                 'random_seed': 49,\n",
      "                                                 'run': 8},\n",
      "                                             {   'evaluation': {   'nmi': 0.26733692039994567,\n",
      "                                                                   'silhouette': 0.13289840519428253},\n",
      "                                                 'predictions': [   2,\n",
      "                                                                    1,\n",
      "                                                                    2,\n",
      "                                                                    0,\n",
      "                                                                    1,\n",
      "                                                                    1,\n",
      "                                                                    0,\n",
      "                                                                    0,\n",
      "                                                                    0,\n",
      "                                                                    2],\n",
      "                                                 'random_seed': 50,\n",
      "                                                 'run': 9},\n",
      "                                             {   'evaluation': {   'nmi': 0.26733692039994567,\n",
      "                                                                   'silhouette': 0.19917979836463928},\n",
      "                                                 'predictions': [   1,\n",
      "                                                                    1,\n",
      "                                                                    2,\n",
      "                                                                    2,\n",
      "                                                                    1,\n",
      "                                                                    1,\n",
      "                                                                    0,\n",
      "                                                                    0,\n",
      "                                                                    2,\n",
      "                                                                    0],\n",
      "                                                 'random_seed': 51,\n",
      "                                                 'run': 10}]}],\n",
      "    'repetitions': 10}\n"
     ]
    }
   ],
   "source": [
    "pp.pprint(verse_ppr_experiment_results)"
   ]
  },
  {
   "cell_type": "code",
   "execution_count": 24,
   "metadata": {},
   "outputs": [],
   "source": [
    "# init link prediction experiment on verse-ppr embeddings with cross-product of experiment_params, each 10x repeated \n",
    "verse_ppr_link_pred_experiment = Experiment(method_name='Verse-PPR', dataset_name='Test-Data',\n",
    "                                            performance_function='both',node_labels=[0,0,1,1,2,2,1,0,0,2],\n",
    "                                            embeddings_file_path=embeddings_file_path, node_embedings=None,\n",
    "                                            embedding_dimensionality=128, repetitions=num_of_reps,\n",
    "                                            experiment_params={\n",
    "                                                'new_edges':[[[1,3],[5,6],[3,6],[1,5],[8,7],[9,4],[7,2]]],\n",
    "                                                'neg_edges':[[[2,3],[7,6],[1,6],[2,5],[8,9],[9,3],[7,5]]],\n",
    "                                                'vector_operator': ['hadamard']\n",
    "                                            },\n",
    "                                            results_file_path='results/test_verse_ppr_link_pred_experiment_results.json',\n",
    "                                            random_seeds=random_seeds, experiment_type='link_prediction')"
   ]
  },
  {
   "cell_type": "code",
   "execution_count": 25,
   "metadata": {},
   "outputs": [
    {
     "name": "stdout",
     "output_type": "stream",
     "text": [
      "Start link_prediction experiment on Test-Data data set with Verse-PPR embeddings\n",
      "Repeated 10 times and evaluated through bothperformance function(s)\n",
      "Initialize link prediction experiment with Verse-PPR on Test-Data evaluated through both on 50.0% train data!\n",
      "Initialize link prediction experiment with Verse-PPR on Test-Data evaluated through both on 50.0% train data!\n",
      "Initialize link prediction experiment with Verse-PPR on Test-Data evaluated through both on 50.0% train data!\n",
      "Initialize link prediction experiment with Verse-PPR on Test-Data evaluated through both on 50.0% train data!\n",
      "Compute edgewise features based on hadamard operator!\n",
      "Initialize link prediction experiment with Verse-PPR on Test-Data evaluated through both on 50.0% train data!\n",
      "Initialize link prediction experiment with Verse-PPR on Test-Data evaluated through both on 50.0% train data!\n",
      "Compute edgewise features based on hadamard operator!\n",
      "Compute edgewise features based on hadamard operator!\n",
      "Initialize link prediction experiment with Verse-PPR on Test-Data evaluated through both on 50.0% train data!\n",
      "Compute edgewise features based on hadamard operator!\n",
      "Compute edgewise features based on hadamard operator!\n",
      "Initialize link prediction experiment with Verse-PPR on Test-Data evaluated through both on 50.0% train data!\n",
      "Initialize link prediction experiment with Verse-PPR on Test-Data evaluated through both on 50.0% train data!\n",
      "Compute edgewise features based on hadamard operator!\n",
      "Initialize link prediction experiment with Verse-PPR on Test-Data evaluated through both on 50.0% train data!\n",
      "Compute edgewise features based on hadamard operator!\n"
     ]
    },
    {
     "name": "stderr",
     "output_type": "stream",
     "text": [
      "\r",
      "  0%|          | 0/7 [00:00<?, ?it/s]"
     ]
    },
    {
     "name": "stdout",
     "output_type": "stream",
     "text": [
      "Compute edgewise features based on hadamard operator!\n",
      "Compute edgewise features based on hadamard operator!\n"
     ]
    },
    {
     "name": "stderr",
     "output_type": "stream",
     "text": [
      "100%|██████████| 7/7 [00:00<00:00, 9224.04it/s]\n"
     ]
    },
    {
     "name": "stdout",
     "output_type": "stream",
     "text": [
      "Compute edgewise features based on hadamard operator!\n"
     ]
    },
    {
     "name": "stderr",
     "output_type": "stream",
     "text": [
      "100%|██████████| 7/7 [00:00<00:00, 318.18it/s]\n",
      "100%|██████████| 7/7 [00:00<00:00, 217.27it/s]\n",
      "/home/julius/anaconda3/lib/python3.6/site-packages/sklearn/model_selection/_split.py:2026: FutureWarning: From version 0.21, test_size will always complement train_size unless both are specified.\n",
      "  FutureWarning)\n",
      "100%|██████████| 7/7 [00:00<00:00, 259.14it/s]\n",
      "100%|██████████| 7/7 [00:00<00:00, 149.15it/s]\n",
      "100%|██████████| 7/7 [00:00<00:00, 242.11it/s]"
     ]
    },
    {
     "name": "stdout",
     "output_type": "stream",
     "text": [
      "Train link prediction experiment with Verse-PPR on Test-Data evaluated through both on 50.0% train data!\n"
     ]
    },
    {
     "name": "stderr",
     "output_type": "stream",
     "text": [
      "\n",
      "  0%|          | 0/7 [00:00<?, ?it/s]"
     ]
    },
    {
     "name": "stdout",
     "output_type": "stream",
     "text": [
      "convergence after 19 epochs took 0 seconds\n"
     ]
    },
    {
     "name": "stderr",
     "output_type": "stream",
     "text": [
      "[Parallel(n_jobs=-1)]: Done   1 out of   1 | elapsed:    0.0s finished\n",
      "100%|██████████| 7/7 [00:00<00:00, 121.12it/s]\n",
      "100%|██████████| 7/7 [00:00<00:00, 110.08it/s]\n",
      "/home/julius/anaconda3/lib/python3.6/site-packages/sklearn/model_selection/_split.py:2026: FutureWarning: From version 0.21, test_size will always complement train_size unless both are specified.\n",
      "  FutureWarning)\n",
      "100%|██████████| 7/7 [00:00<00:00, 86.08it/s]"
     ]
    },
    {
     "name": "stdout",
     "output_type": "stream",
     "text": [
      "Train link prediction experiment with Verse-PPR on Test-Data evaluated through both on 50.0% train data!\n",
      "convergence after 18 epochs took 0 seconds\n"
     ]
    },
    {
     "name": "stderr",
     "output_type": "stream",
     "text": [
      "\n",
      "  0%|          | 0/7 [00:00<?, ?it/s][Parallel(n_jobs=-1)]: Done   1 out of   1 | elapsed:    0.0s finished\n",
      "100%|██████████| 7/7 [00:00<00:00, 157.13it/s]\n",
      "/home/julius/anaconda3/lib/python3.6/site-packages/sklearn/model_selection/_split.py:2026: FutureWarning: From version 0.21, test_size will always complement train_size unless both are specified.\n",
      "  FutureWarning)\n",
      "100%|██████████| 7/7 [00:00<00:00, 97.91it/s]"
     ]
    },
    {
     "name": "stdout",
     "output_type": "stream",
     "text": [
      "Train link prediction experiment with Verse-PPR on Test-Data evaluated through both on 50.0% train data!\n"
     ]
    },
    {
     "name": "stderr",
     "output_type": "stream",
     "text": [
      "\n",
      "100%|██████████| 7/7 [00:00<00:00, 57.89it/s]"
     ]
    },
    {
     "name": "stdout",
     "output_type": "stream",
     "text": [
      "Trained link prediction experiment in 0.1 sec.!\n"
     ]
    },
    {
     "name": "stderr",
     "output_type": "stream",
     "text": [
      "/home/julius/anaconda3/lib/python3.6/site-packages/sklearn/model_selection/_split.py:2026: FutureWarning: From version 0.21, test_size will always complement train_size unless both are specified.\n",
      "  FutureWarning)\n",
      "\n"
     ]
    },
    {
     "name": "stdout",
     "output_type": "stream",
     "text": [
      "Train link prediction experiment with Verse-PPR on Test-Data evaluated through both on 50.0% train data!\n"
     ]
    },
    {
     "name": "stderr",
     "output_type": "stream",
     "text": [
      "\r",
      "  0%|          | 0/7 [00:00<?, ?it/s]"
     ]
    },
    {
     "name": "stdout",
     "output_type": "stream",
     "text": [
      "Predict link prediction experiment with Verse-PPR on Test-Data evaluated through both on 50.0% train data!\n"
     ]
    },
    {
     "name": "stderr",
     "output_type": "stream",
     "text": [
      "100%|██████████| 7/7 [00:00<00:00, 58.88it/s]\n",
      "  0%|          | 0/7 [00:00<?, ?it/s]"
     ]
    },
    {
     "name": "stdout",
     "output_type": "stream",
     "text": [
      "convergence after 14 epochs took 0 seconds\n",
      "Predicted link prediction experiment in 0.0 sec.!\n"
     ]
    },
    {
     "name": "stderr",
     "output_type": "stream",
     "text": [
      "\r",
      "100%|██████████| 7/7 [00:00<00:00, 684.74it/s]"
     ]
    },
    {
     "name": "stdout",
     "output_type": "stream",
     "text": [
      "Evaluate link prediction experiment with Verse-PPR on Test-Data evaluated through both on 50.0% train data!\n"
     ]
    },
    {
     "name": "stderr",
     "output_type": "stream",
     "text": [
      "\n",
      "/home/julius/anaconda3/lib/python3.6/site-packages/sklearn/metrics/classification.py:1135: UndefinedMetricWarning: F-score is ill-defined and being set to 0.0 in labels with no predicted samples.\n",
      "  'precision', 'predicted', average, warn_for)\n",
      "/home/julius/anaconda3/lib/python3.6/site-packages/sklearn/model_selection/_split.py:2026: FutureWarning: From version 0.21, test_size will always complement train_size unless both are specified.\n",
      "  FutureWarning)\n"
     ]
    },
    {
     "name": "stdout",
     "output_type": "stream",
     "text": [
      "Train link prediction experiment with Verse-PPR on Test-Data evaluated through both on 50.0% train data!\n"
     ]
    },
    {
     "name": "stderr",
     "output_type": "stream",
     "text": [
      "[Parallel(n_jobs=-1)]: Done   1 out of   1 | elapsed:    0.0s finished\n",
      "100%|██████████| 7/7 [00:00<00:00, 84.93it/s]\n",
      "100%|██████████| 7/7 [00:00<00:00, 204.43it/s]/home/julius/anaconda3/lib/python3.6/site-packages/sklearn/model_selection/_split.py:2026: FutureWarning: From version 0.21, test_size will always complement train_size unless both are specified.\n",
      "  FutureWarning)\n",
      "\n"
     ]
    },
    {
     "name": "stdout",
     "output_type": "stream",
     "text": [
      "Train link prediction experiment with Verse-PPR on Test-Data evaluated through both on 50.0% train data!\n",
      "convergence after 18 epochs took 0 seconds\n",
      "Trained link prediction experiment in 0.1 sec.!\n"
     ]
    },
    {
     "name": "stderr",
     "output_type": "stream",
     "text": [
      "[Parallel(n_jobs=-1)]: Done   1 out of   1 | elapsed:    0.0s finished\n",
      "/home/julius/anaconda3/lib/python3.6/site-packages/sklearn/model_selection/_split.py:2026: FutureWarning: From version 0.21, test_size will always complement train_size unless both are specified.\n",
      "  FutureWarning)\n",
      "  0%|          | 0/7 [00:00<?, ?it/s]"
     ]
    },
    {
     "name": "stdout",
     "output_type": "stream",
     "text": [
      "Train link prediction experiment with Verse-PPR on Test-Data evaluated through both on 50.0% train data!\n",
      "Predict link prediction experiment with Verse-PPR on Test-Data evaluated through both on 50.0% train data!\n"
     ]
    },
    {
     "name": "stderr",
     "output_type": "stream",
     "text": [
      "\r",
      "100%|██████████| 7/7 [00:00<00:00, 45.18it/s]"
     ]
    },
    {
     "name": "stdout",
     "output_type": "stream",
     "text": [
      "Predicted link prediction experiment in 0.0 sec.!\n",
      "Evaluate link prediction experiment with Verse-PPR on Test-Data evaluated through both on 50.0% train data!\n",
      "convergence after 15 epochs took 0 seconds\n"
     ]
    },
    {
     "name": "stderr",
     "output_type": "stream",
     "text": [
      "\n",
      "[Parallel(n_jobs=-1)]: Done   1 out of   1 | elapsed:    0.0s finished\n",
      "/home/julius/anaconda3/lib/python3.6/site-packages/sklearn/metrics/classification.py:1135: UndefinedMetricWarning: F-score is ill-defined and being set to 0.0 in labels with no predicted samples.\n",
      "  'precision', 'predicted', average, warn_for)\n",
      "100%|██████████| 7/7 [00:00<00:00, 175.79it/s]\n",
      "  0%|          | 0/7 [00:00<?, ?it/s]/home/julius/anaconda3/lib/python3.6/site-packages/sklearn/model_selection/_split.py:2026: FutureWarning: From version 0.21, test_size will always complement train_size unless both are specified.\n",
      "  FutureWarning)\n",
      "100%|██████████| 7/7 [00:00<00:00, 277.67it/s]"
     ]
    },
    {
     "name": "stdout",
     "output_type": "stream",
     "text": [
      "Trained link prediction experiment in 0.1 sec.!\n",
      "Train link prediction experiment with Verse-PPR on Test-Data evaluated through both on 50.0% train data!\n",
      "convergence after 16 epochs took 0 seconds\n"
     ]
    },
    {
     "name": "stderr",
     "output_type": "stream",
     "text": [
      "[Parallel(n_jobs=-1)]: Done   1 out of   1 | elapsed:    0.0s finished\n"
     ]
    },
    {
     "name": "stdout",
     "output_type": "stream",
     "text": [
      "Predict link prediction experiment with Verse-PPR on Test-Data evaluated through both on 50.0% train data!\n",
      "convergence after 14 epochs took 0 seconds\n"
     ]
    },
    {
     "name": "stderr",
     "output_type": "stream",
     "text": [
      "\n",
      "100%|██████████| 7/7 [00:00<00:00, 290.15it/s]/home/julius/anaconda3/lib/python3.6/site-packages/sklearn/model_selection/_split.py:2026: FutureWarning: From version 0.21, test_size will always complement train_size unless both are specified.\n",
      "  FutureWarning)\n"
     ]
    },
    {
     "name": "stdout",
     "output_type": "stream",
     "text": [
      "Predicted link prediction experiment in 0.0 sec.!\n",
      "Trained link prediction experiment in 0.12 sec.!\n",
      "Evaluate link prediction experiment with Verse-PPR on Test-Data evaluated through both on 50.0% train data!\n",
      "Train link prediction experiment with Verse-PPR on Test-Data evaluated through both on 50.0% train data!\n"
     ]
    },
    {
     "name": "stderr",
     "output_type": "stream",
     "text": [
      "[Parallel(n_jobs=-1)]: Done   1 out of   1 | elapsed:    0.0s finished\n"
     ]
    },
    {
     "name": "stdout",
     "output_type": "stream",
     "text": [
      "Predict link prediction experiment with Verse-PPR on Test-Data evaluated through both on 50.0% train data!\n"
     ]
    },
    {
     "name": "stderr",
     "output_type": "stream",
     "text": [
      "\n",
      "/home/julius/anaconda3/lib/python3.6/site-packages/sklearn/model_selection/_split.py:2026: FutureWarning: From version 0.21, test_size will always complement train_size unless both are specified.\n",
      "  FutureWarning)\n"
     ]
    },
    {
     "name": "stdout",
     "output_type": "stream",
     "text": [
      "Predicted link prediction experiment in 0.0 sec.!\n",
      "Train link prediction experiment with Verse-PPR on Test-Data evaluated through both on 50.0% train data!\n",
      "convergence after 18 epochs took 0 seconds\n",
      "Evaluate link prediction experiment with Verse-PPR on Test-Data evaluated through both on 50.0% train data!\n"
     ]
    },
    {
     "name": "stderr",
     "output_type": "stream",
     "text": [
      "[Parallel(n_jobs=-1)]: Done   1 out of   1 | elapsed:    0.0s finished\n"
     ]
    },
    {
     "name": "stdout",
     "output_type": "stream",
     "text": [
      "convergence after 14 epochs took 0 seconds\n"
     ]
    },
    {
     "name": "stderr",
     "output_type": "stream",
     "text": [
      "[Parallel(n_jobs=-1)]: Done   1 out of   1 | elapsed:    0.0s finished\n"
     ]
    },
    {
     "name": "stdout",
     "output_type": "stream",
     "text": [
      "Trained link prediction experiment in 0.13 sec.!\n",
      "Trained link prediction experiment in 0.12 sec.!\n",
      "Predict link prediction experiment with Verse-PPR on Test-Data evaluated through both on 50.0% train data!\n",
      "Predict link prediction experiment with Verse-PPR on Test-Data evaluated through both on 50.0% train data!\n",
      "convergence after 18 epochs took 0 seconds\n"
     ]
    },
    {
     "name": "stderr",
     "output_type": "stream",
     "text": [
      "[Parallel(n_jobs=-1)]: Done   1 out of   1 | elapsed:    0.0s finished\n"
     ]
    },
    {
     "name": "stdout",
     "output_type": "stream",
     "text": [
      "Predicted link prediction experiment in 0.0 sec.!\n",
      "Evaluate link prediction experiment with Verse-PPR on Test-Data evaluated through both on 50.0% train data!\n",
      "Predicted link prediction experiment in 0.0 sec.!\n",
      "Trained link prediction experiment in 0.13 sec.!\n",
      "Evaluate link prediction experiment with Verse-PPR on Test-Data evaluated through both on 50.0% train data!\n",
      "Predict link prediction experiment with Verse-PPR on Test-Data evaluated through both on 50.0% train data!\n",
      "Predicted link prediction experiment in 0.0 sec.!\n",
      "Evaluate link prediction experiment with Verse-PPR on Test-Data evaluated through both on 50.0% train data!\n",
      "Trained link prediction experiment in 0.13 sec.!\n",
      "Predict link prediction experiment with Verse-PPR on Test-Data evaluated through both on 50.0% train data!\n",
      "Predicted link prediction experiment in 0.0 sec.!\n",
      "Evaluate link prediction experiment with Verse-PPR on Test-Data evaluated through both on 50.0% train data!\n",
      "Trained link prediction experiment in 0.12 sec.!\n",
      "Predict link prediction experiment with Verse-PPR on Test-Data evaluated through both on 50.0% train data!\n",
      "Predicted link prediction experiment in 0.0 sec.!\n",
      "Evaluate link prediction experiment with Verse-PPR on Test-Data evaluated through both on 50.0% train data!\n",
      "Trained link prediction experiment in 0.13 sec.!\n",
      "Predict link prediction experiment with Verse-PPR on Test-Data evaluated through both on 50.0% train data!\n",
      "Predicted link prediction experiment in 0.0 sec.!\n",
      "Evaluate link prediction experiment with Verse-PPR on Test-Data evaluated through both on 50.0% train data!\n",
      "Finished link_prediction experiment on Test-Data data set with Verse-PPR embeddings\n",
      "Saved results in file results/test_verse_ppr_link_pred_experiment_results.json\n"
     ]
    }
   ],
   "source": [
    "# run experiment wrapper: train, predict and evaluate link prediction with each param combination 10 times\n",
    "verse_ppr_link_pred_experiment_results = verse_ppr_link_pred_experiment.run()"
   ]
  },
  {
   "cell_type": "code",
   "execution_count": 26,
   "metadata": {},
   "outputs": [
    {
     "name": "stdout",
     "output_type": "stream",
     "text": [
      "{   'dataset': 'Test-Data',\n",
      "    'embedding_file': 'data/test_converter_verse_embeddings.bin',\n",
      "    'method': 'Verse-PPR',\n",
      "    'parameterizations': [   {   'params': {   'neg_edges': [   [2, 3],\n",
      "                                                                [7, 6],\n",
      "                                                                [1, 6],\n",
      "                                                                [2, 5],\n",
      "                                                                [8, 9],\n",
      "                                                                [9, 3],\n",
      "                                                                [7, 5]],\n",
      "                                               'new_edges': [   [1, 3],\n",
      "                                                                [5, 6],\n",
      "                                                                [3, 6],\n",
      "                                                                [1, 5],\n",
      "                                                                [8, 7],\n",
      "                                                                [9, 4],\n",
      "                                                                [7, 2]],\n",
      "                                               'vector_operator': 'hadamard'},\n",
      "                                 'runs': [   {   'evaluation': {   'macro': 0.41666666666666663,\n",
      "                                                                   'micro': 0.42857142857142855},\n",
      "                                                 'predictions': [   1,\n",
      "                                                                    0,\n",
      "                                                                    1,\n",
      "                                                                    0,\n",
      "                                                                    0,\n",
      "                                                                    1,\n",
      "                                                                    0],\n",
      "                                                 'random_seed': 42,\n",
      "                                                 'run': 1},\n",
      "                                             {   'evaluation': {   'macro': 0.22222222222222224,\n",
      "                                                                   'micro': 0.2857142857142857},\n",
      "                                                 'predictions': [   1,\n",
      "                                                                    1,\n",
      "                                                                    1,\n",
      "                                                                    1,\n",
      "                                                                    1,\n",
      "                                                                    1,\n",
      "                                                                    1],\n",
      "                                                 'random_seed': 43,\n",
      "                                                 'run': 2},\n",
      "                                             {   'evaluation': {   'macro': 0.7083333333333333,\n",
      "                                                                   'micro': 0.7142857142857143},\n",
      "                                                 'predictions': [   1,\n",
      "                                                                    1,\n",
      "                                                                    1,\n",
      "                                                                    0,\n",
      "                                                                    0,\n",
      "                                                                    1,\n",
      "                                                                    1],\n",
      "                                                 'random_seed': 44,\n",
      "                                                 'run': 3},\n",
      "                                             {   'evaluation': {   'macro': 0.22222222222222224,\n",
      "                                                                   'micro': 0.2857142857142857},\n",
      "                                                 'predictions': [   1,\n",
      "                                                                    1,\n",
      "                                                                    1,\n",
      "                                                                    1,\n",
      "                                                                    1,\n",
      "                                                                    1,\n",
      "                                                                    1],\n",
      "                                                 'random_seed': 45,\n",
      "                                                 'run': 4},\n",
      "                                             {   'evaluation': {   'macro': 0.7083333333333333,\n",
      "                                                                   'micro': 0.7142857142857143},\n",
      "                                                 'predictions': [   1,\n",
      "                                                                    0,\n",
      "                                                                    0,\n",
      "                                                                    1,\n",
      "                                                                    0,\n",
      "                                                                    1,\n",
      "                                                                    0],\n",
      "                                                 'random_seed': 46,\n",
      "                                                 'run': 5},\n",
      "                                             {   'evaluation': {   'macro': 0.41666666666666663,\n",
      "                                                                   'micro': 0.42857142857142855},\n",
      "                                                 'predictions': [   0,\n",
      "                                                                    0,\n",
      "                                                                    0,\n",
      "                                                                    0,\n",
      "                                                                    1,\n",
      "                                                                    0,\n",
      "                                                                    1],\n",
      "                                                 'random_seed': 47,\n",
      "                                                 'run': 6},\n",
      "                                             {   'evaluation': {   'macro': 0.5333333333333332,\n",
      "                                                                   'micro': 0.5714285714285714},\n",
      "                                                 'predictions': [   0,\n",
      "                                                                    0,\n",
      "                                                                    0,\n",
      "                                                                    1,\n",
      "                                                                    1,\n",
      "                                                                    1,\n",
      "                                                                    0],\n",
      "                                                 'random_seed': 48,\n",
      "                                                 'run': 7},\n",
      "                                             {   'evaluation': {   'macro': 0.5714285714285715,\n",
      "                                                                   'micro': 0.5714285714285714},\n",
      "                                                 'predictions': [   1,\n",
      "                                                                    0,\n",
      "                                                                    0,\n",
      "                                                                    1,\n",
      "                                                                    1,\n",
      "                                                                    1,\n",
      "                                                                    0],\n",
      "                                                 'random_seed': 49,\n",
      "                                                 'run': 8},\n",
      "                                             {   'evaluation': {   'macro': 0.4166666666666667,\n",
      "                                                                   'micro': 0.42857142857142855},\n",
      "                                                 'predictions': [   0,\n",
      "                                                                    1,\n",
      "                                                                    1,\n",
      "                                                                    1,\n",
      "                                                                    1,\n",
      "                                                                    1,\n",
      "                                                                    1],\n",
      "                                                 'random_seed': 50,\n",
      "                                                 'run': 9},\n",
      "                                             {   'evaluation': {   'macro': 0.3636363636363636,\n",
      "                                                                   'micro': 0.5714285714285714},\n",
      "                                                 'predictions': [   1,\n",
      "                                                                    1,\n",
      "                                                                    1,\n",
      "                                                                    1,\n",
      "                                                                    1,\n",
      "                                                                    1,\n",
      "                                                                    0],\n",
      "                                                 'random_seed': 51,\n",
      "                                                 'run': 10}]}],\n",
      "    'repetitions': 10}\n"
     ]
    }
   ],
   "source": [
    "pp.pprint(verse_ppr_link_pred_experiment_results)"
   ]
  },
  {
   "cell_type": "code",
   "execution_count": null,
   "metadata": {
    "collapsed": true
   },
   "outputs": [],
   "source": []
  }
 ],
 "metadata": {
  "kernelspec": {
   "display_name": "Python 3",
   "language": "python",
   "name": "python3"
  },
  "language_info": {
   "codemirror_mode": {
    "name": "ipython",
    "version": 3
   },
   "file_extension": ".py",
   "mimetype": "text/x-python",
   "name": "python",
   "nbconvert_exporter": "python",
   "pygments_lexer": "ipython3",
   "version": "3.6.3"
  }
 },
 "nbformat": 4,
 "nbformat_minor": 2
}
