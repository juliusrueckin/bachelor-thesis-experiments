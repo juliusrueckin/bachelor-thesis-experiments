{
 "cells": [
  {
   "cell_type": "code",
   "execution_count": 1,
   "metadata": {
    "collapsed": true
   },
   "outputs": [],
   "source": [
    "# import necessary stuff and python-wrapper of verse\n",
    "import os\n",
    "import pprint\n",
    "import numpy as np\n",
    "import json\n",
    "import sys\n",
    "import codecs\n",
    "from scipy.sparse import csr_matrix\n",
    "\n",
    "from verse.python.wrapper import VERSE\n",
    "from multi_class_classification import MultiClassClassification\n",
    "from multi_label_classification import MultiLabelClassification\n",
    "from clustering import Clustering\n",
    "from link_prediction import LinkPrediction\n",
    "from experiment import Experiment"
   ]
  },
  {
   "cell_type": "code",
   "execution_count": 2,
   "metadata": {
    "collapsed": true
   },
   "outputs": [],
   "source": [
    "# initialize pretty printer\n",
    "pp = pprint.PrettyPrinter(indent=4, depth=8)"
   ]
  },
  {
   "cell_type": "code",
   "execution_count": 3,
   "metadata": {
    "collapsed": true
   },
   "outputs": [],
   "source": [
    "# define path to c++ inplementation of verse and its *.so compiled files\n",
    "# instantiate verse algorithm object\n",
    "cpath = os.path.dirname(os.path.realpath('verse/src/verse.cpp'))\n",
    "verse = VERSE(cpath=cpath)"
   ]
  },
  {
   "cell_type": "code",
   "execution_count": 4,
   "metadata": {
    "collapsed": true
   },
   "outputs": [],
   "source": [
    "# construct example adjacency matrix in csr format\n",
    "row = np.array([0, 0, 1, 2, 2, 2])\n",
    "col = np.array([0, 2, 2, 0, 1, 2])\n",
    "data = np.array([1, 2, 3, 4, 5, 6])\n",
    "\n",
    "csr_adjacency_matrix = csr_matrix((data, (row, col)), shape=(10, 10))"
   ]
  },
  {
   "cell_type": "code",
   "execution_count": 5,
   "metadata": {
    "collapsed": true
   },
   "outputs": [],
   "source": [
    "# define hyper-parameters for verse with personalized page rank as sim_G function\n",
    "graph = csr_adjacency_matrix\n",
    "w = None\n",
    "n_hidden = 128\n",
    "alpha = 0.85\n",
    "steps = 100000\n",
    "n_neg_samples = 3\n",
    "lr = 0.0025\n",
    "rng_seed = 0\n",
    "n_threads = -1"
   ]
  },
  {
   "cell_type": "code",
   "execution_count": 6,
   "metadata": {
    "collapsed": true
   },
   "outputs": [],
   "source": [
    "# compute node embeddings\n",
    "# ATTENTION: takes a while until termination and cannot be terminated through restarting kernel\n",
    "# Need to kill terminal, where jupyter notebook is started in in order to kill c++-process\n",
    "verse_ppr_embeddings = verse.verse_ppr(graph, w, n_hidden, alpha, steps, n_neg_samples, lr, rng_seed, n_threads)"
   ]
  },
  {
   "cell_type": "code",
   "execution_count": 7,
   "metadata": {
    "collapsed": true
   },
   "outputs": [],
   "source": [
    "# or read *.bin file with precomputed embeddings\n",
    "embeddings_file_path = 'data/test_converter_verse_embeddings.bin'\n",
    "embeddings_file = open(embeddings_file_path, \"r\")\n",
    "embeddings_file_content = np.fromfile(embeddings_file, dtype=np.float32)\n",
    "num_of_nodes = int(np.shape(embeddings_file_content)[0] / n_hidden)\n",
    "verse_ppr_embeddings = embeddings_file_content.reshape((num_of_nodes, n_hidden))"
   ]
  },
  {
   "cell_type": "code",
   "execution_count": 8,
   "metadata": {},
   "outputs": [
    {
     "data": {
      "text/plain": [
       "(10, 128)"
      ]
     },
     "execution_count": 8,
     "metadata": {},
     "output_type": "execute_result"
    }
   ],
   "source": [
    "np.shape(verse_ppr_embeddings)"
   ]
  },
  {
   "cell_type": "code",
   "execution_count": 9,
   "metadata": {},
   "outputs": [
    {
     "name": "stdout",
     "output_type": "stream",
     "text": [
      "Initialize multi-class classification experiment with Verse-PPR on Test-Data evaluated through both on 50.0% train data!\n"
     ]
    }
   ],
   "source": [
    "# instantiate multi-class classification expirement\n",
    "verse_ppr_classification_experiment = MultiClassClassification(method_name='Verse-PPR', dataset_name='Test-Data',\n",
    "                                                               performance_function='both', train_size=0.5,\n",
    "                                                               embeddings=verse_ppr_embeddings,\n",
    "                                                               node_labels=[0,1,1,0,0,1,1,0,0,1])"
   ]
  },
  {
   "cell_type": "code",
   "execution_count": 10,
   "metadata": {},
   "outputs": [
    {
     "name": "stdout",
     "output_type": "stream",
     "text": [
      "Train multi-class classification experiment with Verse-PPR on Test-Data evaluated through both on 50.0% train data!\n",
      "convergence after 23 epochs took 0 seconds\n",
      "Trained multi-class classification experiment in 0.0 sec.!\n",
      "Predict multi-class classification experiment with Verse-PPR on Test-Data evaluated through both on 50.0% train data!\n",
      "Predicted multi-class classification experiment in 0.0 sec.!\n",
      "Evaluate multi-class classification experiment with Verse-PPR on Test-Data evaluated through both on 50.0% train data!\n"
     ]
    },
    {
     "name": "stderr",
     "output_type": "stream",
     "text": [
      "[Parallel(n_jobs=1)]: Done   1 out of   1 | elapsed:    0.0s finished\n"
     ]
    }
   ],
   "source": [
    "# train, predict and evaluate multi-class classification experiment\n",
    "logistic_regression_model = verse_ppr_classification_experiment.train()\n",
    "node_label_predictions = verse_ppr_classification_experiment.predict()\n",
    "verse_ppr_classification_experiment_results = verse_ppr_classification_experiment.evaluate()"
   ]
  },
  {
   "cell_type": "code",
   "execution_count": 11,
   "metadata": {},
   "outputs": [
    {
     "data": {
      "text/plain": [
       "{'macro': 0.16666666666666666, 'micro': 0.20000000000000004}"
      ]
     },
     "execution_count": 11,
     "metadata": {},
     "output_type": "execute_result"
    }
   ],
   "source": [
    "# print results of multi-class classification experiment\n",
    "verse_ppr_classification_experiment_results"
   ]
  },
  {
   "cell_type": "code",
   "execution_count": 12,
   "metadata": {},
   "outputs": [
    {
     "name": "stdout",
     "output_type": "stream",
     "text": [
      "Initialize clustering experiment with Verse-PPR on Test-Data evaluated through both!\n"
     ]
    }
   ],
   "source": [
    "# instantiate clustering expirement\n",
    "verse_ppr_clustering_experiment = Clustering(method_name='Verse-PPR', dataset_name='Test-Data', \n",
    "                                             performance_function='both', embeddings=verse_ppr_embeddings,\n",
    "                                             node_labels=[0,0,1,1,2,2,1,0,0,2], n_clusters=3)"
   ]
  },
  {
   "cell_type": "code",
   "execution_count": 13,
   "metadata": {},
   "outputs": [
    {
     "name": "stdout",
     "output_type": "stream",
     "text": [
      "Train clustering experiment with Verse-PPR on Test-Data evaluated through both!\n",
      "Trained clustering experiment in 0.2 sec.!\n",
      "Predict clustering experiment with Verse-PPR on Test-Data evaluated through both!\n",
      "Predicted clustering experiment in 0.0 sec.!\n",
      "Evaluate clustering experiment with Verse-PPR on Test-Data evaluated through both!\n"
     ]
    }
   ],
   "source": [
    "# train, predict and evaluate clustering experiment\n",
    "k_means = verse_ppr_clustering_experiment.train()\n",
    "node_label_predictions = verse_ppr_clustering_experiment.predict()\n",
    "verse_ppr_clustering_experiment_results = verse_ppr_clustering_experiment.evaluate()"
   ]
  },
  {
   "cell_type": "code",
   "execution_count": 14,
   "metadata": {},
   "outputs": [
    {
     "data": {
      "text/plain": [
       "{'nmi': 0.44270128334604997, 'silhouette': 0.22370306}"
      ]
     },
     "execution_count": 14,
     "metadata": {},
     "output_type": "execute_result"
    }
   ],
   "source": [
    "# print results of clustering experiment\n",
    "verse_ppr_clustering_experiment_results"
   ]
  },
  {
   "cell_type": "code",
   "execution_count": 15,
   "metadata": {},
   "outputs": [
    {
     "name": "stdout",
     "output_type": "stream",
     "text": [
      "Initialize multi-label classification experiment with Verse-PPR on Test-Data evaluated through both on 30.0% train data!\n"
     ]
    }
   ],
   "source": [
    "# instantiate multi-label classification expirement\n",
    "verse_ppr_multi_label_classification_experiment = \\\n",
    "    MultiLabelClassification(method_name='Verse-PPR', dataset_name='Test-Data', performance_function='both',\n",
    "                             embeddings=verse_ppr_embeddings, n_neighbors=3, classifier='logistic_regression',\n",
    "                             node_labels=[[0],[1,2],[0,2],[0,1],[2],[1],[0,1],[1],[2],[1,0]])"
   ]
  },
  {
   "cell_type": "code",
   "execution_count": 16,
   "metadata": {},
   "outputs": [
    {
     "name": "stdout",
     "output_type": "stream",
     "text": [
      "Train multi-label classification experiment with Verse-PPR on Test-Data evaluated through both on 30.0% train data!\n",
      "convergence after 45 epochs took 0 seconds\n"
     ]
    },
    {
     "name": "stderr",
     "output_type": "stream",
     "text": [
      "[Parallel(n_jobs=1)]: Done   1 out of   1 | elapsed:    0.0s finished\n"
     ]
    },
    {
     "name": "stdout",
     "output_type": "stream",
     "text": [
      "convergence after 36 epochs took 0 seconds\n",
      "convergence after 40 epochs took 0 seconds\n"
     ]
    },
    {
     "name": "stderr",
     "output_type": "stream",
     "text": [
      "[Parallel(n_jobs=1)]: Done   1 out of   1 | elapsed:    0.0s finished\n",
      "[Parallel(n_jobs=1)]: Done   1 out of   1 | elapsed:    0.0s finished\n"
     ]
    },
    {
     "name": "stdout",
     "output_type": "stream",
     "text": [
      "Trained multi-label classification experiment in 0.19 sec.!\n",
      "Predict multi-label classification experiment with Verse-PPR on Test-Data evaluated through both on 30.0% train data!\n",
      "Predicted multi-label classification experiment in 0.0 sec.!\n",
      "Evaluate multi-label classification experiment with Verse-PPR on Test-Data evaluated through both on 30.0% train data!\n"
     ]
    }
   ],
   "source": [
    "# train, predict and evaluate multi-label classification experiment\n",
    "multi_label_model = verse_ppr_multi_label_classification_experiment.train()\n",
    "node_label_predictions = verse_ppr_multi_label_classification_experiment.predict()\n",
    "verse_ppr_multi_label_classification_experiment_results = verse_ppr_multi_label_classification_experiment.evaluate()"
   ]
  },
  {
   "cell_type": "code",
   "execution_count": 17,
   "metadata": {},
   "outputs": [
    {
     "data": {
      "text/plain": [
       "{'macro': 0.57777777777777761, 'micro': 0.59999999999999998}"
      ]
     },
     "execution_count": 17,
     "metadata": {},
     "output_type": "execute_result"
    }
   ],
   "source": [
    "# print results of multi-label classification experiment\n",
    "verse_ppr_multi_label_classification_experiment_results"
   ]
  },
  {
   "cell_type": "code",
   "execution_count": 18,
   "metadata": {},
   "outputs": [
    {
     "name": "stdout",
     "output_type": "stream",
     "text": [
      "Initialize link prediction experiment with Verse-PPR on Test-Data evaluated through both on 50.0% train data!\n",
      "Compute edgewise features based on hadamard operator!\n"
     ]
    },
    {
     "name": "stderr",
     "output_type": "stream",
     "text": [
      "/home/julius/anaconda3/lib/python3.6/site-packages/sklearn/model_selection/_split.py:2026: FutureWarning: From version 0.21, test_size will always complement train_size unless both are specified.\n",
      "  FutureWarning)\n"
     ]
    }
   ],
   "source": [
    "# instantiate link prediction expirement\n",
    "verse_ppr_link_prediction_experiment = \\\n",
    "    LinkPrediction(method_name='Verse-PPR', dataset_name='Test-Data', performance_function='both', \n",
    "                   node_embeddings=verse_ppr_embeddings, new_edges=[[1,3],[5,6],[3,6],[1,5],[8,7],[9,4],[7,2]],\n",
    "                   vector_operator='hadamard', neg_edges=[[2,3],[7,6],[1,6],[2,5],[8,9],[9,3],[7,5]])"
   ]
  },
  {
   "cell_type": "code",
   "execution_count": 19,
   "metadata": {},
   "outputs": [
    {
     "name": "stdout",
     "output_type": "stream",
     "text": [
      "Train link prediction experiment with Verse-PPR on Test-Data evaluated through both on 50.0% train data!\n",
      "convergence after 18 epochs took 0 seconds\n",
      "Trained link prediction experiment in 0.0 sec.!\n",
      "Predict multi-class classification experiment with Verse-PPR on Test-Data evaluated through both on 50.0% train data!\n",
      "Predicted link prediction experiment in 0.0 sec.!\n",
      "Evaluate link prediction experiment with Verse-PPR on Test-Data evaluated through both on 50.0% train data!\n"
     ]
    },
    {
     "name": "stderr",
     "output_type": "stream",
     "text": [
      "[Parallel(n_jobs=1)]: Done   1 out of   1 | elapsed:    0.0s finished\n"
     ]
    }
   ],
   "source": [
    "# train, predict and evaluate link prediction experiment\n",
    "link_prediction_model = verse_ppr_link_prediction_experiment.train()\n",
    "edge_label_predictions = verse_ppr_link_prediction_experiment.predict()\n",
    "verse_ppr_link_prediction_experiment_results = verse_ppr_link_prediction_experiment.evaluate()"
   ]
  },
  {
   "cell_type": "code",
   "execution_count": 20,
   "metadata": {},
   "outputs": [
    {
     "data": {
      "text/plain": [
       "{'macro': 0.70833333333333326, 'micro': 0.7142857142857143}"
      ]
     },
     "execution_count": 20,
     "metadata": {},
     "output_type": "execute_result"
    }
   ],
   "source": [
    "# print results of link prediction experiment\n",
    "verse_ppr_link_prediction_experiment_results"
   ]
  },
  {
   "cell_type": "code",
   "execution_count": 21,
   "metadata": {
    "collapsed": true
   },
   "outputs": [],
   "source": [
    "# init clustering experiment on verse-ppr embeddings with cross-product of experiment_params, each 10x repeated \n",
    "verse_ppr_experiment = Experiment(method_name='Verse-PPR', dataset_name='Test-Data', performance_function='nmi',\n",
    "                                  node_labels=[0,0,1,1,2,2,1,0,0,2],embeddings_file_path=embeddings_file_path,\n",
    "                                  node_embedings=None, embedding_dimensionality=128, repetitions=10,\n",
    "                                  experiment_params={'n_clusters': [2,3]},\n",
    "                                  results_file_path='results/test_verse_ppr_experiment_results.json')"
   ]
  },
  {
   "cell_type": "code",
   "execution_count": 22,
   "metadata": {},
   "outputs": [
    {
     "name": "stdout",
     "output_type": "stream",
     "text": [
      "Start clustering experiment on Test-Data data set with Verse-PPR embeddings\n",
      "Repeated 10 times and evaluated through nmiperformance function(s)\n",
      "Initialize clustering experiment with Verse-PPR on Test-Data evaluated through nmi!\n",
      "Train clustering experiment with Verse-PPR on Test-Data evaluated through nmi!\n",
      "Trained clustering experiment in 0.18 sec.!\n",
      "Predict clustering experiment with Verse-PPR on Test-Data evaluated through nmi!\n",
      "Predicted clustering experiment in 0.0 sec.!\n",
      "Evaluate clustering experiment with Verse-PPR on Test-Data evaluated through nmi!\n",
      "Initialize clustering experiment with Verse-PPR on Test-Data evaluated through nmi!\n",
      "Train clustering experiment with Verse-PPR on Test-Data evaluated through nmi!\n",
      "Trained clustering experiment in 0.22 sec.!\n",
      "Predict clustering experiment with Verse-PPR on Test-Data evaluated through nmi!\n",
      "Predicted clustering experiment in 0.0 sec.!\n",
      "Evaluate clustering experiment with Verse-PPR on Test-Data evaluated through nmi!\n",
      "Initialize clustering experiment with Verse-PPR on Test-Data evaluated through nmi!\n",
      "Train clustering experiment with Verse-PPR on Test-Data evaluated through nmi!\n",
      "Trained clustering experiment in 0.21 sec.!\n",
      "Predict clustering experiment with Verse-PPR on Test-Data evaluated through nmi!\n",
      "Predicted clustering experiment in 0.0 sec.!\n",
      "Evaluate clustering experiment with Verse-PPR on Test-Data evaluated through nmi!\n",
      "Initialize clustering experiment with Verse-PPR on Test-Data evaluated through nmi!\n",
      "Train clustering experiment with Verse-PPR on Test-Data evaluated through nmi!\n",
      "Trained clustering experiment in 0.19 sec.!\n",
      "Predict clustering experiment with Verse-PPR on Test-Data evaluated through nmi!\n",
      "Predicted clustering experiment in 0.0 sec.!\n",
      "Evaluate clustering experiment with Verse-PPR on Test-Data evaluated through nmi!\n",
      "Initialize clustering experiment with Verse-PPR on Test-Data evaluated through nmi!\n",
      "Train clustering experiment with Verse-PPR on Test-Data evaluated through nmi!\n",
      "Trained clustering experiment in 0.2 sec.!\n",
      "Predict clustering experiment with Verse-PPR on Test-Data evaluated through nmi!\n",
      "Predicted clustering experiment in 0.0 sec.!\n",
      "Evaluate clustering experiment with Verse-PPR on Test-Data evaluated through nmi!\n",
      "Initialize clustering experiment with Verse-PPR on Test-Data evaluated through nmi!\n",
      "Train clustering experiment with Verse-PPR on Test-Data evaluated through nmi!\n",
      "Trained clustering experiment in 0.18 sec.!\n",
      "Predict clustering experiment with Verse-PPR on Test-Data evaluated through nmi!\n",
      "Predicted clustering experiment in 0.0 sec.!\n",
      "Evaluate clustering experiment with Verse-PPR on Test-Data evaluated through nmi!\n",
      "Initialize clustering experiment with Verse-PPR on Test-Data evaluated through nmi!\n",
      "Train clustering experiment with Verse-PPR on Test-Data evaluated through nmi!\n",
      "Trained clustering experiment in 0.18 sec.!\n",
      "Predict clustering experiment with Verse-PPR on Test-Data evaluated through nmi!\n",
      "Predicted clustering experiment in 0.0 sec.!\n",
      "Evaluate clustering experiment with Verse-PPR on Test-Data evaluated through nmi!\n",
      "Initialize clustering experiment with Verse-PPR on Test-Data evaluated through nmi!\n",
      "Train clustering experiment with Verse-PPR on Test-Data evaluated through nmi!\n",
      "Trained clustering experiment in 0.17 sec.!\n",
      "Predict clustering experiment with Verse-PPR on Test-Data evaluated through nmi!\n",
      "Predicted clustering experiment in 0.0 sec.!\n",
      "Evaluate clustering experiment with Verse-PPR on Test-Data evaluated through nmi!\n",
      "Initialize clustering experiment with Verse-PPR on Test-Data evaluated through nmi!\n",
      "Train clustering experiment with Verse-PPR on Test-Data evaluated through nmi!\n",
      "Trained clustering experiment in 0.2 sec.!\n",
      "Predict clustering experiment with Verse-PPR on Test-Data evaluated through nmi!\n",
      "Predicted clustering experiment in 0.0 sec.!\n",
      "Evaluate clustering experiment with Verse-PPR on Test-Data evaluated through nmi!\n",
      "Initialize clustering experiment with Verse-PPR on Test-Data evaluated through nmi!\n",
      "Train clustering experiment with Verse-PPR on Test-Data evaluated through nmi!\n",
      "Trained clustering experiment in 0.19 sec.!\n",
      "Predict clustering experiment with Verse-PPR on Test-Data evaluated through nmi!\n",
      "Predicted clustering experiment in 0.0 sec.!\n",
      "Evaluate clustering experiment with Verse-PPR on Test-Data evaluated through nmi!\n",
      "Initialize clustering experiment with Verse-PPR on Test-Data evaluated through nmi!\n",
      "Train clustering experiment with Verse-PPR on Test-Data evaluated through nmi!\n",
      "Trained clustering experiment in 0.23 sec.!\n",
      "Predict clustering experiment with Verse-PPR on Test-Data evaluated through nmi!\n",
      "Predicted clustering experiment in 0.0 sec.!\n",
      "Evaluate clustering experiment with Verse-PPR on Test-Data evaluated through nmi!\n",
      "Initialize clustering experiment with Verse-PPR on Test-Data evaluated through nmi!\n",
      "Train clustering experiment with Verse-PPR on Test-Data evaluated through nmi!\n",
      "Trained clustering experiment in 0.19 sec.!\n",
      "Predict clustering experiment with Verse-PPR on Test-Data evaluated through nmi!\n",
      "Predicted clustering experiment in 0.0 sec.!\n",
      "Evaluate clustering experiment with Verse-PPR on Test-Data evaluated through nmi!\n",
      "Initialize clustering experiment with Verse-PPR on Test-Data evaluated through nmi!\n",
      "Train clustering experiment with Verse-PPR on Test-Data evaluated through nmi!\n",
      "Trained clustering experiment in 0.19 sec.!\n",
      "Predict clustering experiment with Verse-PPR on Test-Data evaluated through nmi!\n",
      "Predicted clustering experiment in 0.0 sec.!\n",
      "Evaluate clustering experiment with Verse-PPR on Test-Data evaluated through nmi!\n",
      "Initialize clustering experiment with Verse-PPR on Test-Data evaluated through nmi!\n",
      "Train clustering experiment with Verse-PPR on Test-Data evaluated through nmi!\n",
      "Trained clustering experiment in 0.22 sec.!\n",
      "Predict clustering experiment with Verse-PPR on Test-Data evaluated through nmi!\n",
      "Predicted clustering experiment in 0.0 sec.!\n",
      "Evaluate clustering experiment with Verse-PPR on Test-Data evaluated through nmi!\n",
      "Initialize clustering experiment with Verse-PPR on Test-Data evaluated through nmi!\n",
      "Train clustering experiment with Verse-PPR on Test-Data evaluated through nmi!\n",
      "Trained clustering experiment in 0.2 sec.!\n",
      "Predict clustering experiment with Verse-PPR on Test-Data evaluated through nmi!\n",
      "Predicted clustering experiment in 0.0 sec.!\n",
      "Evaluate clustering experiment with Verse-PPR on Test-Data evaluated through nmi!\n",
      "Initialize clustering experiment with Verse-PPR on Test-Data evaluated through nmi!\n",
      "Train clustering experiment with Verse-PPR on Test-Data evaluated through nmi!\n",
      "Trained clustering experiment in 0.25 sec.!\n",
      "Predict clustering experiment with Verse-PPR on Test-Data evaluated through nmi!\n",
      "Predicted clustering experiment in 0.0 sec.!\n",
      "Evaluate clustering experiment with Verse-PPR on Test-Data evaluated through nmi!\n",
      "Initialize clustering experiment with Verse-PPR on Test-Data evaluated through nmi!\n",
      "Train clustering experiment with Verse-PPR on Test-Data evaluated through nmi!\n",
      "Trained clustering experiment in 0.28 sec.!\n",
      "Predict clustering experiment with Verse-PPR on Test-Data evaluated through nmi!\n",
      "Predicted clustering experiment in 0.0 sec.!\n",
      "Evaluate clustering experiment with Verse-PPR on Test-Data evaluated through nmi!\n",
      "Initialize clustering experiment with Verse-PPR on Test-Data evaluated through nmi!\n",
      "Train clustering experiment with Verse-PPR on Test-Data evaluated through nmi!\n",
      "Trained clustering experiment in 0.2 sec.!\n",
      "Predict clustering experiment with Verse-PPR on Test-Data evaluated through nmi!\n",
      "Predicted clustering experiment in 0.0 sec.!\n",
      "Evaluate clustering experiment with Verse-PPR on Test-Data evaluated through nmi!\n",
      "Initialize clustering experiment with Verse-PPR on Test-Data evaluated through nmi!\n",
      "Train clustering experiment with Verse-PPR on Test-Data evaluated through nmi!\n",
      "Trained clustering experiment in 0.2 sec.!\n",
      "Predict clustering experiment with Verse-PPR on Test-Data evaluated through nmi!\n",
      "Predicted clustering experiment in 0.0 sec.!\n",
      "Evaluate clustering experiment with Verse-PPR on Test-Data evaluated through nmi!\n",
      "Initialize clustering experiment with Verse-PPR on Test-Data evaluated through nmi!\n",
      "Train clustering experiment with Verse-PPR on Test-Data evaluated through nmi!\n",
      "Trained clustering experiment in 0.26 sec.!\n",
      "Predict clustering experiment with Verse-PPR on Test-Data evaluated through nmi!\n",
      "Predicted clustering experiment in 0.0 sec.!\n",
      "Evaluate clustering experiment with Verse-PPR on Test-Data evaluated through nmi!\n",
      "Finished clustering experiment on Test-Data data set with Verse-PPR embeddings\n",
      "Saved results in file results/test_verse_ppr_experiment_results.json\n"
     ]
    }
   ],
   "source": [
    "# run experiment wrapper: train, predict and evaluate clustering with each param combination 10 times\n",
    "verse_ppr_experiment_results = verse_ppr_experiment.run()"
   ]
  },
  {
   "cell_type": "code",
   "execution_count": 23,
   "metadata": {},
   "outputs": [
    {
     "name": "stdout",
     "output_type": "stream",
     "text": [
      "{   'dataset': 'Test-Data',\n",
      "    'embedding_file': 'data/test_converter_verse_embeddings.bin',\n",
      "    'method': 'Verse-PPR',\n",
      "    'parameterizations': [   {   'params': {'n_clusters': 2},\n",
      "                                 'runs': [   {   'evaluation': {   'nmi': 0.039112374973780527},\n",
      "                                                 'predictions': [   0,\n",
      "                                                                    0,\n",
      "                                                                    1,\n",
      "                                                                    1,\n",
      "                                                                    0,\n",
      "                                                                    0,\n",
      "                                                                    0,\n",
      "                                                                    1,\n",
      "                                                                    1,\n",
      "                                                                    1],\n",
      "                                                 'run': 1},\n",
      "                                             {   'evaluation': {   'nmi': 0.23923326907876977},\n",
      "                                                 'predictions': [   1,\n",
      "                                                                    1,\n",
      "                                                                    1,\n",
      "                                                                    0,\n",
      "                                                                    1,\n",
      "                                                                    1,\n",
      "                                                                    0,\n",
      "                                                                    0,\n",
      "                                                                    0,\n",
      "                                                                    1],\n",
      "                                                 'run': 2},\n",
      "                                             {   'evaluation': {   'nmi': 0.47870723017801575},\n",
      "                                                 'predictions': [   1,\n",
      "                                                                    1,\n",
      "                                                                    0,\n",
      "                                                                    0,\n",
      "                                                                    1,\n",
      "                                                                    1,\n",
      "                                                                    0,\n",
      "                                                                    0,\n",
      "                                                                    0,\n",
      "                                                                    1],\n",
      "                                                 'run': 3},\n",
      "                                             {   'evaluation': {   'nmi': 0.039112374973780527},\n",
      "                                                 'predictions': [   1,\n",
      "                                                                    1,\n",
      "                                                                    1,\n",
      "                                                                    0,\n",
      "                                                                    1,\n",
      "                                                                    1,\n",
      "                                                                    0,\n",
      "                                                                    0,\n",
      "                                                                    0,\n",
      "                                                                    0],\n",
      "                                                 'run': 4},\n",
      "                                             {   'evaluation': {   'nmi': 0.31913815345201063},\n",
      "                                                 'predictions': [   0,\n",
      "                                                                    1,\n",
      "                                                                    0,\n",
      "                                                                    1,\n",
      "                                                                    0,\n",
      "                                                                    0,\n",
      "                                                                    1,\n",
      "                                                                    1,\n",
      "                                                                    1,\n",
      "                                                                    0],\n",
      "                                                 'run': 5},\n",
      "                                             {   'evaluation': {   'nmi': 0.22543984845109569},\n",
      "                                                 'predictions': [   1,\n",
      "                                                                    1,\n",
      "                                                                    1,\n",
      "                                                                    1,\n",
      "                                                                    1,\n",
      "                                                                    1,\n",
      "                                                                    1,\n",
      "                                                                    1,\n",
      "                                                                    1,\n",
      "                                                                    0],\n",
      "                                                 'run': 6},\n",
      "                                             {   'evaluation': {   'nmi': 0.31913815345201063},\n",
      "                                                 'predictions': [   1,\n",
      "                                                                    0,\n",
      "                                                                    1,\n",
      "                                                                    0,\n",
      "                                                                    1,\n",
      "                                                                    1,\n",
      "                                                                    0,\n",
      "                                                                    0,\n",
      "                                                                    0,\n",
      "                                                                    1],\n",
      "                                                 'run': 7},\n",
      "                                             {   'evaluation': {   'nmi': 0.22543984845109569},\n",
      "                                                 'predictions': [   0,\n",
      "                                                                    0,\n",
      "                                                                    0,\n",
      "                                                                    0,\n",
      "                                                                    0,\n",
      "                                                                    0,\n",
      "                                                                    0,\n",
      "                                                                    0,\n",
      "                                                                    0,\n",
      "                                                                    1],\n",
      "                                                 'run': 8},\n",
      "                                             {   'evaluation': {   'nmi': 0.039112374973780527},\n",
      "                                                 'predictions': [   0,\n",
      "                                                                    1,\n",
      "                                                                    0,\n",
      "                                                                    0,\n",
      "                                                                    1,\n",
      "                                                                    0,\n",
      "                                                                    1,\n",
      "                                                                    1,\n",
      "                                                                    0,\n",
      "                                                                    1],\n",
      "                                                 'run': 9},\n",
      "                                             {   'evaluation': {   'nmi': 0.039112374973780527},\n",
      "                                                 'predictions': [   0,\n",
      "                                                                    1,\n",
      "                                                                    0,\n",
      "                                                                    0,\n",
      "                                                                    1,\n",
      "                                                                    0,\n",
      "                                                                    1,\n",
      "                                                                    1,\n",
      "                                                                    0,\n",
      "                                                                    1],\n",
      "                                                 'run': 10}]},\n",
      "                             {   'params': {'n_clusters': 3},\n",
      "                                 'runs': [   {   'evaluation': {   'nmi': 0.28039161144241215},\n",
      "                                                 'predictions': [   0,\n",
      "                                                                    0,\n",
      "                                                                    0,\n",
      "                                                                    1,\n",
      "                                                                    0,\n",
      "                                                                    0,\n",
      "                                                                    1,\n",
      "                                                                    1,\n",
      "                                                                    1,\n",
      "                                                                    2],\n",
      "                                                 'run': 1},\n",
      "                                             {   'evaluation': {   'nmi': 0.28039161144241215},\n",
      "                                                 'predictions': [   2,\n",
      "                                                                    2,\n",
      "                                                                    2,\n",
      "                                                                    0,\n",
      "                                                                    2,\n",
      "                                                                    2,\n",
      "                                                                    0,\n",
      "                                                                    0,\n",
      "                                                                    0,\n",
      "                                                                    1],\n",
      "                                                 'run': 2},\n",
      "                                             {   'evaluation': {   'nmi': 0.24147707815213099},\n",
      "                                                 'predictions': [   2,\n",
      "                                                                    0,\n",
      "                                                                    2,\n",
      "                                                                    2,\n",
      "                                                                    2,\n",
      "                                                                    2,\n",
      "                                                                    0,\n",
      "                                                                    0,\n",
      "                                                                    2,\n",
      "                                                                    1],\n",
      "                                                 'run': 3},\n",
      "                                             {   'evaluation': {   'nmi': 0.57001273458199853},\n",
      "                                                 'predictions': [   2,\n",
      "                                                                    1,\n",
      "                                                                    2,\n",
      "                                                                    2,\n",
      "                                                                    0,\n",
      "                                                                    0,\n",
      "                                                                    1,\n",
      "                                                                    1,\n",
      "                                                                    2,\n",
      "                                                                    0],\n",
      "                                                 'run': 4},\n",
      "                                             {   'evaluation': {   'nmi': 0.14002546916399705},\n",
      "                                                 'predictions': [   0,\n",
      "                                                                    2,\n",
      "                                                                    0,\n",
      "                                                                    1,\n",
      "                                                                    0,\n",
      "                                                                    0,\n",
      "                                                                    2,\n",
      "                                                                    2,\n",
      "                                                                    1,\n",
      "                                                                    1],\n",
      "                                                 'run': 5},\n",
      "                                             {   'evaluation': {   'nmi': 0.46879958524197074},\n",
      "                                                 'predictions': [   1,\n",
      "                                                                    1,\n",
      "                                                                    0,\n",
      "                                                                    0,\n",
      "                                                                    1,\n",
      "                                                                    1,\n",
      "                                                                    0,\n",
      "                                                                    0,\n",
      "                                                                    0,\n",
      "                                                                    2],\n",
      "                                                 'run': 6},\n",
      "                                             {   'evaluation': {   'nmi': 0.26733692039994567},\n",
      "                                                 'predictions': [   2,\n",
      "                                                                    0,\n",
      "                                                                    1,\n",
      "                                                                    1,\n",
      "                                                                    2,\n",
      "                                                                    2,\n",
      "                                                                    0,\n",
      "                                                                    0,\n",
      "                                                                    1,\n",
      "                                                                    1],\n",
      "                                                 'run': 7},\n",
      "                                             {   'evaluation': {   'nmi': 0.19523781743606505},\n",
      "                                                 'predictions': [   1,\n",
      "                                                                    1,\n",
      "                                                                    0,\n",
      "                                                                    0,\n",
      "                                                                    1,\n",
      "                                                                    0,\n",
      "                                                                    1,\n",
      "                                                                    1,\n",
      "                                                                    0,\n",
      "                                                                    2],\n",
      "                                                 'run': 8},\n",
      "                                             {   'evaluation': {   'nmi': 0.28039161144241215},\n",
      "                                                 'predictions': [   0,\n",
      "                                                                    1,\n",
      "                                                                    0,\n",
      "                                                                    1,\n",
      "                                                                    0,\n",
      "                                                                    0,\n",
      "                                                                    1,\n",
      "                                                                    1,\n",
      "                                                                    0,\n",
      "                                                                    2],\n",
      "                                                 'run': 9},\n",
      "                                             {   'evaluation': {   'nmi': 0.19523781743606505},\n",
      "                                                 'predictions': [   1,\n",
      "                                                                    1,\n",
      "                                                                    2,\n",
      "                                                                    2,\n",
      "                                                                    1,\n",
      "                                                                    2,\n",
      "                                                                    1,\n",
      "                                                                    1,\n",
      "                                                                    2,\n",
      "                                                                    0],\n",
      "                                                 'run': 10}]}],\n",
      "    'repetitions': 10}\n"
     ]
    }
   ],
   "source": [
    "# pretty-print prediction and evaluation results of each single run with all param-combinations\n",
    "pp.pprint(verse_ppr_experiment_results)"
   ]
  }
 ],
 "metadata": {
  "kernelspec": {
   "display_name": "Python 3",
   "language": "python",
   "name": "python3"
  },
  "language_info": {
   "codemirror_mode": {
    "name": "ipython",
    "version": 3
   },
   "file_extension": ".py",
   "mimetype": "text/x-python",
   "name": "python",
   "nbconvert_exporter": "python",
   "pygments_lexer": "ipython3",
   "version": "3.6.3"
  }
 },
 "nbformat": 4,
 "nbformat_minor": 2
}
