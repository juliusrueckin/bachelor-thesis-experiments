{
 "cells": [
  {
   "cell_type": "code",
   "execution_count": 1,
   "metadata": {
    "collapsed": true
   },
   "outputs": [],
   "source": [
    "# import necessary stuff and python-wrapper of verse\n",
    "import os\n",
    "import pprint\n",
    "import numpy as np\n",
    "import json\n",
    "import sys\n",
    "import codecs\n",
    "from scipy.sparse import csr_matrix\n",
    "\n",
    "from verse.python.wrapper import VERSE\n",
    "from multi_class_classification import MultiClassClassification\n",
    "from multi_label_classification import MultiLabelClassification\n",
    "from clustering import Clustering\n",
    "from link_prediction import LinkPrediction\n",
    "from experiment import Experiment"
   ]
  },
  {
   "cell_type": "code",
   "execution_count": 2,
   "metadata": {
    "collapsed": true
   },
   "outputs": [],
   "source": [
    "# initialize pretty printer\n",
    "pp = pprint.PrettyPrinter(indent=4, depth=8)"
   ]
  },
  {
   "cell_type": "code",
   "execution_count": 3,
   "metadata": {
    "collapsed": true
   },
   "outputs": [],
   "source": [
    "# define path to c++ inplementation of verse and its *.so compiled files\n",
    "# instantiate verse algorithm object\n",
    "cpath = os.path.dirname(os.path.realpath('verse/src/verse.cpp'))\n",
    "verse = VERSE(cpath=cpath)"
   ]
  },
  {
   "cell_type": "code",
   "execution_count": 4,
   "metadata": {
    "collapsed": true
   },
   "outputs": [],
   "source": [
    "# construct example adjacency matrix in csr format\n",
    "row = np.array([0, 0, 1, 2, 2, 2])\n",
    "col = np.array([0, 2, 2, 0, 1, 2])\n",
    "data = np.array([1, 2, 3, 4, 5, 6])\n",
    "\n",
    "csr_adjacency_matrix = csr_matrix((data, (row, col)), shape=(10, 10))"
   ]
  },
  {
   "cell_type": "code",
   "execution_count": 5,
   "metadata": {
    "collapsed": true
   },
   "outputs": [],
   "source": [
    "# define hyper-parameters for verse with personalized page rank as sim_G function\n",
    "graph = csr_adjacency_matrix\n",
    "w = None\n",
    "n_hidden = 128\n",
    "alpha = 0.85\n",
    "steps = 100000\n",
    "n_neg_samples = 3\n",
    "lr = 0.0025\n",
    "rng_seed = 0\n",
    "n_threads = -1\n",
    "random_seed = None"
   ]
  },
  {
   "cell_type": "code",
   "execution_count": 6,
   "metadata": {
    "collapsed": true
   },
   "outputs": [],
   "source": [
    "# compute node embeddings\n",
    "# ATTENTION: takes a while until termination and cannot be terminated through restarting kernel\n",
    "# Need to kill terminal, where jupyter notebook is started in in order to kill c++-process\n",
    "verse_ppr_embeddings = verse.verse_ppr(graph, w, n_hidden, alpha, steps, n_neg_samples, lr, rng_seed, n_threads)"
   ]
  },
  {
   "cell_type": "code",
   "execution_count": 7,
   "metadata": {
    "collapsed": true
   },
   "outputs": [],
   "source": [
    "# or read *.bin file with precomputed embeddings\n",
    "embeddings_file_path = 'data/test_converter_verse_embeddings.bin'\n",
    "embeddings_file = open(embeddings_file_path, \"r\")\n",
    "embeddings_file_content = np.fromfile(embeddings_file, dtype=np.float32)\n",
    "num_of_nodes = int(np.shape(embeddings_file_content)[0] / n_hidden)\n",
    "verse_ppr_embeddings = embeddings_file_content.reshape((num_of_nodes, n_hidden))"
   ]
  },
  {
   "cell_type": "code",
   "execution_count": 8,
   "metadata": {},
   "outputs": [
    {
     "data": {
      "text/plain": [
       "(10, 128)"
      ]
     },
     "execution_count": 8,
     "metadata": {},
     "output_type": "execute_result"
    }
   ],
   "source": [
    "np.shape(verse_ppr_embeddings)"
   ]
  },
  {
   "cell_type": "code",
   "execution_count": 9,
   "metadata": {},
   "outputs": [
    {
     "name": "stdout",
     "output_type": "stream",
     "text": [
      "Initialize multi-class classification experiment with Verse-PPR on Test-Data evaluated through both on 50.0% train data!\n"
     ]
    }
   ],
   "source": [
    "# instantiate multi-class classification expirement\n",
    "verse_ppr_classification_experiment = MultiClassClassification(method_name='Verse-PPR', dataset_name='Test-Data',\n",
    "                                                               performance_function='both', train_size=0.5,\n",
    "                                                               embeddings=verse_ppr_embeddings,\n",
    "                                                               node_labels=[0,1,1,0,0,1,1,0,0,1],\n",
    "                                                               random_seed=random_seed)"
   ]
  },
  {
   "cell_type": "code",
   "execution_count": 10,
   "metadata": {},
   "outputs": [
    {
     "name": "stdout",
     "output_type": "stream",
     "text": [
      "Train multi-class classification experiment with Verse-PPR on Test-Data evaluated through both on 50.0% train data!\n",
      "convergence after 31 epochs took 0 seconds\n",
      "Trained multi-class classification experiment in 0.0 sec.!\n",
      "Predict multi-class classification experiment with Verse-PPR on Test-Data evaluated through both on 50.0% train data!\n",
      "Predicted multi-class classification experiment in 0.0 sec.!\n",
      "Evaluate multi-class classification experiment with Verse-PPR on Test-Data evaluated through both on 50.0% train data!\n"
     ]
    },
    {
     "name": "stderr",
     "output_type": "stream",
     "text": [
      "[Parallel(n_jobs=1)]: Done   1 out of   1 | elapsed:    0.0s finished\n"
     ]
    }
   ],
   "source": [
    "# train, predict and evaluate multi-class classification experiment\n",
    "logistic_regression_model = verse_ppr_classification_experiment.train()\n",
    "node_label_predictions = verse_ppr_classification_experiment.predict()\n",
    "verse_ppr_classification_experiment_results = verse_ppr_classification_experiment.evaluate()"
   ]
  },
  {
   "cell_type": "code",
   "execution_count": 11,
   "metadata": {},
   "outputs": [
    {
     "data": {
      "text/plain": [
       "{'macro': 0.8, 'micro': 0.8000000000000002}"
      ]
     },
     "execution_count": 11,
     "metadata": {},
     "output_type": "execute_result"
    }
   ],
   "source": [
    "# print results of multi-class classification experiment\n",
    "verse_ppr_classification_experiment_results"
   ]
  },
  {
   "cell_type": "code",
   "execution_count": 12,
   "metadata": {},
   "outputs": [
    {
     "name": "stdout",
     "output_type": "stream",
     "text": [
      "Initialize clustering experiment with Verse-PPR on Test-Data evaluated through both!\n"
     ]
    }
   ],
   "source": [
    "# instantiate clustering expirement\n",
    "verse_ppr_clustering_experiment = Clustering(method_name='Verse-PPR', dataset_name='Test-Data', \n",
    "                                             performance_function='both', embeddings=verse_ppr_embeddings,\n",
    "                                             node_labels=[0,0,1,1,2,2,1,0,0,2], n_clusters=3,\n",
    "                                             random_seed=random_seed)"
   ]
  },
  {
   "cell_type": "code",
   "execution_count": 13,
   "metadata": {},
   "outputs": [
    {
     "name": "stdout",
     "output_type": "stream",
     "text": [
      "Train clustering experiment with Verse-PPR on Test-Data evaluated through both!\n",
      "Trained clustering experiment in 0.19 sec.!\n",
      "Predict clustering experiment with Verse-PPR on Test-Data evaluated through both!\n",
      "Predicted clustering experiment in 0.0 sec.!\n",
      "Evaluate clustering experiment with Verse-PPR on Test-Data evaluated through both!\n"
     ]
    }
   ],
   "source": [
    "# train, predict and evaluate clustering experiment\n",
    "k_means = verse_ppr_clustering_experiment.train()\n",
    "node_label_predictions = verse_ppr_clustering_experiment.predict()\n",
    "verse_ppr_clustering_experiment_results = verse_ppr_clustering_experiment.evaluate()"
   ]
  },
  {
   "cell_type": "code",
   "execution_count": 14,
   "metadata": {},
   "outputs": [
    {
     "data": {
      "text/plain": [
       "{'nmi': 0.5700127345819985, 'silhouette': 0.12452171742916107}"
      ]
     },
     "execution_count": 14,
     "metadata": {},
     "output_type": "execute_result"
    }
   ],
   "source": [
    "# print results of clustering experiment\n",
    "verse_ppr_clustering_experiment_results"
   ]
  },
  {
   "cell_type": "code",
   "execution_count": 15,
   "metadata": {},
   "outputs": [
    {
     "name": "stdout",
     "output_type": "stream",
     "text": [
      "Initialize multi-label classification experiment with Verse-PPR on Test-Data evaluated through both on 30.0% train data!\n"
     ]
    }
   ],
   "source": [
    "# instantiate multi-label classification expirement\n",
    "verse_ppr_multi_label_classification_experiment = \\\n",
    "    MultiLabelClassification(method_name='Verse-PPR', dataset_name='Test-Data', performance_function='both',\n",
    "                             embeddings=verse_ppr_embeddings, n_neighbors=3, classifier='logistic_regression',\n",
    "                             node_labels=[[0],[1,2],[0,2],[0,1],[2],[1],[0,1],[1],[2],[1,0]],\n",
    "                             random_seed=random_seed)"
   ]
  },
  {
   "cell_type": "code",
   "execution_count": 16,
   "metadata": {},
   "outputs": [
    {
     "name": "stdout",
     "output_type": "stream",
     "text": [
      "Train multi-label classification experiment with Verse-PPR on Test-Data evaluated through both on 30.0% train data!\n",
      "convergence after 54 epochs took 0 seconds\n"
     ]
    },
    {
     "name": "stderr",
     "output_type": "stream",
     "text": [
      "[Parallel(n_jobs=1)]: Done   1 out of   1 | elapsed:    0.0s finished\n"
     ]
    },
    {
     "name": "stdout",
     "output_type": "stream",
     "text": [
      "convergence after 56 epochs took 0 seconds\n",
      "convergence after 54 epochs took 0 seconds\n"
     ]
    },
    {
     "name": "stderr",
     "output_type": "stream",
     "text": [
      "[Parallel(n_jobs=1)]: Done   1 out of   1 | elapsed:    0.0s finished\n",
      "[Parallel(n_jobs=1)]: Done   1 out of   1 | elapsed:    0.0s finished\n"
     ]
    },
    {
     "name": "stdout",
     "output_type": "stream",
     "text": [
      "Trained multi-label classification experiment in 0.2 sec.!\n",
      "Predict multi-label classification experiment with Verse-PPR on Test-Data evaluated through both on 30.0% train data!\n",
      "Predicted multi-label classification experiment in 0.0 sec.!\n",
      "Evaluate multi-label classification experiment with Verse-PPR on Test-Data evaluated through both on 30.0% train data!\n"
     ]
    }
   ],
   "source": [
    "# train, predict and evaluate multi-label classification experiment\n",
    "multi_label_model = verse_ppr_multi_label_classification_experiment.train()\n",
    "node_label_predictions = verse_ppr_multi_label_classification_experiment.predict()\n",
    "verse_ppr_multi_label_classification_experiment_results = verse_ppr_multi_label_classification_experiment.evaluate()"
   ]
  },
  {
   "cell_type": "code",
   "execution_count": 17,
   "metadata": {},
   "outputs": [
    {
     "data": {
      "text/plain": [
       "{'macro': 0.44047619047619047, 'micro': 0.47619047619047616}"
      ]
     },
     "execution_count": 17,
     "metadata": {},
     "output_type": "execute_result"
    }
   ],
   "source": [
    "# print results of multi-label classification experiment\n",
    "verse_ppr_multi_label_classification_experiment_results"
   ]
  },
  {
   "cell_type": "code",
   "execution_count": 18,
   "metadata": {},
   "outputs": [
    {
     "name": "stdout",
     "output_type": "stream",
     "text": [
      "Initialize link prediction experiment with Verse-PPR on Test-Data evaluated through both on 50.0% train data!\n",
      "Compute edgewise features based on hadamard operator!\n"
     ]
    },
    {
     "ename": "ValueError",
     "evalue": "all the input array dimensions except for the concatenation axis must match exactly",
     "output_type": "error",
     "traceback": [
      "\u001b[0;31m---------------------------------------------------------------------------\u001b[0m",
      "\u001b[0;31mValueError\u001b[0m                                Traceback (most recent call last)",
      "\u001b[0;32m<ipython-input-18-9812d67a8e09>\u001b[0m in \u001b[0;36m<module>\u001b[0;34m()\u001b[0m\n\u001b[1;32m      3\u001b[0m                    \u001b[0mnode_embeddings\u001b[0m\u001b[0;34m=\u001b[0m\u001b[0mverse_ppr_embeddings\u001b[0m\u001b[0;34m,\u001b[0m \u001b[0mnew_edges\u001b[0m\u001b[0;34m=\u001b[0m\u001b[0;34m[\u001b[0m\u001b[0;34m[\u001b[0m\u001b[0;36m1\u001b[0m\u001b[0;34m,\u001b[0m\u001b[0;36m3\u001b[0m\u001b[0;34m]\u001b[0m\u001b[0;34m,\u001b[0m\u001b[0;34m[\u001b[0m\u001b[0;36m5\u001b[0m\u001b[0;34m,\u001b[0m\u001b[0;36m6\u001b[0m\u001b[0;34m]\u001b[0m\u001b[0;34m,\u001b[0m\u001b[0;34m[\u001b[0m\u001b[0;36m3\u001b[0m\u001b[0;34m,\u001b[0m\u001b[0;36m6\u001b[0m\u001b[0;34m]\u001b[0m\u001b[0;34m,\u001b[0m\u001b[0;34m[\u001b[0m\u001b[0;36m1\u001b[0m\u001b[0;34m,\u001b[0m\u001b[0;36m5\u001b[0m\u001b[0;34m]\u001b[0m\u001b[0;34m,\u001b[0m\u001b[0;34m[\u001b[0m\u001b[0;36m8\u001b[0m\u001b[0;34m,\u001b[0m\u001b[0;36m7\u001b[0m\u001b[0;34m]\u001b[0m\u001b[0;34m,\u001b[0m\u001b[0;34m[\u001b[0m\u001b[0;36m9\u001b[0m\u001b[0;34m,\u001b[0m\u001b[0;36m4\u001b[0m\u001b[0;34m]\u001b[0m\u001b[0;34m,\u001b[0m\u001b[0;34m[\u001b[0m\u001b[0;36m7\u001b[0m\u001b[0;34m,\u001b[0m\u001b[0;36m2\u001b[0m\u001b[0;34m]\u001b[0m\u001b[0;34m]\u001b[0m\u001b[0;34m,\u001b[0m\u001b[0;34m\u001b[0m\u001b[0m\n\u001b[1;32m      4\u001b[0m                    \u001b[0mvector_operator\u001b[0m\u001b[0;34m=\u001b[0m\u001b[0;34m'hadamard'\u001b[0m\u001b[0;34m,\u001b[0m \u001b[0mneg_edges\u001b[0m\u001b[0;34m=\u001b[0m\u001b[0;34m[\u001b[0m\u001b[0;34m[\u001b[0m\u001b[0;36m2\u001b[0m\u001b[0;34m,\u001b[0m\u001b[0;36m3\u001b[0m\u001b[0;34m]\u001b[0m\u001b[0;34m,\u001b[0m\u001b[0;34m[\u001b[0m\u001b[0;36m7\u001b[0m\u001b[0;34m,\u001b[0m\u001b[0;36m6\u001b[0m\u001b[0;34m]\u001b[0m\u001b[0;34m,\u001b[0m\u001b[0;34m[\u001b[0m\u001b[0;36m1\u001b[0m\u001b[0;34m,\u001b[0m\u001b[0;36m6\u001b[0m\u001b[0;34m]\u001b[0m\u001b[0;34m,\u001b[0m\u001b[0;34m[\u001b[0m\u001b[0;36m2\u001b[0m\u001b[0;34m,\u001b[0m\u001b[0;36m5\u001b[0m\u001b[0;34m]\u001b[0m\u001b[0;34m,\u001b[0m\u001b[0;34m[\u001b[0m\u001b[0;36m8\u001b[0m\u001b[0;34m,\u001b[0m\u001b[0;36m9\u001b[0m\u001b[0;34m]\u001b[0m\u001b[0;34m,\u001b[0m\u001b[0;34m[\u001b[0m\u001b[0;36m9\u001b[0m\u001b[0;34m,\u001b[0m\u001b[0;36m3\u001b[0m\u001b[0;34m]\u001b[0m\u001b[0;34m,\u001b[0m\u001b[0;34m[\u001b[0m\u001b[0;36m7\u001b[0m\u001b[0;34m,\u001b[0m\u001b[0;36m5\u001b[0m\u001b[0;34m]\u001b[0m\u001b[0;34m]\u001b[0m\u001b[0;34m,\u001b[0m\u001b[0;34m\u001b[0m\u001b[0m\n\u001b[0;32m----> 5\u001b[0;31m                    random_seed=random_seed)\n\u001b[0m",
      "\u001b[0;32m~/Dokumente/Uni/HPI/Module/BP-MUE1-2018/bachelor-thesis-experiments/link_prediction.py\u001b[0m in \u001b[0;36m__init__\u001b[0;34m(self, method_name, dataset_name, performance_function, neg_edges, node_embeddings, new_edges, vector_operator, random_seed)\u001b[0m\n\u001b[1;32m     76\u001b[0m \u001b[0;34m\u001b[0m\u001b[0m\n\u001b[1;32m     77\u001b[0m         \u001b[0mprint\u001b[0m\u001b[0;34m(\u001b[0m\u001b[0;34m'Compute edgewise features based on {} operator!'\u001b[0m\u001b[0;34m.\u001b[0m\u001b[0mformat\u001b[0m\u001b[0;34m(\u001b[0m\u001b[0mself\u001b[0m\u001b[0;34m.\u001b[0m\u001b[0mvector_operator\u001b[0m\u001b[0;34m)\u001b[0m\u001b[0;34m)\u001b[0m\u001b[0;34m\u001b[0m\u001b[0m\n\u001b[0;32m---> 78\u001b[0;31m         \u001b[0mself\u001b[0m\u001b[0;34m.\u001b[0m\u001b[0mcompute_edgewise_features\u001b[0m\u001b[0;34m(\u001b[0m\u001b[0mself\u001b[0m\u001b[0;34m.\u001b[0m\u001b[0mnew_edges\u001b[0m\u001b[0;34m,\u001b[0m \u001b[0;36m1\u001b[0m\u001b[0;34m)\u001b[0m\u001b[0;34m\u001b[0m\u001b[0m\n\u001b[0m\u001b[1;32m     79\u001b[0m         \u001b[0;32mif\u001b[0m \u001b[0mself\u001b[0m\u001b[0;34m.\u001b[0m\u001b[0mneg_edges\u001b[0m \u001b[0;32mis\u001b[0m \u001b[0;32mNone\u001b[0m\u001b[0;34m:\u001b[0m\u001b[0;34m\u001b[0m\u001b[0m\n\u001b[1;32m     80\u001b[0m             \u001b[0mself\u001b[0m\u001b[0;34m.\u001b[0m\u001b[0mcompute_edgewise_features\u001b[0m\u001b[0;34m(\u001b[0m\u001b[0mself\u001b[0m\u001b[0;34m.\u001b[0m\u001b[0msample_non_existing_edges\u001b[0m\u001b[0;34m(\u001b[0m\u001b[0mlen\u001b[0m\u001b[0;34m(\u001b[0m\u001b[0mself\u001b[0m\u001b[0;34m.\u001b[0m\u001b[0mnew_edges\u001b[0m\u001b[0;34m)\u001b[0m\u001b[0;34m)\u001b[0m\u001b[0;34m,\u001b[0m \u001b[0;36m0\u001b[0m\u001b[0;34m)\u001b[0m\u001b[0;34m\u001b[0m\u001b[0m\n",
      "\u001b[0;32m~/Dokumente/Uni/HPI/Module/BP-MUE1-2018/bachelor-thesis-experiments/link_prediction.py\u001b[0m in \u001b[0;36mcompute_edgewise_features\u001b[0;34m(self, edges, label)\u001b[0m\n\u001b[1;32m    102\u001b[0m                 \u001b[0mself\u001b[0m\u001b[0;34m.\u001b[0m\u001b[0medge_embeddings\u001b[0m \u001b[0;34m=\u001b[0m \u001b[0mnp\u001b[0m\u001b[0;34m.\u001b[0m\u001b[0mconcatenate\u001b[0m\u001b[0;34m(\u001b[0m\u001b[0;34m(\u001b[0m\u001b[0mself\u001b[0m\u001b[0;34m.\u001b[0m\u001b[0medge_embeddings\u001b[0m\u001b[0;34m,\u001b[0m \u001b[0;34m[\u001b[0m\u001b[0mself\u001b[0m\u001b[0;34m.\u001b[0m\u001b[0mconcat_op\u001b[0m\u001b[0;34m(\u001b[0m\u001b[0mn1\u001b[0m\u001b[0;34m,\u001b[0m \u001b[0mn2\u001b[0m\u001b[0;34m)\u001b[0m\u001b[0;34m]\u001b[0m\u001b[0;34m)\u001b[0m\u001b[0;34m,\u001b[0m \u001b[0maxis\u001b[0m\u001b[0;34m=\u001b[0m\u001b[0;36m0\u001b[0m\u001b[0;34m)\u001b[0m\u001b[0;34m\u001b[0m\u001b[0m\n\u001b[1;32m    103\u001b[0m             \u001b[0;32melif\u001b[0m \u001b[0mself\u001b[0m\u001b[0;34m.\u001b[0m\u001b[0mvector_operator\u001b[0m \u001b[0;34m==\u001b[0m \u001b[0mself\u001b[0m\u001b[0;34m.\u001b[0m\u001b[0mHADAMARD\u001b[0m\u001b[0;34m:\u001b[0m\u001b[0;34m\u001b[0m\u001b[0m\n\u001b[0;32m--> 104\u001b[0;31m                 \u001b[0mself\u001b[0m\u001b[0;34m.\u001b[0m\u001b[0medge_embeddings\u001b[0m \u001b[0;34m=\u001b[0m \u001b[0mnp\u001b[0m\u001b[0;34m.\u001b[0m\u001b[0mconcatenate\u001b[0m\u001b[0;34m(\u001b[0m\u001b[0;34m(\u001b[0m\u001b[0mself\u001b[0m\u001b[0;34m.\u001b[0m\u001b[0medge_embeddings\u001b[0m\u001b[0;34m,\u001b[0m \u001b[0;34m[\u001b[0m\u001b[0mself\u001b[0m\u001b[0;34m.\u001b[0m\u001b[0mhadamard_op\u001b[0m\u001b[0;34m(\u001b[0m\u001b[0mn1\u001b[0m\u001b[0;34m,\u001b[0m \u001b[0mn2\u001b[0m\u001b[0;34m)\u001b[0m\u001b[0;34m]\u001b[0m\u001b[0;34m)\u001b[0m\u001b[0;34m,\u001b[0m \u001b[0maxis\u001b[0m\u001b[0;34m=\u001b[0m\u001b[0;36m0\u001b[0m\u001b[0;34m)\u001b[0m\u001b[0;34m\u001b[0m\u001b[0m\n\u001b[0m\u001b[1;32m    105\u001b[0m             \u001b[0;32melif\u001b[0m \u001b[0mself\u001b[0m\u001b[0;34m.\u001b[0m\u001b[0mvector_operator\u001b[0m \u001b[0;34m==\u001b[0m \u001b[0mself\u001b[0m\u001b[0;34m.\u001b[0m\u001b[0mWEIGHTED_L1\u001b[0m\u001b[0;34m:\u001b[0m\u001b[0;34m\u001b[0m\u001b[0m\n\u001b[1;32m    106\u001b[0m                 \u001b[0mself\u001b[0m\u001b[0;34m.\u001b[0m\u001b[0medge_embeddings\u001b[0m \u001b[0;34m=\u001b[0m \u001b[0mnp\u001b[0m\u001b[0;34m.\u001b[0m\u001b[0mconcatenate\u001b[0m\u001b[0;34m(\u001b[0m\u001b[0;34m(\u001b[0m\u001b[0mself\u001b[0m\u001b[0;34m.\u001b[0m\u001b[0medge_embeddings\u001b[0m\u001b[0;34m,\u001b[0m \u001b[0;34m[\u001b[0m\u001b[0mself\u001b[0m\u001b[0;34m.\u001b[0m\u001b[0mweighted_l1_op\u001b[0m\u001b[0;34m(\u001b[0m\u001b[0mn1\u001b[0m\u001b[0;34m,\u001b[0m \u001b[0mn2\u001b[0m\u001b[0;34m)\u001b[0m\u001b[0;34m]\u001b[0m\u001b[0;34m)\u001b[0m\u001b[0;34m,\u001b[0m \u001b[0maxis\u001b[0m\u001b[0;34m=\u001b[0m\u001b[0;36m0\u001b[0m\u001b[0;34m)\u001b[0m\u001b[0;34m\u001b[0m\u001b[0m\n",
      "\u001b[0;31mValueError\u001b[0m: all the input array dimensions except for the concatenation axis must match exactly"
     ]
    }
   ],
   "source": [
    "# instantiate link prediction expirement\n",
    "verse_ppr_link_prediction_experiment = \\\n",
    "    LinkPrediction(method_name='Verse-PPR', dataset_name='Test-Data', performance_function='both', \n",
    "                   node_embeddings=verse_ppr_embeddings, new_edges=[[1,3],[5,6],[3,6],[1,5],[8,7],[9,4],[7,2]],\n",
    "                   vector_operator='hadamard', neg_edges=[[2,3],[7,6],[1,6],[2,5],[8,9],[9,3],[7,5]],\n",
    "                   random_seed=random_seed)"
   ]
  },
  {
   "cell_type": "code",
   "execution_count": null,
   "metadata": {},
   "outputs": [],
   "source": [
    "# train, predict and evaluate link prediction experiment\n",
    "link_prediction_model = verse_ppr_link_prediction_experiment.train()\n",
    "edge_label_predictions = verse_ppr_link_prediction_experiment.predict()\n",
    "verse_ppr_link_prediction_experiment_results = verse_ppr_link_prediction_experiment.evaluate()"
   ]
  },
  {
   "cell_type": "code",
   "execution_count": null,
   "metadata": {},
   "outputs": [],
   "source": [
    "# print results of link prediction experiment\n",
    "verse_ppr_link_prediction_experiment_results"
   ]
  },
  {
   "cell_type": "code",
   "execution_count": null,
   "metadata": {
    "collapsed": true
   },
   "outputs": [],
   "source": [
    "# init clustering experiment on verse-ppr embeddings with cross-product of experiment_params, each 10x repeated \n",
    "verse_ppr_experiment = Experiment(method_name='Verse-PPR', dataset_name='Test-Data', performance_function='both',\n",
    "                                  node_labels=[0,0,1,1,2,2,1,0,0,2],embeddings_file_path=embeddings_file_path,\n",
    "                                  node_embedings=None, embedding_dimensionality=128, repetitions=10,\n",
    "                                  experiment_params={'n_clusters': [2,3]},\n",
    "                                  results_file_path='results/test_verse_ppr_experiment_results.json',\n",
    "                                  random_seed=random_seed, experiment_type='clustering')"
   ]
  },
  {
   "cell_type": "code",
   "execution_count": null,
   "metadata": {},
   "outputs": [],
   "source": [
    "# run experiment wrapper: train, predict and evaluate clustering with each param combination 10 times\n",
    "verse_ppr_experiment_results = verse_ppr_experiment.run()"
   ]
  },
  {
   "cell_type": "code",
   "execution_count": null,
   "metadata": {},
   "outputs": [],
   "source": [
    "# pretty-print prediction and evaluation results of each single run with all param-combinations\n",
    "verse_ppr_experiment_results"
   ]
  },
  {
   "cell_type": "code",
   "execution_count": null,
   "metadata": {
    "collapsed": true
   },
   "outputs": [],
   "source": []
  }
 ],
 "metadata": {
  "kernelspec": {
   "display_name": "Python 3",
   "language": "python",
   "name": "python3"
  },
  "language_info": {
   "codemirror_mode": {
    "name": "ipython",
    "version": 3
   },
   "file_extension": ".py",
   "mimetype": "text/x-python",
   "name": "python",
   "nbconvert_exporter": "python",
   "pygments_lexer": "ipython3",
   "version": "3.6.3"
  }
 },
 "nbformat": 4,
 "nbformat_minor": 2
}
