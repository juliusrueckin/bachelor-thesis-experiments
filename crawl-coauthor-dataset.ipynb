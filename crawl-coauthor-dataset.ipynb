{
 "cells": [
  {
   "cell_type": "code",
   "execution_count": 1,
   "metadata": {
    "collapsed": true
   },
   "outputs": [],
   "source": [
    "#import necessary stuff\n",
    "import requests\n",
    "import json\n",
    "import networkx"
   ]
  },
  {
   "cell_type": "code",
   "execution_count": 2,
   "metadata": {
    "collapsed": true
   },
   "outputs": [],
   "source": [
    "# define header information\n",
    "headers = {\n",
    "    'Ocp-Apim-Subscription-Key': '078f222c1e244f929fe773f0c38604ad',\n",
    "}"
   ]
  },
  {
   "cell_type": "code",
   "execution_count": 3,
   "metadata": {
    "collapsed": true
   },
   "outputs": [],
   "source": [
    "# define research fields of interest for us\n",
    "fields_of_studies = ['Machine learning']\n",
    "top_5_conf_series_per_field = {}"
   ]
  },
  {
   "cell_type": "code",
   "execution_count": 4,
   "metadata": {
    "collapsed": true
   },
   "outputs": [],
   "source": [
    "# crawl top 10 cited conference series for each field of study\n",
    "for field_of_study in fields_of_studies:\n",
    "    top_5_conf_series_per_field[field_of_study] = {}\n",
    "    params = {\n",
    "        'expr': \"Composite(F.FN=='Machine learning')\",\n",
    "        'model': 'latest',\n",
    "        'attributes': 'Id,CN',\n",
    "        'count': '5',\n",
    "        'offset': '0',\n",
    "        'orderby': 'CC:desc'\n",
    "    }\n",
    "\n",
    "    params_url = 'expr={}&model={}&count={}&offset={}&attributes={}&orderby={}'.format(params['expr'], params['model'], params['count'], params['offset'], params['attributes'], params['orderby'])\n",
    "\n",
    "    base_url = 'https://api.labs.cognitive.microsoft.com'\n",
    "    query = '/academic/v1.0/evaluate?{}'.format(params_url)\n",
    "\n",
    "    session = requests.Session()\n",
    "    r = session.get(base_url + query, stream=False, headers=headers)\n",
    "    response_body = r.content.decode('utf-8')\n",
    "    \n",
    "    top_5_results = dict(json.loads(response_body))['entities']\n",
    "    top_5_conference_series_ids = []\n",
    "    \n",
    "    for result in top_5_results:\n",
    "        top_5_conference_series_ids.append(result['Id'])\n",
    "        \n",
    "    for conf_id in top_5_conference_series_ids:\n",
    "        top_5_conf_series_per_field[field_of_study][conf_id] = {}"
   ]
  },
  {
   "cell_type": "code",
   "execution_count": 5,
   "metadata": {
    "collapsed": true
   },
   "outputs": [],
   "source": [
    "# define years of interest \n",
    "years = [2013,2014,2015,2016]\n",
    "max_papers_per_year = 500"
   ]
  },
  {
   "cell_type": "code",
   "execution_count": 6,
   "metadata": {
    "collapsed": true
   },
   "outputs": [],
   "source": [
    "# crawl top-500 cited papers for each conference id between 2013 and 2016 \n",
    "for field_of_study in fields_of_studies:\n",
    "    for conference_series_id in top_5_conf_series_per_field[field_of_study]:\n",
    "        for year in years:\n",
    "            top_5_conf_series_per_field[field_of_study][conference_series_id][year] = []\n",
    "            \n",
    "            params = {\n",
    "                'expr': \"AND(Composite(C.CId={}), Y={})\".format(conference_series_id, year),\n",
    "                'model': 'latest',\n",
    "                'attributes': 'Id,CC,RId,AA.AuId',\n",
    "                'count': max_papers_per_year,\n",
    "                'offset': '0',\n",
    "                'orderby': 'CC:desc'\n",
    "            }\n",
    "\n",
    "            params_url = 'expr={}&model={}&count={}&offset={}&attributes={}&orderby={}'.format(params['expr'], params['model'], params['count'], params['offset'], params['attributes'], params['orderby'])\n",
    "\n",
    "            base_url = 'https://api.labs.cognitive.microsoft.com'\n",
    "            query = '/academic/v1.0/evaluate?{}'.format(params_url)\n",
    "\n",
    "            session = requests.Session()\n",
    "            r = session.get(base_url + query, stream=False, headers=headers)\n",
    "            response_body = r.content.decode('utf-8')\n",
    "\n",
    "            top_500_results = dict(json.loads(response_body))['entities']\n",
    "            for result in top_500_results:\n",
    "                reference_ids = []\n",
    "                author_ids = []\n",
    "                \n",
    "                if 'RId' in result:\n",
    "                    reference_ids = result['RId']\n",
    "                    \n",
    "                if 'AA' in result:\n",
    "                    author_ids = [author['AuId'] for author in result['AA']]\n",
    "                \n",
    "                paper_info = {\n",
    "                    'Id': result['Id'],\n",
    "                    'CC': result['CC'],\n",
    "                    'RId': reference_ids,\n",
    "                    'authors': author_ids\n",
    "                }\n",
    "                top_5_conf_series_per_field[field_of_study][conference_series_id][year].append(paper_info)"
   ]
  },
  {
   "cell_type": "code",
   "execution_count": 7,
   "metadata": {
    "collapsed": true
   },
   "outputs": [],
   "source": [
    "import pickle\n",
    "\n",
    "coauthor_crawled_data_file_path = 'data/coauthor/coauthor_json.p'\n",
    "with open(coauthor_crawled_data_file_path, 'wb') as pickle_file:\n",
    "    pickle.dump(top_5_conf_series_per_field, pickle_file)"
   ]
  },
  {
   "cell_type": "code",
   "execution_count": null,
   "metadata": {
    "collapsed": true
   },
   "outputs": [],
   "source": []
  }
 ],
 "metadata": {
  "kernelspec": {
   "display_name": "Python 3",
   "language": "python",
   "name": "python3"
  },
  "language_info": {
   "codemirror_mode": {
    "name": "ipython",
    "version": 3
   },
   "file_extension": ".py",
   "mimetype": "text/x-python",
   "name": "python",
   "nbconvert_exporter": "python",
   "pygments_lexer": "ipython3",
   "version": "3.6.3"
  }
 },
 "nbformat": 4,
 "nbformat_minor": 2
}
