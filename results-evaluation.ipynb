{
 "cells": [
  {
   "cell_type": "code",
   "execution_count": 1,
   "metadata": {
    "collapsed": true
   },
   "outputs": [],
   "source": [
    "# import necessary packages\n",
    "import numpy as np\n",
    "import pandas as pd\n",
    "import json\n",
    "import pprint\n",
    "import matplotlib.pyplot as plt"
   ]
  },
  {
   "cell_type": "code",
   "execution_count": 2,
   "metadata": {
    "collapsed": true
   },
   "outputs": [],
   "source": [
    "# initialize pretty printer\n",
    "pp = pprint.PrettyPrinter(indent=4, depth=8)"
   ]
  },
  {
   "cell_type": "code",
   "execution_count": 3,
   "metadata": {
    "collapsed": true
   },
   "outputs": [],
   "source": [
    "# read results from json-file\n",
    "results_file_path='results/test_verse_ppr_experiment_results.json'\n",
    "experiment_results = {}\n",
    "\n",
    "with open(results_file_path, 'r') as results_file:\n",
    "     experiment_results = json.load(results_file)"
   ]
  },
  {
   "cell_type": "code",
   "execution_count": 4,
   "metadata": {},
   "outputs": [
    {
     "name": "stdout",
     "output_type": "stream",
     "text": [
      "{   'dataset': 'Test-Data',\n",
      "    'embedding_file': 'data/test_converter_verse_embeddings.bin',\n",
      "    'method': 'Verse-PPR',\n",
      "    'parameterizations': [   {   'params': {'n_clusters': 2},\n",
      "                                 'runs': [   {   'evaluation': {   'nmi': 0.03911237497378053,\n",
      "                                                                   'silhouette': 0.22661468386650085},\n",
      "                                                 'predictions': [   0,\n",
      "                                                                    1,\n",
      "                                                                    0,\n",
      "                                                                    1,\n",
      "                                                                    0,\n",
      "                                                                    0,\n",
      "                                                                    1,\n",
      "                                                                    1,\n",
      "                                                                    0,\n",
      "                                                                    1],\n",
      "                                                 'run': 1},\n",
      "                                             {   'evaluation': {   'nmi': 0.17490772832691745,\n",
      "                                                                   'silhouette': 0.19784115254878998},\n",
      "                                                 'predictions': [   0,\n",
      "                                                                    1,\n",
      "                                                                    0,\n",
      "                                                                    0,\n",
      "                                                                    0,\n",
      "                                                                    0,\n",
      "                                                                    1,\n",
      "                                                                    1,\n",
      "                                                                    0,\n",
      "                                                                    0],\n",
      "                                                 'run': 2},\n",
      "                                             {   'evaluation': {   'nmi': 0.01617206644334285,\n",
      "                                                                   'silhouette': 0.2067338526248932},\n",
      "                                                 'predictions': [   1,\n",
      "                                                                    1,\n",
      "                                                                    1,\n",
      "                                                                    0,\n",
      "                                                                    1,\n",
      "                                                                    1,\n",
      "                                                                    1,\n",
      "                                                                    0,\n",
      "                                                                    0,\n",
      "                                                                    0],\n",
      "                                                 'run': 3},\n",
      "                                             {   'evaluation': {   'nmi': 0.03911237497378053,\n",
      "                                                                   'silhouette': 0.1739547848701477},\n",
      "                                                 'predictions': [   0,\n",
      "                                                                    1,\n",
      "                                                                    0,\n",
      "                                                                    0,\n",
      "                                                                    1,\n",
      "                                                                    0,\n",
      "                                                                    1,\n",
      "                                                                    1,\n",
      "                                                                    0,\n",
      "                                                                    1],\n",
      "                                                 'run': 4},\n",
      "                                             {   'evaluation': {   'nmi': 0.03911237497378053,\n",
      "                                                                   'silhouette': 0.24863699078559875},\n",
      "                                                 'predictions': [   1,\n",
      "                                                                    1,\n",
      "                                                                    1,\n",
      "                                                                    0,\n",
      "                                                                    1,\n",
      "                                                                    1,\n",
      "                                                                    0,\n",
      "                                                                    0,\n",
      "                                                                    0,\n",
      "                                                                    0],\n",
      "                                                 'run': 5},\n",
      "                                             {   'evaluation': {   'nmi': 0.31913815345201063,\n",
      "                                                                   'silhouette': 0.11334152519702911},\n",
      "                                                 'predictions': [   1,\n",
      "                                                                    0,\n",
      "                                                                    1,\n",
      "                                                                    1,\n",
      "                                                                    0,\n",
      "                                                                    0,\n",
      "                                                                    0,\n",
      "                                                                    1,\n",
      "                                                                    1,\n",
      "                                                                    0],\n",
      "                                                 'run': 6},\n",
      "                                             {   'evaluation': {   'nmi': 0.01617206644334285,\n",
      "                                                                   'silhouette': 0.1703609824180603},\n",
      "                                                 'predictions': [   1,\n",
      "                                                                    0,\n",
      "                                                                    1,\n",
      "                                                                    1,\n",
      "                                                                    0,\n",
      "                                                                    1,\n",
      "                                                                    0,\n",
      "                                                                    0,\n",
      "                                                                    1,\n",
      "                                                                    1],\n",
      "                                                 'run': 7},\n",
      "                                             {   'evaluation': {   'nmi': 0.01617206644334285,\n",
      "                                                                   'silhouette': 0.236627459526062},\n",
      "                                                 'predictions': [   0,\n",
      "                                                                    1,\n",
      "                                                                    0,\n",
      "                                                                    0,\n",
      "                                                                    0,\n",
      "                                                                    0,\n",
      "                                                                    1,\n",
      "                                                                    1,\n",
      "                                                                    0,\n",
      "                                                                    1],\n",
      "                                                 'run': 8},\n",
      "                                             {   'evaluation': {   'nmi': 0.03911237497378053,\n",
      "                                                                   'silhouette': 0.24863699078559875},\n",
      "                                                 'predictions': [   0,\n",
      "                                                                    0,\n",
      "                                                                    0,\n",
      "                                                                    1,\n",
      "                                                                    0,\n",
      "                                                                    0,\n",
      "                                                                    1,\n",
      "                                                                    1,\n",
      "                                                                    1,\n",
      "                                                                    1],\n",
      "                                                 'run': 9},\n",
      "                                             {   'evaluation': {   'nmi': 0.31913815345201063,\n",
      "                                                                   'silhouette': 0.19844195246696472},\n",
      "                                                 'predictions': [   0,\n",
      "                                                                    1,\n",
      "                                                                    0,\n",
      "                                                                    1,\n",
      "                                                                    0,\n",
      "                                                                    0,\n",
      "                                                                    1,\n",
      "                                                                    1,\n",
      "                                                                    1,\n",
      "                                                                    0],\n",
      "                                                 'run': 10}]},\n",
      "                             {   'params': {'n_clusters': 3},\n",
      "                                 'runs': [   {   'evaluation': {   'nmi': 0.2683833848044829,\n",
      "                                                                   'silhouette': 0.20076057314872742},\n",
      "                                                 'predictions': [   0,\n",
      "                                                                    1,\n",
      "                                                                    0,\n",
      "                                                                    2,\n",
      "                                                                    0,\n",
      "                                                                    0,\n",
      "                                                                    1,\n",
      "                                                                    2,\n",
      "                                                                    2,\n",
      "                                                                    0],\n",
      "                                                 'run': 1},\n",
      "                                             {   'evaluation': {   'nmi': 0.28039161144241215,\n",
      "                                                                   'silhouette': 0.19423706829547882},\n",
      "                                                 'predictions': [   0,\n",
      "                                                                    0,\n",
      "                                                                    1,\n",
      "                                                                    1,\n",
      "                                                                    0,\n",
      "                                                                    0,\n",
      "                                                                    0,\n",
      "                                                                    1,\n",
      "                                                                    1,\n",
      "                                                                    2],\n",
      "                                                 'run': 2},\n",
      "                                             {   'evaluation': {   'nmi': 0.26733692039994567,\n",
      "                                                                   'silhouette': 0.209686279296875},\n",
      "                                                 'predictions': [   1,\n",
      "                                                                    2,\n",
      "                                                                    0,\n",
      "                                                                    0,\n",
      "                                                                    1,\n",
      "                                                                    1,\n",
      "                                                                    2,\n",
      "                                                                    2,\n",
      "                                                                    0,\n",
      "                                                                    0],\n",
      "                                                 'run': 3},\n",
      "                                             {   'evaluation': {   'nmi': 0.28039161144241215,\n",
      "                                                                   'silhouette': 0.259438157081604},\n",
      "                                                 'predictions': [   2,\n",
      "                                                                    0,\n",
      "                                                                    2,\n",
      "                                                                    0,\n",
      "                                                                    2,\n",
      "                                                                    2,\n",
      "                                                                    0,\n",
      "                                                                    0,\n",
      "                                                                    2,\n",
      "                                                                    1],\n",
      "                                                 'run': 4},\n",
      "                                             {   'evaluation': {   'nmi': 0.46879958524197074,\n",
      "                                                                   'silhouette': 0.20946761965751648},\n",
      "                                                 'predictions': [   0,\n",
      "                                                                    0,\n",
      "                                                                    1,\n",
      "                                                                    1,\n",
      "                                                                    0,\n",
      "                                                                    0,\n",
      "                                                                    1,\n",
      "                                                                    1,\n",
      "                                                                    1,\n",
      "                                                                    2],\n",
      "                                                 'run': 5},\n",
      "                                             {   'evaluation': {   'nmi': 0.28039161144241215,\n",
      "                                                                   'silhouette': 0.259438157081604},\n",
      "                                                 'predictions': [   1,\n",
      "                                                                    0,\n",
      "                                                                    1,\n",
      "                                                                    0,\n",
      "                                                                    1,\n",
      "                                                                    1,\n",
      "                                                                    0,\n",
      "                                                                    0,\n",
      "                                                                    1,\n",
      "                                                                    2],\n",
      "                                                 'run': 6},\n",
      "                                             {   'evaluation': {   'nmi': 0.5700127345819985,\n",
      "                                                                   'silhouette': 0.12452171742916107},\n",
      "                                                 'predictions': [   2,\n",
      "                                                                    1,\n",
      "                                                                    2,\n",
      "                                                                    1,\n",
      "                                                                    0,\n",
      "                                                                    0,\n",
      "                                                                    1,\n",
      "                                                                    1,\n",
      "                                                                    2,\n",
      "                                                                    0],\n",
      "                                                 'run': 7},\n",
      "                                             {   'evaluation': {   'nmi': 0.44270128334604997,\n",
      "                                                                   'silhouette': 0.2237030565738678},\n",
      "                                                 'predictions': [   2,\n",
      "                                                                    1,\n",
      "                                                                    0,\n",
      "                                                                    0,\n",
      "                                                                    2,\n",
      "                                                                    2,\n",
      "                                                                    1,\n",
      "                                                                    1,\n",
      "                                                                    0,\n",
      "                                                                    2],\n",
      "                                                 'run': 8},\n",
      "                                             {   'evaluation': {   'nmi': 0.28039161144241215,\n",
      "                                                                   'silhouette': 0.19423706829547882},\n",
      "                                                 'predictions': [   1,\n",
      "                                                                    1,\n",
      "                                                                    0,\n",
      "                                                                    0,\n",
      "                                                                    1,\n",
      "                                                                    1,\n",
      "                                                                    1,\n",
      "                                                                    0,\n",
      "                                                                    0,\n",
      "                                                                    2],\n",
      "                                                 'run': 9},\n",
      "                                             {   'evaluation': {   'nmi': 0.2683833848044829,\n",
      "                                                                   'silhouette': 0.22051937878131866},\n",
      "                                                 'predictions': [   1,\n",
      "                                                                    0,\n",
      "                                                                    1,\n",
      "                                                                    2,\n",
      "                                                                    1,\n",
      "                                                                    1,\n",
      "                                                                    0,\n",
      "                                                                    0,\n",
      "                                                                    2,\n",
      "                                                                    1],\n",
      "                                                 'run': 10}]}],\n",
      "    'repetitions': 10}\n"
     ]
    }
   ],
   "source": [
    "# pretty print results file content\n",
    "pp.pprint(experiment_results)"
   ]
  },
  {
   "cell_type": "code",
   "execution_count": 5,
   "metadata": {},
   "outputs": [
    {
     "name": "stdout",
     "output_type": "stream",
     "text": [
      "Embedding-Method: Verse-PPR\n",
      "Dataset: Test-Data\n",
      "Used embedding: data/test_converter_verse_embeddings.bin\n",
      "Number of different hyper_parameter settings: 2\n"
     ]
    }
   ],
   "source": [
    "# print general information\n",
    "print('Embedding-Method: {}'.format(experiment_results['method']))\n",
    "print('Dataset: {}'.format(experiment_results['dataset']))\n",
    "print('Used embedding: {}'.format(experiment_results['embedding_file']))\n",
    "print('Number of different hyper_parameter settings: {}'.format(len(experiment_results['parameterizations'])))"
   ]
  },
  {
   "cell_type": "code",
   "execution_count": 6,
   "metadata": {},
   "outputs": [
    {
     "name": "stdout",
     "output_type": "stream",
     "text": [
      "1. {'n_clusters': 2}\n",
      "2. {'n_clusters': 3}\n"
     ]
    }
   ],
   "source": [
    "# print all hyper-parameter settings\n",
    "for index, setting in enumerate(experiment_results['parameterizations']):\n",
    "    print('{}. {}'.format(index+1, setting['params']))"
   ]
  },
  {
   "cell_type": "code",
   "execution_count": 7,
   "metadata": {},
   "outputs": [
    {
     "name": "stdout",
     "output_type": "stream",
     "text": [
      "1. {'nmi': 0.03911237497378053, 'silhouette': 0.22661468386650085}\n",
      "2. {'nmi': 0.17490772832691745, 'silhouette': 0.19784115254878998}\n",
      "3. {'nmi': 0.01617206644334285, 'silhouette': 0.2067338526248932}\n",
      "4. {'nmi': 0.03911237497378053, 'silhouette': 0.1739547848701477}\n",
      "5. {'nmi': 0.03911237497378053, 'silhouette': 0.24863699078559875}\n",
      "6. {'nmi': 0.31913815345201063, 'silhouette': 0.11334152519702911}\n",
      "7. {'nmi': 0.01617206644334285, 'silhouette': 0.1703609824180603}\n",
      "8. {'nmi': 0.01617206644334285, 'silhouette': 0.236627459526062}\n",
      "9. {'nmi': 0.03911237497378053, 'silhouette': 0.24863699078559875}\n",
      "10. {'nmi': 0.31913815345201063, 'silhouette': 0.19844195246696472}\n"
     ]
    }
   ],
   "source": [
    "# print evaluation results for each run\n",
    "for run in experiment_results['parameterizations'][0]['runs']:\n",
    "    print('{}. {}'.format(run['run'],run['evaluation']))"
   ]
  },
  {
   "cell_type": "code",
   "execution_count": 8,
   "metadata": {},
   "outputs": [
    {
     "name": "stdout",
     "output_type": "stream",
     "text": [
      "['nmi', 'silhouette']\n"
     ]
    }
   ],
   "source": [
    "# print used evaluation metrics\n",
    "evaluation_metrics = list(experiment_results['parameterizations'][0]['runs'][0]['evaluation'].keys())\n",
    "pp.pprint(evaluation_metrics)"
   ]
  },
  {
   "cell_type": "code",
   "execution_count": 9,
   "metadata": {},
   "outputs": [
    {
     "name": "stdout",
     "output_type": "stream",
     "text": [
      "{   'nmi': array([ 0.03911237,  0.17490773,  0.01617207,  0.03911237,  0.03911237,\n",
      "        0.31913815,  0.01617207,  0.01617207,  0.03911237,  0.31913815]),\n",
      "    'silhouette': array([ 0.22661468,  0.19784115,  0.20673385,  0.17395478,  0.24863699,\n",
      "        0.11334153,  0.17036098,  0.23662746,  0.24863699,  0.19844195])}\n"
     ]
    }
   ],
   "source": [
    "# dict of evaluation metrics with all performances scores over all runs\n",
    "total_eval_results = {}\n",
    "for metric in evaluation_metrics:\n",
    "    total_eval_results_for_metric = []\n",
    "    for run in experiment_results['parameterizations'][0]['runs']:\n",
    "        total_eval_results_for_metric.append(run['evaluation'][metric])\n",
    "    total_eval_results[metric] = np.array(total_eval_results_for_metric)\n",
    "\n",
    "pp.pprint(total_eval_results)"
   ]
  },
  {
   "cell_type": "code",
   "execution_count": 10,
   "metadata": {},
   "outputs": [
    {
     "name": "stdout",
     "output_type": "stream",
     "text": [
      "{'nmi': 0.10181497344560893, 'silhouette': 0.20211903750896454}\n"
     ]
    }
   ],
   "source": [
    "# compute average performance per evaluation metric over all runs\n",
    "avg_total_eval_results = {}\n",
    "for metric in evaluation_metrics:\n",
    "    avg_total_eval_results[metric] = np.mean(total_eval_results[metric], axis=0)\n",
    "\n",
    "pp.pprint(avg_total_eval_results)"
   ]
  },
  {
   "cell_type": "code",
   "execution_count": 11,
   "metadata": {},
   "outputs": [
    {
     "data": {
      "image/png": "[encoded data removed]",
      "text/plain": [
       "<matplotlib.figure.Figure at 0x7f45ac2495f8>"
      ]
     },
     "metadata": {},
     "output_type": "display_data"
    }
   ],
   "source": [
    "# bar plot with avergae scores over all runs for each metric\n",
    "bar_list = plt.bar(range(len(avg_total_eval_results)), list(avg_total_eval_results.values()),\n",
    "                   align='center', color=['red', 'green', 'blue', 'cyan'])\n",
    "\n",
    "axes = plt.gca()\n",
    "axes.set_ylim([0,1])\n",
    "plt.xticks(range(len(avg_total_eval_results)), list(avg_total_eval_results.keys()))\n",
    "plt.yticks([0.1 * i for i in range(1,10)])\n",
    "plt.ylabel('metric-score')\n",
    "plt.show()"
   ]
  },
  {
   "cell_type": "code",
   "execution_count": 12,
   "metadata": {},
   "outputs": [
    {
     "name": "stdout",
     "output_type": "stream",
     "text": [
      "nmi in r\n",
      "silhouette in g\n"
     ]
    },
    {
     "data": {
      "image/png": "[encoded data removed]",
      "text/plain": [
       "<matplotlib.figure.Figure at 0x7f457d5d7400>"
      ]
     },
     "metadata": {},
     "output_type": "display_data"
    }
   ],
   "source": [
    "num_of_runs = len(experiment_results['parameterizations'][0]['runs'])\n",
    "data_point_shapes = ['v', '^', '<', '>']\n",
    "data_colors = ['r', 'g', 'b', 'c']\n",
    "\n",
    "ax = plt.subplot(111)\n",
    "\n",
    "for index, metric in enumerate(evaluation_metrics):\n",
    "    print('{} in {}'.format(metric,data_colors[index]))\n",
    "    ax.plot(range(1,num_of_runs+1),total_eval_results[metric], data_point_shapes[index]+data_colors[index],\n",
    "            label='{}'.format(metric))\n",
    "\n",
    "ax.legend()\n",
    "axes = plt.gca()\n",
    "axes.set_ylim([0,1])\n",
    "plt.xlabel('run')\n",
    "plt.ylabel('metric-score')\n",
    "plt.xticks(range(1,num_of_runs+1))\n",
    "plt.yticks([0.1 * i for i in range(1,10)])\n",
    "plt.show()"
   ]
  },
  {
   "cell_type": "code",
   "execution_count": null,
   "metadata": {
    "collapsed": true
   },
   "outputs": [],
   "source": []
  }
 ],
 "metadata": {
  "kernelspec": {
   "display_name": "Python 3",
   "language": "python",
   "name": "python3"
  },
  "language_info": {
   "codemirror_mode": {
    "name": "ipython",
    "version": 3
   },
   "file_extension": ".py",
   "mimetype": "text/x-python",
   "name": "python",
   "nbconvert_exporter": "python",
   "pygments_lexer": "ipython3",
   "version": "3.6.3"
  }
 },
 "nbformat": 4,
 "nbformat_minor": 2
}
