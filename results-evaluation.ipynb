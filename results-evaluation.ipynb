{
 "cells": [
  {
   "cell_type": "code",
   "execution_count": 1,
   "metadata": {
    "collapsed": true
   },
   "outputs": [],
   "source": [
    "# import necessary packages\n",
    "import numpy as np\n",
    "import pandas as pd\n",
    "import json\n",
    "import pprint\n",
    "import matplotlib.pyplot as plt"
   ]
  },
  {
   "cell_type": "code",
   "execution_count": 2,
   "metadata": {
    "collapsed": true
   },
   "outputs": [],
   "source": [
    "# initialize pretty printer\n",
    "pp = pprint.PrettyPrinter(indent=4, depth=8)"
   ]
  },
  {
   "cell_type": "code",
   "execution_count": 3,
   "metadata": {
    "collapsed": true
   },
   "outputs": [],
   "source": [
    "# read results from json-file\n",
    "results_file_path='results/test_verse_ppr_experiment_results.json'\n",
    "experiment_results = {}\n",
    "\n",
    "with open(results_file_path, 'r') as results_file:\n",
    "     experiment_results = json.load(results_file)"
   ]
  },
  {
   "cell_type": "code",
   "execution_count": 4,
   "metadata": {},
   "outputs": [
    {
     "name": "stdout",
     "output_type": "stream",
     "text": [
      "{   'dataset': 'Test-Data',\n",
      "    'embedding_file': 'data/test_converter_verse_embeddings.bin',\n",
      "    'method': 'Verse-PPR',\n",
      "    'parameterizations': [   {   'params': {'n_clusters': 2},\n",
      "                                 'runs': [   {   'evaluation': {   'nmi': 0.2254398484510957,\n",
      "                                                                   'silhouette': 0.3669380247592926},\n",
      "                                                 'experiment': 139781484910688,\n",
      "                                                 'random_seed': 42,\n",
      "                                                 'run': 1},\n",
      "                                             {   'evaluation': {   'nmi': 0.03911237497378053,\n",
      "                                                                   'silhouette': 0.24863699078559875},\n",
      "                                                 'experiment': 139781484910912,\n",
      "                                                 'random_seed': 43,\n",
      "                                                 'run': 2}]},\n",
      "                             {   'params': {'n_clusters': 3},\n",
      "                                 'runs': [   {   'evaluation': {   'nmi': 0.14361072753945925,\n",
      "                                                                   'silhouette': 0.21395441889762878},\n",
      "                                                 'experiment': 139781484962760,\n",
      "                                                 'random_seed': 42,\n",
      "                                                 'run': 1},\n",
      "                                             {   'evaluation': {   'nmi': 0.46879958524197074,\n",
      "                                                                   'silhouette': 0.20946761965751648},\n",
      "                                                 'experiment': 139781484962984,\n",
      "                                                 'random_seed': 43,\n",
      "                                                 'run': 2}]}],\n",
      "    'repetitions': 2}\n"
     ]
    }
   ],
   "source": [
    "# pretty print results file content\n",
    "pp.pprint(experiment_results)"
   ]
  },
  {
   "cell_type": "code",
   "execution_count": 5,
   "metadata": {},
   "outputs": [
    {
     "name": "stdout",
     "output_type": "stream",
     "text": [
      "Embedding-Method: Verse-PPR\n",
      "Dataset: Test-Data\n",
      "Used embedding: data/test_converter_verse_embeddings.bin\n",
      "Number of different hyper_parameter settings: 2\n"
     ]
    }
   ],
   "source": [
    "# print general information\n",
    "print('Embedding-Method: {}'.format(experiment_results['method']))\n",
    "print('Dataset: {}'.format(experiment_results['dataset']))\n",
    "print('Used embedding: {}'.format(experiment_results['embedding_file']))\n",
    "print('Number of different hyper_parameter settings: {}'.format(len(experiment_results['parameterizations'])))"
   ]
  },
  {
   "cell_type": "code",
   "execution_count": 6,
   "metadata": {},
   "outputs": [
    {
     "name": "stdout",
     "output_type": "stream",
     "text": [
      "1. {'n_clusters': 2}\n",
      "2. {'n_clusters': 3}\n"
     ]
    }
   ],
   "source": [
    "# print all hyper-parameter settings\n",
    "for index, setting in enumerate(experiment_results['parameterizations']):\n",
    "    print('{}. {}'.format(index+1, setting['params']))"
   ]
  },
  {
   "cell_type": "code",
   "execution_count": 7,
   "metadata": {},
   "outputs": [
    {
     "name": "stdout",
     "output_type": "stream",
     "text": [
      "1. {'nmi': 0.2254398484510957, 'silhouette': 0.3669380247592926}\n",
      "2. {'nmi': 0.03911237497378053, 'silhouette': 0.24863699078559875}\n"
     ]
    }
   ],
   "source": [
    "# print evaluation results for each run\n",
    "for run in experiment_results['parameterizations'][0]['runs']:\n",
    "    print('{}. {}'.format(run['run'],run['evaluation']))"
   ]
  },
  {
   "cell_type": "code",
   "execution_count": 8,
   "metadata": {},
   "outputs": [
    {
     "name": "stdout",
     "output_type": "stream",
     "text": [
      "['nmi', 'silhouette']\n"
     ]
    }
   ],
   "source": [
    "# print used evaluation metrics\n",
    "evaluation_metrics = list(experiment_results['parameterizations'][0]['runs'][0]['evaluation'].keys())\n",
    "pp.pprint(evaluation_metrics)"
   ]
  },
  {
   "cell_type": "code",
   "execution_count": 9,
   "metadata": {},
   "outputs": [
    {
     "name": "stdout",
     "output_type": "stream",
     "text": [
      "{   'nmi': array([ 0.22543985,  0.03911237]),\n",
      "    'silhouette': array([ 0.36693802,  0.24863699])}\n"
     ]
    }
   ],
   "source": [
    "# dict of evaluation metrics with all performances scores over all runs\n",
    "total_eval_results = {}\n",
    "for metric in evaluation_metrics:\n",
    "    total_eval_results_for_metric = []\n",
    "    for run in experiment_results['parameterizations'][0]['runs']:\n",
    "        total_eval_results_for_metric.append(run['evaluation'][metric])\n",
    "    total_eval_results[metric] = np.array(total_eval_results_for_metric)\n",
    "\n",
    "pp.pprint(total_eval_results)"
   ]
  },
  {
   "cell_type": "code",
   "execution_count": 10,
   "metadata": {},
   "outputs": [
    {
     "name": "stdout",
     "output_type": "stream",
     "text": [
      "{'nmi': 0.13227611171243811, 'silhouette': 0.30778750777244568}\n"
     ]
    }
   ],
   "source": [
    "# compute average performance per evaluation metric over all runs\n",
    "avg_total_eval_results = {}\n",
    "for metric in evaluation_metrics:\n",
    "    avg_total_eval_results[metric] = np.mean(total_eval_results[metric], axis=0)\n",
    "\n",
    "pp.pprint(avg_total_eval_results)"
   ]
  },
  {
   "cell_type": "code",
   "execution_count": 11,
   "metadata": {},
   "outputs": [
    {
     "data": {
      "image/png": "[encoded data removed]",
      "text/plain": [
       "<matplotlib.figure.Figure at 0x7fe535fd7128>"
      ]
     },
     "metadata": {},
     "output_type": "display_data"
    }
   ],
   "source": [
    "# bar plot with avergae scores over all runs for each metric\n",
    "bar_list = plt.bar(range(len(avg_total_eval_results)), list(avg_total_eval_results.values()),\n",
    "                   align='center', color=['red', 'green', 'blue', 'cyan'])\n",
    "\n",
    "axes = plt.gca()\n",
    "axes.set_ylim([0,1])\n",
    "plt.xticks(range(len(avg_total_eval_results)), list(avg_total_eval_results.keys()))\n",
    "plt.yticks([0.1 * i for i in range(1,10)])\n",
    "plt.ylabel('metric-score')\n",
    "plt.show()"
   ]
  },
  {
   "cell_type": "code",
   "execution_count": 12,
   "metadata": {},
   "outputs": [
    {
     "name": "stdout",
     "output_type": "stream",
     "text": [
      "nmi in r\n",
      "silhouette in g\n"
     ]
    },
    {
     "data": {
      "image/png": "[encoded data removed]",
      "text/plain": [
       "<matplotlib.figure.Figure at 0x7fe535f3b7f0>"
      ]
     },
     "metadata": {},
     "output_type": "display_data"
    }
   ],
   "source": [
    "num_of_runs = len(experiment_results['parameterizations'][0]['runs'])\n",
    "data_point_shapes = ['v', '^', '<', '>']\n",
    "data_colors = ['r', 'g', 'b', 'c']\n",
    "\n",
    "ax = plt.subplot(111)\n",
    "\n",
    "for index, metric in enumerate(evaluation_metrics):\n",
    "    print('{} in {}'.format(metric,data_colors[index]))\n",
    "    ax.plot(range(1,num_of_runs+1),total_eval_results[metric], data_point_shapes[index]+data_colors[index],\n",
    "            label='{}'.format(metric))\n",
    "\n",
    "ax.legend()\n",
    "axes = plt.gca()\n",
    "axes.set_ylim([0,1])\n",
    "plt.xlabel('run')\n",
    "plt.ylabel('metric-score')\n",
    "plt.xticks(range(1,num_of_runs+1))\n",
    "plt.yticks([0.1 * i for i in range(1,10)])\n",
    "plt.show()"
   ]
  },
  {
   "cell_type": "code",
   "execution_count": null,
   "metadata": {
    "collapsed": true
   },
   "outputs": [],
   "source": []
  }
 ],
 "metadata": {
  "kernelspec": {
   "display_name": "Python 3",
   "language": "python",
   "name": "python3"
  },
  "language_info": {
   "codemirror_mode": {
    "name": "ipython",
    "version": 3
   },
   "file_extension": ".py",
   "mimetype": "text/x-python",
   "name": "python",
   "nbconvert_exporter": "python",
   "pygments_lexer": "ipython3",
   "version": "3.6.3"
  }
 },
 "nbformat": 4,
 "nbformat_minor": 2
}
