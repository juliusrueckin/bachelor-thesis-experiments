{
 "cells": [
  {
   "cell_type": "code",
   "execution_count": 14,
   "metadata": {
    "collapsed": true
   },
   "outputs": [],
   "source": [
    "# import necessary stuff and python-wrapper of verse\n",
    "import os\n",
    "import pprint\n",
    "import numpy as np\n",
    "import json\n",
    "import sys\n",
    "import pickle\n",
    "import codecs\n",
    "import networkx as nx\n",
    "from scipy.sparse import csr_matrix\n",
    "\n",
    "from verse.python.wrapper import VERSE\n",
    "from multi_class_classification import MultiClassClassification\n",
    "from multi_label_classification import MultiLabelClassification\n",
    "from clustering import Clustering\n",
    "from link_prediction import LinkPrediction\n",
    "from experiment import Experiment"
   ]
  },
  {
   "cell_type": "code",
   "execution_count": 15,
   "metadata": {
    "collapsed": true
   },
   "outputs": [],
   "source": [
    "# initialize pretty printer\n",
    "pp = pprint.PrettyPrinter(indent=4, depth=8)"
   ]
  },
  {
   "cell_type": "code",
   "execution_count": 16,
   "metadata": {
    "collapsed": true
   },
   "outputs": [],
   "source": [
    "# configure telegram notifier bot\n",
    "my_telegram_config = {\n",
    "    \"telegram\": {\n",
    "        \"token\": \"350553078:AAEu70JDqMFcG_x5eBD3nqccTvc4aFNMKkg\",\n",
    "        \"chat_id\": \"126551968\",\n",
    "        \"verbose\": 1\n",
    "    }\n",
    "}"
   ]
  },
  {
   "cell_type": "code",
   "execution_count": 17,
   "metadata": {
    "collapsed": true
   },
   "outputs": [],
   "source": [
    "dataset_path = 'data/coauthor/'\n",
    "coauthor_crawled_data_file_path = dataset_path + 'coauthor_json.p'\n",
    "EXPORT_AS_EDGE_LIST = False"
   ]
  },
  {
   "cell_type": "code",
   "execution_count": 18,
   "metadata": {},
   "outputs": [],
   "source": [
    "with open(coauthor_crawled_data_file_path, 'rb') as pickle_file:\n",
    "    coauthor_data = pickle.load(pickle_file)"
   ]
  },
  {
   "cell_type": "code",
   "execution_count": 19,
   "metadata": {
    "collapsed": true
   },
   "outputs": [],
   "source": [
    "# define research fields and years of interest for us\n",
    "fields_of_studies = ['Machine learning', 'Data mining']\n",
    "years = [2013,2014,2015,2016]"
   ]
  },
  {
   "cell_type": "code",
   "execution_count": 20,
   "metadata": {
    "collapsed": true
   },
   "outputs": [],
   "source": [
    "# extract top 5 conferences per field of research\n",
    "top_5_conf_series_per_field = {}\n",
    "for field_of_study in fields_of_studies:\n",
    "    top_5_conf_series_per_field[field_of_study] = coauthor_data[field_of_study]"
   ]
  },
  {
   "cell_type": "code",
   "execution_count": 21,
   "metadata": {},
   "outputs": [],
   "source": [
    "# define networkx graph\n",
    "coauthor_graph = nx.Graph()"
   ]
  },
  {
   "cell_type": "code",
   "execution_count": 22,
   "metadata": {
    "collapsed": true
   },
   "outputs": [],
   "source": [
    "# define node and edge label constants\n",
    "AUTHOR = 'author'\n",
    "PAPER = 'paper'\n",
    "CO_AUTHOR = 'co_author_of'\n",
    "REFERENCES = 'references'\n",
    "WRITTEN_BY = 'written_by'"
   ]
  },
  {
   "cell_type": "code",
   "execution_count": 23,
   "metadata": {},
   "outputs": [
    {
     "name": "stdout",
     "output_type": "stream",
     "text": [
      "30896 author and paper nodes in graph\n"
     ]
    }
   ],
   "source": [
    "# add authors and papers\n",
    "for field_of_study in coauthor_data.keys():\n",
    "    for conference in coauthor_data[field_of_study].keys():\n",
    "        for year in coauthor_data[field_of_study][conference].keys():\n",
    "            for i, paper in enumerate(coauthor_data[field_of_study][conference][year]):\n",
    "                coauthor_graph.add_node('P' + str(paper['Id']), num_citations=paper['CC'], num_references=len(paper['RId']),\n",
    "                                        conference=conference, field_of_study=field_of_study, label=PAPER)\n",
    "                for author in coauthor_data[field_of_study][conference][year][i]['authors']:\n",
    "                    coauthor_graph.add_node('A' + str(author), label=AUTHOR)\n",
    "\n",
    "print(\"{} author and paper nodes in graph\".format(coauthor_graph.number_of_nodes()))"
   ]
  },
  {
   "cell_type": "code",
   "execution_count": 24,
   "metadata": {},
   "outputs": [
    {
     "name": "stdout",
     "output_type": "stream",
     "text": [
      "30896 nodes in graph\n",
      "99578 edges in graph\n"
     ]
    }
   ],
   "source": [
    "# add co-author, written_by and reference edge\n",
    "for field_of_study in coauthor_data.keys():\n",
    "    for conference in coauthor_data[field_of_study].keys():\n",
    "        for year in coauthor_data[field_of_study][conference].keys():\n",
    "            for i, paper in enumerate(coauthor_data[field_of_study][conference][year]):\n",
    "                for referenced_paper_id in paper['RId']:\n",
    "                    if 'P' + str(referenced_paper_id) in coauthor_graph:\n",
    "                        coauthor_graph.add_edge('P' + str(paper['Id']), 'P' + str(referenced_paper_id),\n",
    "                                                label=REFERENCES)\n",
    "                for author in coauthor_data[field_of_study][conference][year][i]['authors']:\n",
    "                    coauthor_graph.add_edge('P' + str(paper['Id']), 'A' + str(author), label=WRITTEN_BY)\n",
    "                    for co_author in coauthor_data[field_of_study][conference][year][i]['authors']:\n",
    "                        if author != co_author:\n",
    "                            coauthor_graph.add_edge('A' + str(author), 'A' + str(co_author), label=CO_AUTHOR)\n",
    "\n",
    "print(\"{} nodes in graph\".format(coauthor_graph.number_of_nodes()))\n",
    "print(\"{} edges in graph\".format(coauthor_graph.number_of_edges()))"
   ]
  },
  {
   "cell_type": "code",
   "execution_count": 25,
   "metadata": {},
   "outputs": [
    {
     "name": "stdout",
     "output_type": "stream",
     "text": [
      "The avg. node degree is 6.45\n"
     ]
    }
   ],
   "source": [
    "# compute average degree of all nodes in graph\n",
    "node_degrees = np.array(list(dict(coauthor_graph.degree(list(coauthor_graph.nodes))).values()),dtype=np.int64)\n",
    "avg_node_degree = np.mean(node_degrees)\n",
    "print(\"The avg. node degree is {}\".format(np.round(avg_node_degree, decimals=2)))"
   ]
  },
  {
   "cell_type": "code",
   "execution_count": null,
   "metadata": {
    "collapsed": true
   },
   "outputs": [],
   "source": []
  }
 ],
 "metadata": {
  "kernelspec": {
   "display_name": "Python 3",
   "language": "python",
   "name": "python3"
  },
  "language_info": {
   "codemirror_mode": {
    "name": "ipython",
    "version": 3
   },
   "file_extension": ".py",
   "mimetype": "text/x-python",
   "name": "python",
   "nbconvert_exporter": "python",
   "pygments_lexer": "ipython3",
   "version": "3.6.3"
  }
 },
 "nbformat": 4,
 "nbformat_minor": 2
}
