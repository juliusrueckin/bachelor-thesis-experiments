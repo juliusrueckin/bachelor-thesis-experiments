{
 "cells": [
  {
   "cell_type": "code",
   "execution_count": 1,
   "metadata": {
    "collapsed": true
   },
   "outputs": [],
   "source": [
    "# import necessary stuff\n",
    "import pickle\n",
    "import networkx as nx\n",
    "import numpy as np"
   ]
  },
  {
   "cell_type": "code",
   "execution_count": 2,
   "metadata": {
    "collapsed": true
   },
   "outputs": [],
   "source": [
    "dataset_path = 'data/coauthor/'\n",
    "coauthor_crawled_data_file_path = dataset_path + 'coauthor_crawled_data.p'\n",
    "EXPORT_AS_EDGE_LIST = False"
   ]
  },
  {
   "cell_type": "code",
   "execution_count": 3,
   "metadata": {
    "collapsed": true
   },
   "outputs": [],
   "source": [
    "with open(coauthor_crawled_data_file_path, 'rb') as pickle_file:\n",
    "    coauthor_data = pickle.load(pickle_file)"
   ]
  },
  {
   "cell_type": "code",
   "execution_count": 4,
   "metadata": {
    "collapsed": true
   },
   "outputs": [],
   "source": [
    "# define research fields and years of interest for us\n",
    "fields_of_studies = ['Machine learning']\n",
    "years = [2013,2014,2015,2016]"
   ]
  },
  {
   "cell_type": "code",
   "execution_count": 5,
   "metadata": {
    "collapsed": true
   },
   "outputs": [],
   "source": [
    "# extract top 5 conferences per field of research\n",
    "top_5_conf_series_per_field = {}\n",
    "for field_of_study in fields_of_studies:\n",
    "    top_5_conf_series_per_field[field_of_study] = coauthor_data[field_of_study]"
   ]
  },
  {
   "cell_type": "code",
   "execution_count": 6,
   "metadata": {
    "collapsed": true
   },
   "outputs": [],
   "source": [
    "# define networkx graph\n",
    "coauthor_graph = nx.Graph()"
   ]
  },
  {
   "cell_type": "code",
   "execution_count": 7,
   "metadata": {
    "collapsed": true
   },
   "outputs": [],
   "source": [
    "# define node and edge label constants\n",
    "AUTHOR = 'author'\n",
    "PAPER = 'paper'\n",
    "CO_AUTHOR = 'co_author_of'\n",
    "REFERENCES = 'references'\n",
    "WRITTEN_BY = 'written_by'"
   ]
  },
  {
   "cell_type": "code",
   "execution_count": 8,
   "metadata": {},
   "outputs": [
    {
     "name": "stdout",
     "output_type": "stream",
     "text": [
      "30896 author and paper nodes in graph\n"
     ]
    }
   ],
   "source": [
    "# add authors and papers\n",
    "already_added_papers = []\n",
    "already_added_authors = []\n",
    "\n",
    "for field_of_study in coauthor_data.keys():\n",
    "    for conference in coauthor_data[field_of_study].keys():\n",
    "        for year in coauthor_data[field_of_study][conference].keys():\n",
    "            for i, paper in enumerate(coauthor_data[field_of_study][conference][year]):\n",
    "                if 'P' + str(paper['Id']) not in already_added_papers:\n",
    "                    coauthor_graph.add_node('P' + str(paper['Id']), num_citations=paper['CC'], num_references=len(paper['RId']),\n",
    "                                        conference=conference, field_of_study=field_of_study, label=PAPER)\n",
    "                    already_added_papers.append('P' + str(paper['Id']))\n",
    "                for author in coauthor_data[field_of_study][conference][year][i]['authors']:\n",
    "                    if 'A' + str(author) not in already_added_authors:\n",
    "                        coauthor_graph.add_node('A' + str(author), label=AUTHOR)\n",
    "                        already_added_authors.append('A' + str(author))\n",
    "\n",
    "print(\"{} author and paper nodes in graph\".format(coauthor_graph.number_of_nodes()))"
   ]
  },
  {
   "cell_type": "code",
   "execution_count": 9,
   "metadata": {},
   "outputs": [
    {
     "name": "stdout",
     "output_type": "stream",
     "text": [
      "30896 nodes in graph\n",
      "99578 edges in graph\n"
     ]
    }
   ],
   "source": [
    "# add co-author, written_by and reference edge\n",
    "for field_of_study in coauthor_data.keys():\n",
    "    for conference in coauthor_data[field_of_study].keys():\n",
    "        for year in coauthor_data[field_of_study][conference].keys():\n",
    "            for i, paper in enumerate(coauthor_data[field_of_study][conference][year]):\n",
    "                for referenced_paper_id in paper['RId']:\n",
    "                    if 'P' + str(referenced_paper_id) in coauthor_graph:\n",
    "                        coauthor_graph.add_edge('P' + str(paper['Id']), 'P' + str(referenced_paper_id),\n",
    "                                                label=REFERENCES)\n",
    "                for author in coauthor_data[field_of_study][conference][year][i]['authors']:\n",
    "                    coauthor_graph.add_edge('P' + str(paper['Id']), 'A' + str(author), label=WRITTEN_BY)\n",
    "                    for co_author in coauthor_data[field_of_study][conference][year][i]['authors']:\n",
    "                        if author != co_author:\n",
    "                            coauthor_graph.add_edge('A' + str(author), 'A' + str(co_author), label=CO_AUTHOR)\n",
    "\n",
    "print(\"{} nodes in graph\".format(coauthor_graph.number_of_nodes()))\n",
    "print(\"{} edges in graph\".format(coauthor_graph.number_of_edges()))"
   ]
  },
  {
   "cell_type": "code",
   "execution_count": 10,
   "metadata": {
    "collapsed": true
   },
   "outputs": [],
   "source": [
    "# export graph as edge list to given path\n",
    "if EXPORT_AS_EDGE_LIST:\n",
    "    edge_list_export_path = dataset_path + 'coauthor_edgelist.csv'\n",
    "    nx.write_edgelist(coauthor_graph, edge_list_export_path, data=False)"
   ]
  },
  {
   "cell_type": "code",
   "execution_count": 11,
   "metadata": {},
   "outputs": [
    {
     "name": "stdout",
     "output_type": "stream",
     "text": [
      "The avg. node degree is 6.45\n"
     ]
    }
   ],
   "source": [
    "# compute average degree of all nodes in graph\n",
    "node_degrees = np.array(list(dict(coauthor_graph.degree(list(coauthor_graph.nodes))).values()),dtype=np.int64)\n",
    "avg_node_degree = np.mean(node_degrees)\n",
    "print(\"The avg. node degree is {}\".format(np.round(avg_node_degree, decimals=2)))"
   ]
  },
  {
   "cell_type": "code",
   "execution_count": 12,
   "metadata": {},
   "outputs": [
    {
     "data": {
      "text/plain": [
       "30896"
      ]
     },
     "execution_count": 12,
     "metadata": {},
     "output_type": "execute_result"
    }
   ],
   "source": [
    "len(set(list(coauthor_graph.nodes)))"
   ]
  },
  {
   "cell_type": "code",
   "execution_count": 13,
   "metadata": {
    "collapsed": true
   },
   "outputs": [],
   "source": [
    "# collect conference class label mapping\n",
    "conference_count = 0\n",
    "conference_label_mapping = {}\n",
    "for field_of_study in coauthor_data.keys():\n",
    "    for conference in coauthor_data[field_of_study].keys():\n",
    "        conference_label_mapping[conference] = conference_count\n",
    "        conference_count += 1"
   ]
  },
  {
   "cell_type": "code",
   "execution_count": 14,
   "metadata": {},
   "outputs": [
    {
     "data": {
      "text/plain": [
       "{1121227772: 4, 1127325140: 3, 1158167855: 0, 1163902177: 1, 1170695740: 2}"
      ]
     },
     "execution_count": 14,
     "metadata": {},
     "output_type": "execute_result"
    }
   ],
   "source": [
    "conference_label_mapping"
   ]
  },
  {
   "cell_type": "code",
   "execution_count": 17,
   "metadata": {},
   "outputs": [],
   "source": [
    "with open(dataset_path + 'coauthor_networkx.p', 'wb') as pickle_file:\n",
    "    pickle.dump(coauthor_graph, pickle_file)"
   ]
  },
  {
   "cell_type": "code",
   "execution_count": null,
   "metadata": {
    "collapsed": true
   },
   "outputs": [],
   "source": []
  }
 ],
 "metadata": {
  "kernelspec": {
   "display_name": "Python 3",
   "language": "python",
   "name": "python3"
  },
  "language_info": {
   "codemirror_mode": {
    "name": "ipython",
    "version": 3
   },
   "file_extension": ".py",
   "mimetype": "text/x-python",
   "name": "python",
   "nbconvert_exporter": "python",
   "pygments_lexer": "ipython3",
   "version": "3.6.3"
  }
 },
 "nbformat": 4,
 "nbformat_minor": 2
}
